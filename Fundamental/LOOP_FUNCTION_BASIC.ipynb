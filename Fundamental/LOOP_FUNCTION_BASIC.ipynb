{
  "nbformat": 4,
  "nbformat_minor": 0,
  "metadata": {
    "colab": {
      "provenance": []
    },
    "kernelspec": {
      "name": "python3",
      "display_name": "Python 3"
    },
    "language_info": {
      "name": "python"
    }
  },
  "cells": [
    {
      "cell_type": "code",
      "execution_count": 2,
      "metadata": {
        "colab": {
          "base_uri": "https://localhost:8080/"
        },
        "id": "ed1y3aXDv_3j",
        "outputId": "edbb680c-70a7-4880-926f-e957b12e2e8f"
      },
      "outputs": [
        {
          "output_type": "execute_result",
          "data": {
            "text/plain": [
              "5"
            ]
          },
          "metadata": {},
          "execution_count": 2
        }
      ],
      "source": [
        "expenses= [100,200,300,400,500]\n",
        "\n",
        "len(expenses)"
      ]
    },
    {
      "cell_type": "code",
      "source": [
        "range (len(expenses))"
      ],
      "metadata": {
        "colab": {
          "base_uri": "https://localhost:8080/"
        },
        "id": "oiMgwBwtwJDg",
        "outputId": "2f22c2c4-6183-4878-c470-fabf9fc53eee"
      },
      "execution_count": 4,
      "outputs": [
        {
          "output_type": "execute_result",
          "data": {
            "text/plain": [
              "range(0, 5)"
            ]
          },
          "metadata": {},
          "execution_count": 4
        }
      ]
    },
    {
      "cell_type": "code",
      "source": [
        "total_expense= 0\n",
        "for i in range(len(expenses)) :\n",
        "  expense=expenses[i]\n",
        "  print(f\"Month {i+1} salary is: {expense}\" )\n",
        "  total_expense=total_expense+expense\n",
        "\n",
        "print (f\"Total salary :\",total_expense)\n",
        "\n"
      ],
      "metadata": {
        "colab": {
          "base_uri": "https://localhost:8080/"
        },
        "id": "6hzH6YBGwfg-",
        "outputId": "bc1bf086-1168-4cb6-8e3d-4083ebcb7a0b"
      },
      "execution_count": 31,
      "outputs": [
        {
          "output_type": "stream",
          "name": "stdout",
          "text": [
            "Month 1 salary is: 100\n",
            "Month 2 salary is: 200\n",
            "Month 3 salary is: 300\n",
            "Month 4 salary is: 400\n",
            "Month 5 salary is: 500\n",
            "Total salary : 1500\n"
          ]
        }
      ]
    },
    {
      "cell_type": "markdown",
      "source": [],
      "metadata": {
        "id": "gSe7KqQB4w1y"
      }
    },
    {
      "cell_type": "code",
      "source": [],
      "metadata": {
        "id": "_CQSqJsYwjyF"
      },
      "execution_count": null,
      "outputs": []
    },
    {
      "cell_type": "code",
      "source": [
        "total_expenses= 0\n",
        "for i in (expenses) :\n",
        "  #expense=expenses[i]\n",
        "  print(f\"Month {i+1} salary is: {i}\" )\n",
        "\n"
      ],
      "metadata": {
        "colab": {
          "base_uri": "https://localhost:8080/"
        },
        "outputId": "c67b0df1-7e44-45ca-d909-e7620601ee57",
        "id": "M0NhcLrtx9y8"
      },
      "execution_count": 22,
      "outputs": [
        {
          "output_type": "stream",
          "name": "stdout",
          "text": [
            "Month 101 salary is: 100\n",
            "Month 201 salary is: 200\n",
            "Month 301 salary is: 300\n",
            "Month 401 salary is: 400\n",
            "Month 501 salary is: 500\n"
          ]
        }
      ]
    },
    {
      "cell_type": "markdown",
      "source": [
        "### **Function**\n"
      ],
      "metadata": {
        "id": "PdhtfYHu4ypd"
      }
    },
    {
      "cell_type": "code",
      "source": [
        "def square(x) :\n",
        "  return x**2\n",
        "print(square(10))"
      ],
      "metadata": {
        "colab": {
          "base_uri": "https://localhost:8080/"
        },
        "id": "8v3q95LJ42BX",
        "outputId": "3b659447-70c4-42c8-8c9e-a605c48a8e81"
      },
      "execution_count": 41,
      "outputs": [
        {
          "output_type": "stream",
          "name": "stdout",
          "text": [
            "100\n"
          ]
        }
      ]
    },
    {
      "cell_type": "code",
      "source": [
        "def square(x):\n",
        "    return x**2\n",
        "\n",
        "numbers = [5, 10, 25]\n",
        "squared_numbers = []\n",
        "\n",
        "for num in numbers:\n",
        "    squared_numbers.append(square(num))\n",
        "\n",
        "print(squared_numbers)  # Output: [25, 100, 625]\n"
      ],
      "metadata": {
        "id": "bilno1vw5rZY"
      },
      "execution_count": null,
      "outputs": []
    },
    {
      "cell_type": "code",
      "source": [
        "Tanji= [1000,2000,3000,400]\n",
        "Evan=[900,100,2000,3000]"
      ],
      "metadata": {
        "id": "710cFEK27QLt"
      },
      "execution_count": 42,
      "outputs": []
    },
    {
      "cell_type": "code",
      "source": [
        "def salary(x):\n",
        "  total_salary=0\n",
        "  for i in x:\n",
        "    total_salary=total_salary+i\n",
        "  return total_salary ## Must reuturn function !\n",
        "  ## Should be outside loop cause other wise it will store first iteration.\n",
        "\n",
        "print(salary(Evan))"
      ],
      "metadata": {
        "colab": {
          "base_uri": "https://localhost:8080/"
        },
        "id": "xA2uqQfN7Y-M",
        "outputId": "6be8d649-7852-4c7a-e45f-6ef9ee7be47d"
      },
      "execution_count": 52,
      "outputs": [
        {
          "output_type": "stream",
          "name": "stdout",
          "text": [
            "6000\n"
          ]
        }
      ]
    },
    {
      "cell_type": "markdown",
      "source": [
        "## **LAMBDA,MAP,FIlTER**\n"
      ],
      "metadata": {
        "id": "6BQxtuBgEzY_"
      }
    },
    {
      "cell_type": "code",
      "source": [
        "t= lambda x: x*2\n",
        "a=[1,2,3,4,5,6,7,8]\n",
        "\n",
        "list(map(t,a))"
      ],
      "metadata": {
        "colab": {
          "base_uri": "https://localhost:8080/"
        },
        "id": "-qXpk8_FE6Xs",
        "outputId": "0597918c-b613-4292-bf19-cc1c8b43c545"
      },
      "execution_count": 54,
      "outputs": [
        {
          "output_type": "execute_result",
          "data": {
            "text/plain": [
              "[2, 4, 6, 8, 10, 12, 14, 16]"
            ]
          },
          "metadata": {},
          "execution_count": 54
        }
      ]
    },
    {
      "cell_type": "code",
      "source": [
        "list(filter(lambda x:x%2==0 ,a))"
      ],
      "metadata": {
        "colab": {
          "base_uri": "https://localhost:8080/"
        },
        "id": "An1lmBHw7dXD",
        "outputId": "a345a18b-1804-41b5-af57-746314065c34"
      },
      "execution_count": 55,
      "outputs": [
        {
          "output_type": "execute_result",
          "data": {
            "text/plain": [
              "[2, 4, 6, 8]"
            ]
          },
          "metadata": {},
          "execution_count": 55
        }
      ]
    },
    {
      "cell_type": "code",
      "source": [
        "list(map(lambda x:x%2==0 ,a))"
      ],
      "metadata": {
        "colab": {
          "base_uri": "https://localhost:8080/"
        },
        "id": "BAktnzwEFU-z",
        "outputId": "02a2e2c1-6b27-4154-f8e4-1e0f314d9e0b"
      },
      "execution_count": 56,
      "outputs": [
        {
          "output_type": "execute_result",
          "data": {
            "text/plain": [
              "[False, True, False, True, False, True, False, True]"
            ]
          },
          "metadata": {},
          "execution_count": 56
        }
      ]
    }
  ]
}