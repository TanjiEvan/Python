{
  "nbformat": 4,
  "nbformat_minor": 0,
  "metadata": {
    "colab": {
      "provenance": []
    },
    "kernelspec": {
      "name": "python3",
      "display_name": "Python 3"
    },
    "language_info": {
      "name": "python"
    }
  },
  "cells": [
    {
      "cell_type": "markdown",
      "source": [
        "## **Loop problems:**"
      ],
      "metadata": {
        "id": "H09p2BscXNYf"
      }
    },
    {
      "cell_type": "markdown",
      "source": [
        "1.Write a Python program to print the following pattern.\n",
        "\n",
        "1 2 3 4 5\n",
        "\n",
        "1 2 3 4\n",
        "\n",
        "1 2 3\n",
        "\n",
        "1 2\n",
        "\n",
        "1\n"
      ],
      "metadata": {
        "id": "98vzFz9kXS51"
      }
    },
    {
      "cell_type": "code",
      "source": [
        "n=5\n",
        "\n",
        "for i in range(n,0,-1) :\n",
        "  for j in range(1, i+1 , 1):\n",
        "    print ( j ,end =\" \")\n",
        "  print ()\n",
        "\n"
      ],
      "metadata": {
        "colab": {
          "base_uri": "https://localhost:8080/"
        },
        "id": "ElT8PLCIXRZ7",
        "outputId": "a87a863d-db9d-492c-96a7-3809e3be09fa"
      },
      "execution_count": null,
      "outputs": [
        {
          "output_type": "stream",
          "name": "stdout",
          "text": [
            "1 2 3 4 5 \n",
            "1 2 3 4 \n",
            "1 2 3 \n",
            "1 2 \n",
            "1 \n"
          ]
        }
      ]
    },
    {
      "cell_type": "code",
      "source": [
        "\n",
        "for i in range (0,6,1):\n",
        "  for j in range (1,i+1,1):\n",
        "    print (j, end=\" \")\n",
        "  print()"
      ],
      "metadata": {
        "colab": {
          "base_uri": "https://localhost:8080/"
        },
        "id": "glU5Nbo2dXDr",
        "outputId": "4a0dd743-eb16-4af2-a87f-db48f62610fa"
      },
      "execution_count": null,
      "outputs": [
        {
          "output_type": "stream",
          "name": "stdout",
          "text": [
            "\n",
            "1 \n",
            "1 2 \n",
            "1 2 3 \n",
            "1 2 3 4 \n",
            "1 2 3 4 5 \n"
          ]
        }
      ]
    },
    {
      "cell_type": "markdown",
      "source": [
        "2. Write a Python program to find the sum of all the numbers except odd numbers\n",
        "between 1 and 20 using a loop. Can you also do this using a while loop?"
      ],
      "metadata": {
        "id": "qP7Q8zEadv5L"
      }
    },
    {
      "cell_type": "code",
      "source": [
        "##Method1\n",
        "sum=0\n",
        "for i in range(1,21):\n",
        "  if i%2!=0 :\n",
        "    continue\n",
        "  else:\n",
        "    sum= sum+i\n",
        "\n",
        "print (sum)\n"
      ],
      "metadata": {
        "colab": {
          "base_uri": "https://localhost:8080/"
        },
        "id": "YOLFSUL5d2NG",
        "outputId": "7fc2c71f-c26f-41f7-ba10-df0530224944"
      },
      "execution_count": null,
      "outputs": [
        {
          "output_type": "stream",
          "name": "stdout",
          "text": [
            "110\n"
          ]
        }
      ]
    },
    {
      "cell_type": "code",
      "source": [
        "##Method2\n",
        "sum=0\n",
        "for i in range(1,21):\n",
        "  if i%2==0 :\n",
        "    sum= sum+i\n",
        "\n",
        "print (sum)\n",
        "\n"
      ],
      "metadata": {
        "colab": {
          "base_uri": "https://localhost:8080/"
        },
        "id": "37yFzYHvglCY",
        "outputId": "b8e1b81f-2054-4e4e-d560-6fdfcc57a17e"
      },
      "execution_count": null,
      "outputs": [
        {
          "output_type": "stream",
          "name": "stdout",
          "text": [
            "110\n"
          ]
        }
      ]
    },
    {
      "cell_type": "code",
      "source": [
        "##Method3\n",
        "numbers= list(range(0,22,2))\n",
        "print(numbers)\n",
        "sum = 0\n",
        "for i in range(len(numbers)) :\n",
        "  number = numbers[i]\n",
        "  sum= sum+number\n",
        "print(sum)"
      ],
      "metadata": {
        "colab": {
          "base_uri": "https://localhost:8080/"
        },
        "id": "wRp8Zfbsf9LC",
        "outputId": "cd9e3dfb-18fa-4eda-b9a5-274c5fc2d1aa"
      },
      "execution_count": null,
      "outputs": [
        {
          "output_type": "stream",
          "name": "stdout",
          "text": [
            "[0, 2, 4, 6, 8, 10, 12, 14, 16, 18, 20]\n",
            "110\n"
          ]
        }
      ]
    },
    {
      "cell_type": "code",
      "source": [
        "##Using While Loop\n",
        "\n",
        "i=1\n",
        "sum=0\n",
        "\n",
        "while i<=20 :\n",
        "  if i%2==0 :\n",
        "    sum=sum+i\n",
        "  i=i+1\n",
        "print (sum)\n"
      ],
      "metadata": {
        "colab": {
          "base_uri": "https://localhost:8080/"
        },
        "id": "XW7dRDy4h0dB",
        "outputId": "50f2721f-1959-4c13-d918-f583b909806e"
      },
      "execution_count": null,
      "outputs": [
        {
          "output_type": "stream",
          "name": "stdout",
          "text": [
            "110\n"
          ]
        }
      ]
    },
    {
      "cell_type": "markdown",
      "source": [
        "3.After throwing the dice several times, you got this result,\n",
        "dice_result = **[5,6,4,2,5,4,4,5,3,3,2,6,1,2,1,1,6,5]**\n",
        "\n",
        "Using a for loop find out the followings:\n",
        "1. How many times have you got 6s\n",
        "2. How many times have you got 1s\n",
        "3. How many times have you got 6s two times in a row"
      ],
      "metadata": {
        "id": "f-GTkxU5kGJg"
      }
    },
    {
      "cell_type": "code",
      "source": [
        "dice_result = [5,6,4,2,5,4,4,5,3,3,2,6,1,2,1,1,6,5]"
      ],
      "metadata": {
        "id": "wbAvB9UkkM6I"
      },
      "execution_count": null,
      "outputs": []
    },
    {
      "cell_type": "code",
      "source": [
        "#1_How many times have you got 6s\n",
        "count = 0\n",
        "for i in dice_result :\n",
        "  if i == 6 :\n",
        "    count = count +1\n",
        "print (count)"
      ],
      "metadata": {
        "colab": {
          "base_uri": "https://localhost:8080/"
        },
        "id": "FnZkbpV3lBd3",
        "outputId": "67bf738c-f7b3-41ff-8c7c-5801d567d3ff"
      },
      "execution_count": null,
      "outputs": [
        {
          "output_type": "stream",
          "name": "stdout",
          "text": [
            "3\n"
          ]
        }
      ]
    },
    {
      "cell_type": "code",
      "source": [
        "#2_How many times have you got 1s\n",
        "count = 0\n",
        "for i in dice_result :\n",
        "  if i == 1 :\n",
        "    count = count +1\n",
        "print (count)"
      ],
      "metadata": {
        "colab": {
          "base_uri": "https://localhost:8080/"
        },
        "id": "0G6wJHTZmQWA",
        "outputId": "1d1a5c5c-9e5f-466d-e1b2-c0ef9565d257"
      },
      "execution_count": null,
      "outputs": [
        {
          "output_type": "stream",
          "name": "stdout",
          "text": [
            "3\n"
          ]
        }
      ]
    },
    {
      "cell_type": "code",
      "source": [
        "#3_How many times have you got 6s two times in a row\n",
        "count = 0\n",
        "for i in range(len(dice_result) - 1):\n",
        "    if dice_result[i] == 6 and dice_result[i + 1] == 6:\n",
        "        count = count+ 1\n",
        "\n",
        "print(count)\n"
      ],
      "metadata": {
        "colab": {
          "base_uri": "https://localhost:8080/"
        },
        "id": "zscE2QYlmaS9",
        "outputId": "8ec947d9-018d-45f5-f08c-d5c6ad132a72"
      },
      "execution_count": null,
      "outputs": [
        {
          "output_type": "stream",
          "name": "stdout",
          "text": [
            "0\n"
          ]
        }
      ]
    },
    {
      "cell_type": "markdown",
      "source": [
        "4.Let's say you are doing push-ups and you have to complete 50 push-ups daily,\n",
        "write a program that,\n",
        "\n",
        "1. Upon completing 10 push-ups in a go, asks you, “Are you tired?”\n",
        "\n",
        "2. If you reply “yes” or “y” then it should break and print “You did total push-\n",
        "ups.”\n",
        "\n",
        "For example: If you did only 30 push-ups and answered “yes” to your\n",
        "\n",
        "program. It will break the loop and print “You did a total of 30 push-\n",
        "ups**”**\n",
        "\n",
        "3. If you reply “no” or “n” then it should continue and display how many push-\n",
        "ups are remaining now after that ask you again “Are you tired?”\n",
        "\n",
        "For Example: if you answered “no” then it should display that 20 push-ups\n",
        "are remaining and ask you again “Are you tired?”\n",
        "4. If you complete all 50 push-ups, then it should print the “Congratulations!\n",
        "You made it” and stopped the program."
      ],
      "metadata": {
        "id": "Je40o953ndbj"
      }
    },
    {
      "cell_type": "code",
      "source": [
        "pushup= 0\n",
        "ans=\"\"\n",
        "\n",
        "while True:\n",
        "  print(\"Doing push-ups\")\n",
        "  pushup=pushup+1\n",
        "  if pushup == 50 :\n",
        "    print(\"Congrats,You have made it!\")\n",
        "    break\n",
        "  elif pushup%10 == 0:\n",
        "    ans=input(\"Are you tired? (yes/no)\")\n",
        "    if ans[0].lower()== \"y\":\n",
        "      break\n",
        "    else:\n",
        "      print(f\"{50-pushup} push-ups remaining\")\n",
        "\n",
        "\n",
        "print (f\"You did total {pushup} Push-ups today!\")\n",
        "\n",
        "\n",
        "\n"
      ],
      "metadata": {
        "colab": {
          "base_uri": "https://localhost:8080/"
        },
        "id": "PHMLwSRiniQT",
        "outputId": "7bfdb111-07b1-4d46-ac90-9d050c12a076"
      },
      "execution_count": null,
      "outputs": [
        {
          "output_type": "stream",
          "name": "stdout",
          "text": [
            "Doing push-ups\n",
            "Doing push-ups\n",
            "Doing push-ups\n",
            "Doing push-ups\n",
            "Doing push-ups\n",
            "Doing push-ups\n",
            "Doing push-ups\n",
            "Doing push-ups\n",
            "Doing push-ups\n",
            "Doing push-ups\n",
            "Are you tired? (yes/no)yes\n",
            "You did total 10 Push-ups today!\n"
          ]
        }
      ]
    },
    {
      "cell_type": "markdown",
      "source": [
        "## **Functions problems:**"
      ],
      "metadata": {
        "id": "M3tVNw0i2C4k"
      }
    },
    {
      "cell_type": "markdown",
      "source": [
        "1. Write a python function to check if any given number is a prime number and odd\n",
        "number?"
      ],
      "metadata": {
        "id": "J4X9Ir512Iv-"
      }
    },
    {
      "cell_type": "code",
      "source": [
        "def odd_prime(x):\n",
        "  if x%2 ==0:\n",
        "    return False\n",
        "  elif x<2:\n",
        "    return False\n",
        "\n",
        "  for i in range (2,x) :\n",
        "    if x%i == 0:\n",
        "      return False\n",
        "\n",
        "  return True\n"
      ],
      "metadata": {
        "id": "zfcWzpYh2IT7"
      },
      "execution_count": 51,
      "outputs": []
    },
    {
      "cell_type": "code",
      "source": [
        "x= int(input(\"Please Enter a Number: \"))\n",
        "odd_prime(x)"
      ],
      "metadata": {
        "colab": {
          "base_uri": "https://localhost:8080/"
        },
        "id": "D4RpRrWm6jRF",
        "outputId": "6a808b0d-b327-480d-bd74-4c4f099dc61d"
      },
      "execution_count": 52,
      "outputs": [
        {
          "name": "stdout",
          "output_type": "stream",
          "text": [
            "Please Enter a Number: 9\n"
          ]
        },
        {
          "output_type": "execute_result",
          "data": {
            "text/plain": [
              "False"
            ]
          },
          "metadata": {},
          "execution_count": 52
        }
      ]
    },
    {
      "cell_type": "markdown",
      "source": [
        "2. Write a python function that will take n as input and print the pattern of n rows. If\n",
        "the n is even, then print it flipped."
      ],
      "metadata": {
        "id": "8sjg4pUO7yOS"
      }
    },
    {
      "cell_type": "code",
      "source": [
        "def pattern(n) :\n",
        "\n",
        "  if n%2 !=0:\n",
        "\n",
        "    for i in range (1,n+1,1):\n",
        "      for j in range (1,i+1,1):\n",
        "        print (\"*\", end=\" \")\n",
        "      print()\n",
        "\n",
        "  else:\n",
        "    for i in range(n,0,-1) :\n",
        "      for j in range(1, i+1 , 1):\n",
        "        print ( \"*\" ,end =\" \")\n",
        "      print ()"
      ],
      "metadata": {
        "id": "83kf4WF57zeB"
      },
      "execution_count": 70,
      "outputs": []
    },
    {
      "cell_type": "code",
      "source": [
        "n=int(input(\"Enter a digit: \"))\n",
        "pattern(n)\n"
      ],
      "metadata": {
        "colab": {
          "base_uri": "https://localhost:8080/"
        },
        "id": "yF6Fubh99rGs",
        "outputId": "372022e2-2bb6-4aba-eb40-163a12e5b73b"
      },
      "execution_count": 71,
      "outputs": [
        {
          "output_type": "stream",
          "name": "stdout",
          "text": [
            "Enter a digit: 3\n",
            "* \n",
            "* * \n",
            "* * * \n"
          ]
        }
      ]
    },
    {
      "cell_type": "markdown",
      "source": [
        "3. Master Yoda speaks a sentence in a different order. Let's say you want to\n",
        "convert a sentence to Yoda’s speech. Write a function named master_yoda\n",
        "which will take a string as input and return the output after reversing the words of\n",
        "the sentence."
      ],
      "metadata": {
        "id": "EU5zSBBTA0eC"
      }
    },
    {
      "cell_type": "code",
      "source": [
        "def master_yoda(sentence):\n",
        "    words = sentence.split()\n",
        "    reversed_words = list(reversed(words))\n",
        "    reversed_string = \" \".join(reversed_words)\n",
        "    return reversed_string\n",
        "\n",
        "sentence = input(\"Enter a Sentence: \")\n",
        "print(master_yoda(sentence))\n"
      ],
      "metadata": {
        "colab": {
          "base_uri": "https://localhost:8080/"
        },
        "id": "rXj47ascCubJ",
        "outputId": "55b15850-03d6-4862-f140-d4402ba416fb"
      },
      "execution_count": 93,
      "outputs": [
        {
          "output_type": "stream",
          "name": "stdout",
          "text": [
            "Enter a Sentence: The end is near\n",
            "near is end The\n"
          ]
        }
      ]
    },
    {
      "cell_type": "markdown",
      "source": [
        "Write a function pay_bill which will take a list of expenses, percent commission,\n",
        "and a special offer amount\n",
        "\n",
        "1.If you don’t pass percent_commission it should be always 9.8%\n",
        "\n",
        "2.The Last argument special_offer_amount is not a required argument, you\n",
        "don’t need to pass it. Make it an optional parameter.\n",
        "\n",
        "3.If you want to give a special offer to the user, then you have to pass the\n",
        "third argument special_offer_amount. If the user makes the purchase\n",
        "greater than special_offer_amount, then give him an extra commission of\n",
        "1.2%.\n",
        "\n",
        "4.Calculate the final payable price of the bill and return it from the function."
      ],
      "metadata": {
        "id": "kE5BEKcHFjdi"
      }
    },
    {
      "cell_type": "code",
      "source": [
        "def pay_bill(expenses,p_commission=0.098,offer_amount=None):\n",
        "  total_bill=0\n",
        "  for amount in expenses:\n",
        "    total_bill = total_bill  + amount\n",
        "\n",
        "  extra_commission=0\n",
        "  if offer_amount !=None :\n",
        "    if total_bill >= offer_amount:\n",
        "        extra_commission = 0.012\n",
        "        print(f\"You earned extra 1.2% extra commission!\")\n",
        "\n",
        "  commission_amount=total_bill * (p_commission +extra_commission)\n",
        "  final_amount= total_bill - commission_amount\n",
        "  return final_amount\n"
      ],
      "metadata": {
        "id": "FHB0FDU3Fuf_"
      },
      "execution_count": 97,
      "outputs": []
    },
    {
      "cell_type": "code",
      "source": [
        "pay_bill([100,120,130])"
      ],
      "metadata": {
        "colab": {
          "base_uri": "https://localhost:8080/"
        },
        "id": "I0fsKofXIMVE",
        "outputId": "5d593d21-57a6-4ed7-c5fa-898d15342790"
      },
      "execution_count": 100,
      "outputs": [
        {
          "output_type": "execute_result",
          "data": {
            "text/plain": [
              "315.7"
            ]
          },
          "metadata": {},
          "execution_count": 100
        }
      ]
    },
    {
      "cell_type": "code",
      "source": [
        "pay_bill([100,200,300,400,500],offer_amount=900)"
      ],
      "metadata": {
        "colab": {
          "base_uri": "https://localhost:8080/"
        },
        "id": "rm-GQtMgJCcu",
        "outputId": "2e729511-7a3c-40f7-d39b-8952cd4d9e1b"
      },
      "execution_count": 101,
      "outputs": [
        {
          "output_type": "stream",
          "name": "stdout",
          "text": [
            "You earned extra 1.2% extra commission!\n"
          ]
        },
        {
          "output_type": "execute_result",
          "data": {
            "text/plain": [
              "1335.0"
            ]
          },
          "metadata": {},
          "execution_count": 101
        }
      ]
    },
    {
      "cell_type": "code",
      "source": [
        "pay_bill([100,200,300,600],p_commission=0.1,offer_amount=1500)"
      ],
      "metadata": {
        "colab": {
          "base_uri": "https://localhost:8080/"
        },
        "id": "ACo7E5V0JUM5",
        "outputId": "a6a3ee75-9595-4e22-c332-0299d2628e9a"
      },
      "execution_count": 103,
      "outputs": [
        {
          "output_type": "execute_result",
          "data": {
            "text/plain": [
              "1080.0"
            ]
          },
          "metadata": {},
          "execution_count": 103
        }
      ]
    }
  ]
}