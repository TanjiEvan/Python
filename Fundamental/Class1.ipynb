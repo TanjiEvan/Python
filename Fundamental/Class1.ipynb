{
 "cells": [
  {
   "cell_type": "markdown",
   "metadata": {},
   "source": [
    "Create a variable named pi and store the value 22/7 in it. Now check the data type of this variable"
   ]
  },
  {
   "cell_type": "code",
   "execution_count": 8,
   "metadata": {},
   "outputs": [
    {
     "name": "stdout",
     "output_type": "stream",
     "text": [
      "3.142857142857143\n",
      "<class 'float'>\n",
      "float\n"
     ]
    }
   ],
   "source": [
    "pi= 22/7\n",
    "print(pi)\n",
    "print(type(pi))\n",
    "print(type(pi).__name__) #type(pi).__name__,returns the name of the class as a string.\n"
   ]
  },
  {
   "cell_type": "markdown",
   "metadata": {},
   "source": [
    "Create a variable called for and assign it a value 4. See what happens and find out the reason behind the behavior that you see"
   ]
  },
  {
   "cell_type": "code",
   "execution_count": 9,
   "metadata": {},
   "outputs": [
    {
     "ename": "SyntaxError",
     "evalue": "invalid syntax (3313718300.py, line 1)",
     "output_type": "error",
     "traceback": [
      "\u001b[1;36m  Cell \u001b[1;32mIn[9], line 1\u001b[1;36m\u001b[0m\n\u001b[1;33m    for=4\u001b[0m\n\u001b[1;37m       ^\u001b[0m\n\u001b[1;31mSyntaxError\u001b[0m\u001b[1;31m:\u001b[0m invalid syntax\n"
     ]
    }
   ],
   "source": [
    "for=4 \n",
    "print (for)\n",
    "\n",
    "## This will give an error , cause for is a keyword reserved in python hence it cant be declared as a variable !"
   ]
  },
  {
   "cell_type": "markdown",
   "metadata": {},
   "source": [
    "Store the principal amount (P), rate of interest (R), and time(T) in different variables and then calculate the Simple Interest for 3 years (T)"
   ]
  },
  {
   "cell_type": "code",
   "execution_count": 17,
   "metadata": {},
   "outputs": [
    {
     "name": "stdout",
     "output_type": "stream",
     "text": [
      "750.0\n"
     ]
    },
    {
     "name": "stdout",
     "output_type": "stream",
     "text": [
      "750.0\n"
     ]
    }
   ],
   "source": [
    "## Without User Input ##\n",
    "P=500\n",
    "R=50\n",
    "T=3\n",
    "I= (P*R*T)/100\n",
    "print(I)\n",
    "\n",
    "## With User Input ##\n",
    "PA=float(input(\"Enter the principal amount: \")) ##Input as string by default so type casting it to float\n",
    "RI=float(input(\"Enter the rate of interest: \"))\n",
    "TI=3\n",
    "\n",
    "SI=(PA*RI*TI)/100\n",
    "print(SI)"
   ]
  },
  {
   "cell_type": "markdown",
   "metadata": {},
   "source": [
    "If you cross a 490-meter-long street in 7 minutes, then what is your speed in meters per second? Print your answer without any decimal point in it (Use format() function)."
   ]
  },
  {
   "cell_type": "code",
   "execution_count": 23,
   "metadata": {},
   "outputs": [
    {
     "name": "stdout",
     "output_type": "stream",
     "text": [
      "1.1666666666666667\n",
      "1\n"
     ]
    }
   ],
   "source": [
    "D=490\n",
    "T=7*60 # 1min=60sec\n",
    "S=D/T \n",
    "print(S) #With Decimal \n",
    "print(format(int(S))) ##Without decimal using format() function "
   ]
  },
  {
   "cell_type": "markdown",
   "metadata": {},
   "source": [
    "Create two variables to store how many fruits and vegetables you eat in a day. Now Print \"I eat x vegetables and y fruits daily\" where x and y present vegetables and fruits that you eat every day. Use python f string for this"
   ]
  },
  {
   "cell_type": "code",
   "execution_count": 26,
   "metadata": {},
   "outputs": [
    {
     "name": "stdout",
     "output_type": "stream",
     "text": [
      "I eat 3 vegetables and 2 fruits daily\n"
     ]
    }
   ],
   "source": [
    "x=3\n",
    "y=2\n",
    "\n",
    "print(f\"I eat {x} vegetables and {y} fruits daily\")"
   ]
  },
  {
   "cell_type": "markdown",
   "metadata": {},
   "source": [
    "You have created a string variable called string= ”There are 9 planets in the solar system”. After some time, you have realized that your sentence is incorrect and there are only 8 planets, now correct your sentence by replacing the incorrect words."
   ]
  },
  {
   "cell_type": "code",
   "execution_count": 28,
   "metadata": {},
   "outputs": [
    {
     "name": "stdout",
     "output_type": "stream",
     "text": [
      "There are 9 planets in the solar system\n",
      "There are 8 planets in the solar system\n"
     ]
    }
   ],
   "source": [
    "string= \"There are 9 planets in the solar system\"\n",
    "print(string)\n",
    "new_string=string.replace(\"9\",\"8\")\n",
    "print(new_string)"
   ]
  },
  {
   "cell_type": "markdown",
   "metadata": {},
   "source": [
    "Write a program that can tell you your BMI Category.\n",
    "Ask user to enter height in Meter\n",
    "Ask user to enter weight in KG\n",
    "Calculate the BMI(Body Mass Index) = weight /(height)**2 and store it in a variable\n",
    "If the BMI is 30 or greater, print “Obesity”\n",
    "If the BMI is in between 25 and 29, print “Overweight”\n",
    "If the BMI is in between 18.5 and 25, print “Normal”\n",
    "If the BMI is less than 18.5, print “Underweight”\n"
   ]
  },
  {
   "cell_type": "code",
   "execution_count": 35,
   "metadata": {},
   "outputs": [
    {
     "name": "stdout",
     "output_type": "stream",
     "text": [
      "Normal\n"
     ]
    }
   ],
   "source": [
    "h=float(input(\"Enter Your Height\"))\n",
    "w=float(input(\"Enter Your Weight\"))\n",
    "\n",
    "BMI=w/(h)**2 \n",
    "\n",
    "if(BMI >= 30):\n",
    "    print(\"Obesity\")\n",
    "elif(25<= BMI <30):\n",
    "    print(\"Overwight\")\n",
    "elif(18.5 <= BMI <25):\n",
    "    print(\"Normal\")\n",
    "else:\n",
    "    print(\"Underweight\")\n",
    "                    "
   ]
  }
 ],
 "metadata": {
  "kernelspec": {
   "display_name": "Python 3",
   "language": "python",
   "name": "python3"
  },
  "language_info": {
   "codemirror_mode": {
    "name": "ipython",
    "version": 3
   },
   "file_extension": ".py",
   "mimetype": "text/x-python",
   "name": "python",
   "nbconvert_exporter": "python",
   "pygments_lexer": "ipython3",
   "version": "3.12.0"
  }
 },
 "nbformat": 4,
 "nbformat_minor": 2
}
