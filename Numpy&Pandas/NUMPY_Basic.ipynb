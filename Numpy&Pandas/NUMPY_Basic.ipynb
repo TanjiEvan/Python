{
  "cells": [
    {
      "cell_type": "code",
      "execution_count": 14,
      "metadata": {},
      "outputs": [],
      "source": [
        "import subprocess\n",
        "import sys\n",
        "\n",
        "# Function to install packages using pip\n",
        "def install(package):\n",
        "    subprocess.check_call([sys.executable, \"-m\", \"pip\", \"install\", package])\n",
        "\n",
        "# Install pandas and numpy\n",
        "install('pandas')\n",
        "install('numpy')\n"
      ]
    },
    {
      "cell_type": "code",
      "execution_count": 16,
      "metadata": {
        "id": "3UFhDtYcIXGx"
      },
      "outputs": [],
      "source": [
        "import numpy as np"
      ]
    },
    {
      "cell_type": "code",
      "execution_count": 17,
      "metadata": {
        "colab": {
          "base_uri": "https://localhost:8080/"
        },
        "id": "2RxEjntxJlSg",
        "outputId": "a52b9b8d-1733-4112-f616-506a18e9212a"
      },
      "outputs": [
        {
          "data": {
            "text/plain": [
              "array([[1, 2, 3],\n",
              "       [4, 5, 6],\n",
              "       [7, 8, 9]])"
            ]
          },
          "execution_count": 17,
          "metadata": {},
          "output_type": "execute_result"
        }
      ],
      "source": [
        "x=[[1,2,3],[4,5,6],[7,8,9]]\n",
        "x\n",
        "\n",
        "np.array(x) ##Prints the list as a Matrix !"
      ]
    },
    {
      "cell_type": "code",
      "execution_count": 18,
      "metadata": {
        "colab": {
          "base_uri": "https://localhost:8080/"
        },
        "id": "LSYcGAvpRbWZ",
        "outputId": "bf3e42a3-be69-463d-84ec-6f329166b2b9"
      },
      "outputs": [
        {
          "data": {
            "text/plain": [
              "array([2, 7, 8, 9, 5])"
            ]
          },
          "execution_count": 18,
          "metadata": {},
          "output_type": "execute_result"
        }
      ],
      "source": [
        "np.random.seed(101)\n",
        "np.random.randint (1,10,5)\n",
        "\n"
      ]
    },
    {
      "cell_type": "code",
      "execution_count": 19,
      "metadata": {
        "colab": {
          "base_uri": "https://localhost:8080/"
        },
        "id": "hNg_-b0kRyW2",
        "outputId": "d7f969ca-2d55-4ec3-d4f1-d33cf0f8d387"
      },
      "outputs": [
        {
          "data": {
            "text/plain": [
              "array([[2, 7, 8],\n",
              "       [9, 5, 9]])"
            ]
          },
          "execution_count": 19,
          "metadata": {},
          "output_type": "execute_result"
        }
      ],
      "source": [
        "np.random.seed(101) #same random number\n",
        "arr =np.random.randint (1,10,6) #random list\n",
        "arr.reshape(2,3) # Converts in Matrix"
      ]
    },
    {
      "cell_type": "code",
      "execution_count": null,
      "metadata": {
        "colab": {
          "base_uri": "https://localhost:8080/"
        },
        "id": "-LTwsnwyTM8N",
        "outputId": "c6bad923-91d6-4c51-87e4-e8a666512089"
      },
      "outputs": [
        {
          "data": {
            "text/plain": [
              "10"
            ]
          },
          "execution_count": 28,
          "metadata": {},
          "output_type": "execute_result"
        }
      ],
      "source": [
        "arr=np.arange(1, 11)\n",
        "arr_max=arr.max()\n",
        "arr_max\n"
      ]
    },
    {
      "cell_type": "code",
      "execution_count": null,
      "metadata": {
        "colab": {
          "base_uri": "https://localhost:8080/"
        },
        "id": "sCI-QGkLUJMr",
        "outputId": "d8491635-2c61-4e8b-9b33-6d31c4bb73e8"
      },
      "outputs": [
        {
          "data": {
            "text/plain": [
              "1"
            ]
          },
          "execution_count": 29,
          "metadata": {},
          "output_type": "execute_result"
        }
      ],
      "source": [
        "arr_min=arr.min()\n",
        "arr_min"
      ]
    },
    {
      "cell_type": "code",
      "execution_count": null,
      "metadata": {
        "colab": {
          "base_uri": "https://localhost:8080/"
        },
        "id": "KIdAk6EYTUwL",
        "outputId": "5907d50e-f84f-428b-f3b9-e3629ed449a4"
      },
      "outputs": [
        {
          "data": {
            "text/plain": [
              "9"
            ]
          },
          "execution_count": 31,
          "metadata": {},
          "output_type": "execute_result"
        }
      ],
      "source": [
        "arr.argmax() ##Which position holds max value"
      ]
    },
    {
      "cell_type": "code",
      "execution_count": null,
      "metadata": {
        "colab": {
          "base_uri": "https://localhost:8080/",
          "height": 70
        },
        "id": "g09O5N8cVvLO",
        "outputId": "b450f41d-8a6b-439c-c263-c1c86e4170b3"
      },
      "outputs": [
        {
          "name": "stdout",
          "output_type": "stream",
          "text": [
            "[ 1  5 10  2  3]\n"
          ]
        },
        {
          "data": {
            "application/vnd.google.colaboratory.intrinsic+json": {
              "type": "string"
            },
            "text/plain": [
              "' The array range(1, 11) contains integers from 1 to 10.\\nsize=5 specifies that you want to select 5 random elements from this array.\\nreplace=False ensures that the selected elements are unique. '"
            ]
          },
          "execution_count": 44,
          "metadata": {},
          "output_type": "execute_result"
        }
      ],
      "source": [
        "random_array = np.random.choice(range(1, 11), size=5, replace=False)\n",
        "print(random_array)\n",
        "\"\"\" The array range(1, 11) contains integers from 1 to 10.\n",
        "size=5 specifies that you want to select 5 random elements from this array.\n",
        "replace=False ensures that the selected elements are unique. \"\"\""
      ]
    },
    {
      "cell_type": "code",
      "execution_count": 9,
      "metadata": {
        "colab": {
          "base_uri": "https://localhost:8080/"
        },
        "id": "AZpe0ZMtWbMI",
        "outputId": "d9ea8268-b2cf-48d2-f6e9-3e49994e26b2"
      },
      "outputs": [
        {
          "data": {
            "text/plain": [
              "array([ 1,  2,  3,  4,  5,  6,  7,  8,  9, 10])"
            ]
          },
          "execution_count": 9,
          "metadata": {},
          "output_type": "execute_result"
        }
      ],
      "source": [
        "arr=np.arange(1,11)\n",
        "arr"
      ]
    },
    {
      "cell_type": "code",
      "execution_count": 10,
      "metadata": {
        "colab": {
          "base_uri": "https://localhost:8080/"
        },
        "id": "j8cleLW6YnAC",
        "outputId": "ae7913ae-7b78-4a62-f41e-d8fcdbb25b8b"
      },
      "outputs": [
        {
          "data": {
            "text/plain": [
              "array([1, 2, 3])"
            ]
          },
          "execution_count": 10,
          "metadata": {},
          "output_type": "execute_result"
        }
      ],
      "source": [
        "arr[ :3] ##first 3 element print"
      ]
    },
    {
      "cell_type": "code",
      "execution_count": 12,
      "metadata": {
        "colab": {
          "base_uri": "https://localhost:8080/"
        },
        "id": "LpFZymjAYxaQ",
        "outputId": "8fdded21-d28c-4a0b-e0d8-029e057ba3d7"
      },
      "outputs": [
        {
          "data": {
            "text/plain": [
              "array([ 4,  5,  6,  7,  8,  9, 10])"
            ]
          },
          "execution_count": 12,
          "metadata": {},
          "output_type": "execute_result"
        }
      ],
      "source": [
        "arr[3:] ##print except frist 3 elements"
      ]
    },
    {
      "cell_type": "code",
      "execution_count": 14,
      "metadata": {
        "colab": {
          "base_uri": "https://localhost:8080/"
        },
        "id": "QN2vFkLwY9iq",
        "outputId": "478b6fab-07ba-4b06-8ab5-0880ebd1ddf2"
      },
      "outputs": [
        {
          "data": {
            "text/plain": [
              "array([4, 5, 6])"
            ]
          },
          "execution_count": 14,
          "metadata": {},
          "output_type": "execute_result"
        }
      ],
      "source": [
        "arr[3:6]"
      ]
    },
    {
      "cell_type": "code",
      "execution_count": 17,
      "metadata": {
        "colab": {
          "base_uri": "https://localhost:8080/"
        },
        "id": "S-jUEqwyZsHZ",
        "outputId": "fb24f437-eb82-415a-abdd-acd76b88de44"
      },
      "outputs": [
        {
          "data": {
            "text/plain": [
              "array([ 2,  4,  6,  8, 10])"
            ]
          },
          "execution_count": 17,
          "metadata": {},
          "output_type": "execute_result"
        }
      ],
      "source": [
        "arr [1:10:2] ##steps"
      ]
    },
    {
      "cell_type": "code",
      "execution_count": 18,
      "metadata": {
        "colab": {
          "base_uri": "https://localhost:8080/"
        },
        "id": "-VIW0qSZaKBo",
        "outputId": "218de8df-9507-441f-d07a-8bf39d67d156"
      },
      "outputs": [
        {
          "data": {
            "text/plain": [
              "array([ 2,  4,  6,  8, 10])"
            ]
          },
          "execution_count": 18,
          "metadata": {},
          "output_type": "execute_result"
        }
      ],
      "source": [
        "arr[1::2]"
      ]
    },
    {
      "cell_type": "code",
      "execution_count": 19,
      "metadata": {
        "colab": {
          "base_uri": "https://localhost:8080/"
        },
        "id": "OY6v0Z2aaQQJ",
        "outputId": "d8035604-70cc-4065-94dd-df29cf4e54bc"
      },
      "outputs": [
        {
          "data": {
            "text/plain": [
              "array([1, 3, 5])"
            ]
          },
          "execution_count": 19,
          "metadata": {},
          "output_type": "execute_result"
        }
      ],
      "source": [
        "arr[:6:2]"
      ]
    },
    {
      "cell_type": "code",
      "execution_count": 20,
      "metadata": {
        "colab": {
          "base_uri": "https://localhost:8080/"
        },
        "id": "m4F3CPqlaWda",
        "outputId": "e8b007ed-0510-4abf-9070-f0cc6b7e3b59"
      },
      "outputs": [
        {
          "data": {
            "text/plain": [
              "array([1, 3, 5, 7, 9])"
            ]
          },
          "execution_count": 20,
          "metadata": {},
          "output_type": "execute_result"
        }
      ],
      "source": [
        "arr[::2]"
      ]
    },
    {
      "cell_type": "code",
      "execution_count": 23,
      "metadata": {
        "colab": {
          "base_uri": "https://localhost:8080/"
        },
        "id": "So1eiJ8vacYX",
        "outputId": "57f2f6d5-5b12-408b-dce0-111d7c0668dd"
      },
      "outputs": [
        {
          "data": {
            "text/plain": [
              "array([10,  8,  6,  4])"
            ]
          },
          "execution_count": 23,
          "metadata": {},
          "output_type": "execute_result"
        }
      ],
      "source": [
        "arr[10:1:-2] #Stop slicing at index 1 (the 2nd element), exclusive."
      ]
    },
    {
      "cell_type": "code",
      "execution_count": 30,
      "metadata": {
        "colab": {
          "base_uri": "https://localhost:8080/"
        },
        "id": "0XhZtT0tbGWv",
        "outputId": "0aec4a62-5d50-4223-8086-88a224621f97"
      },
      "outputs": [
        {
          "data": {
            "text/plain": [
              "array([9, 7, 5, 3])"
            ]
          },
          "execution_count": 30,
          "metadata": {},
          "output_type": "execute_result"
        }
      ],
      "source": [
        "arr[8:1:-2]"
      ]
    },
    {
      "cell_type": "markdown",
      "metadata": {
        "id": "4_BWDewEbtXF"
      },
      "source": [
        "##**Broadcast**\n",
        "\n",
        "*   Replaces Values in an array\n",
        "*   Prblm : Replaces the main array\n",
        "\n"
      ]
    },
    {
      "cell_type": "code",
      "execution_count": 39,
      "metadata": {
        "colab": {
          "base_uri": "https://localhost:8080/"
        },
        "id": "VhWPFraJdIVr",
        "outputId": "0463b9cd-8632-4b9e-f2ca-efcf98412ba6"
      },
      "outputs": [
        {
          "data": {
            "text/plain": [
              "array([ 1,  2,  3,  4,  5,  6,  7,  8,  9, 10])"
            ]
          },
          "execution_count": 39,
          "metadata": {},
          "output_type": "execute_result"
        }
      ],
      "source": [
        "arr_main=np.arange(1,11)\n",
        "arr_main"
      ]
    },
    {
      "cell_type": "code",
      "execution_count": 35,
      "metadata": {
        "colab": {
          "base_uri": "https://localhost:8080/"
        },
        "id": "Dc8E20ptbzIs",
        "outputId": "114b3855-b3d4-4759-f96d-3763402cb5d0"
      },
      "outputs": [
        {
          "data": {
            "text/plain": [
              "array([ 1, 20, 20, 20, 20,  6,  7,  8,  9, 10])"
            ]
          },
          "execution_count": 35,
          "metadata": {},
          "output_type": "execute_result"
        }
      ],
      "source": [
        "arr[1:5]=20\n",
        "arr"
      ]
    },
    {
      "cell_type": "code",
      "execution_count": 36,
      "metadata": {
        "colab": {
          "base_uri": "https://localhost:8080/"
        },
        "id": "II-hftjzcZNF",
        "outputId": "03cadfd8-1a9d-4399-b129-386f7f7b8d69"
      },
      "outputs": [
        {
          "data": {
            "text/plain": [
              "array([10, 20, 10, 20, 10,  6, 10,  8, 10, 10])"
            ]
          },
          "execution_count": 36,
          "metadata": {},
          "output_type": "execute_result"
        }
      ],
      "source": [
        "arr[0:10:2]=10\n",
        "arr"
      ]
    },
    {
      "cell_type": "code",
      "execution_count": 45,
      "metadata": {
        "colab": {
          "base_uri": "https://localhost:8080/"
        },
        "id": "dDbJnjZCdgbm",
        "outputId": "c3a83223-75f5-408c-9c00-4cef9520c622"
      },
      "outputs": [
        {
          "data": {
            "text/plain": [
              "array([ 1,  2,  3,  4,  5,  6,  7,  8,  9, 10])"
            ]
          },
          "execution_count": 45,
          "metadata": {},
          "output_type": "execute_result"
        }
      ],
      "source": [
        "modified_arr= arr_main.copy() ##so that main array doesnt get affected\n",
        "modified_arr"
      ]
    },
    {
      "cell_type": "code",
      "execution_count": 46,
      "metadata": {
        "colab": {
          "base_uri": "https://localhost:8080/"
        },
        "id": "CiZULNZId1Sf",
        "outputId": "df7d0cfd-c080-44d4-d191-7b598d0079fa"
      },
      "outputs": [
        {
          "name": "stdout",
          "output_type": "stream",
          "text": [
            "[ 1  2  3  4  5  6  7  8  9 10]\n",
            "[ 1 10  3 10  5 10  7 10  9 10]\n"
          ]
        }
      ],
      "source": [
        "modified_arr[1:10:2]=10\n",
        "print(arr_main)\n",
        "print(modified_arr)"
      ]
    },
    {
      "cell_type": "markdown",
      "metadata": {
        "id": "B5KrbHh7ew3p"
      },
      "source": [
        "## **Conditionals**"
      ]
    },
    {
      "cell_type": "code",
      "execution_count": 48,
      "metadata": {
        "colab": {
          "base_uri": "https://localhost:8080/"
        },
        "id": "DPGOQE9vezT8",
        "outputId": "14512e41-0929-435f-cbd7-c89b22ed6da2"
      },
      "outputs": [
        {
          "data": {
            "text/plain": [
              "array([ 1,  2,  3,  4,  5,  6,  7,  8,  9, 10])"
            ]
          },
          "execution_count": 48,
          "metadata": {},
          "output_type": "execute_result"
        }
      ],
      "source": [
        "arr_main"
      ]
    },
    {
      "cell_type": "code",
      "execution_count": 49,
      "metadata": {
        "colab": {
          "base_uri": "https://localhost:8080/"
        },
        "id": "btmLPxtYe3oY",
        "outputId": "e3be9a8a-ad0b-45c7-face-4ad3e9808208"
      },
      "outputs": [
        {
          "data": {
            "text/plain": [
              "array([False, False, False, False, False,  True,  True,  True,  True,\n",
              "        True])"
            ]
          },
          "execution_count": 49,
          "metadata": {},
          "output_type": "execute_result"
        }
      ],
      "source": [
        "arr_main >5"
      ]
    },
    {
      "cell_type": "code",
      "execution_count": 59,
      "metadata": {
        "id": "3xwholZCfNF8"
      },
      "outputs": [],
      "source": [
        "conditional_arr= arr_main.copy()"
      ]
    },
    {
      "cell_type": "code",
      "execution_count": 61,
      "metadata": {
        "colab": {
          "base_uri": "https://localhost:8080/"
        },
        "id": "eqHGHMrwf0dR",
        "outputId": "346acb88-b2d3-4380-e7df-4835611eccff"
      },
      "outputs": [
        {
          "data": {
            "text/plain": [
              "array([ 2,  4,  6,  8, 10])"
            ]
          },
          "execution_count": 61,
          "metadata": {},
          "output_type": "execute_result"
        }
      ],
      "source": [
        "conditional_arr[arr_main %2 == 0]"
      ]
    },
    {
      "cell_type": "markdown",
      "metadata": {
        "id": "WTjmLwwGgWmv"
      },
      "source": [
        "## **Operations**"
      ]
    },
    {
      "cell_type": "code",
      "execution_count": 62,
      "metadata": {
        "colab": {
          "base_uri": "https://localhost:8080/"
        },
        "id": "zCF66O7_gYxu",
        "outputId": "ffe50737-da02-4de6-91b8-4e5e63d128b3"
      },
      "outputs": [
        {
          "data": {
            "text/plain": [
              "array([ 1,  2,  3,  4,  5,  6,  7,  8,  9, 10])"
            ]
          },
          "execution_count": 62,
          "metadata": {},
          "output_type": "execute_result"
        }
      ],
      "source": [
        "arr_main"
      ]
    },
    {
      "cell_type": "code",
      "execution_count": 63,
      "metadata": {
        "colab": {
          "base_uri": "https://localhost:8080/"
        },
        "id": "-Jk6pl7IgaNy",
        "outputId": "b28df247-21d9-4d02-f193-d1f352bb6d84"
      },
      "outputs": [
        {
          "data": {
            "text/plain": [
              "array([1.        , 1.41421356, 1.73205081, 2.        , 2.23606798,\n",
              "       2.44948974, 2.64575131, 2.82842712, 3.        , 3.16227766])"
            ]
          },
          "execution_count": 63,
          "metadata": {},
          "output_type": "execute_result"
        }
      ],
      "source": [
        "np.sqrt(arr_main) ##arr_main's every element's square root"
      ]
    },
    {
      "cell_type": "code",
      "execution_count": 64,
      "metadata": {
        "colab": {
          "base_uri": "https://localhost:8080/"
        },
        "id": "KFKkW92ggluJ",
        "outputId": "0152d404-b5aa-4bd2-b85c-675c391b63c8"
      },
      "outputs": [
        {
          "data": {
            "text/plain": [
              "array([2.71828183e+00, 7.38905610e+00, 2.00855369e+01, 5.45981500e+01,\n",
              "       1.48413159e+02, 4.03428793e+02, 1.09663316e+03, 2.98095799e+03,\n",
              "       8.10308393e+03, 2.20264658e+04])"
            ]
          },
          "execution_count": 64,
          "metadata": {},
          "output_type": "execute_result"
        }
      ],
      "source": [
        "np.exp(arr_main)  ##exponential"
      ]
    },
    {
      "cell_type": "code",
      "execution_count": 65,
      "metadata": {
        "colab": {
          "base_uri": "https://localhost:8080/"
        },
        "id": "wUv5GjxjgurN",
        "outputId": "d56f93c2-26b7-46b7-92a0-2a43e2ab2904"
      },
      "outputs": [
        {
          "data": {
            "text/plain": [
              "array([0.        , 0.69314718, 1.09861229, 1.38629436, 1.60943791,\n",
              "       1.79175947, 1.94591015, 2.07944154, 2.19722458, 2.30258509])"
            ]
          },
          "execution_count": 65,
          "metadata": {},
          "output_type": "execute_result"
        }
      ],
      "source": [
        "np.log(arr_main) ##logarithm"
      ]
    },
    {
      "cell_type": "code",
      "execution_count": 66,
      "metadata": {
        "colab": {
          "base_uri": "https://localhost:8080/"
        },
        "id": "IZK52SAxhEv8",
        "outputId": "f8766076-1349-4f72-d118-d007815c1eed"
      },
      "outputs": [
        {
          "data": {
            "text/plain": [
              "55"
            ]
          },
          "execution_count": 66,
          "metadata": {},
          "output_type": "execute_result"
        }
      ],
      "source": [
        "np.sum(arr_main)"
      ]
    },
    {
      "cell_type": "code",
      "execution_count": 68,
      "metadata": {
        "colab": {
          "base_uri": "https://localhost:8080/"
        },
        "id": "mwtpF1XUhWFT",
        "outputId": "834aaeb9-d1d0-4bee-f00d-af601b37f5ef"
      },
      "outputs": [
        {
          "data": {
            "text/plain": [
              "55"
            ]
          },
          "execution_count": 68,
          "metadata": {},
          "output_type": "execute_result"
        }
      ],
      "source": [
        "arr_main.sum()"
      ]
    },
    {
      "cell_type": "code",
      "execution_count": 70,
      "metadata": {
        "colab": {
          "base_uri": "https://localhost:8080/"
        },
        "id": "OwHROaA0hgtX",
        "outputId": "62ab085e-73fe-405b-f922-6cdc3efa6d62"
      },
      "outputs": [
        {
          "data": {
            "text/plain": [
              "10"
            ]
          },
          "execution_count": 70,
          "metadata": {},
          "output_type": "execute_result"
        }
      ],
      "source": [
        "arr_main.max()"
      ]
    },
    {
      "cell_type": "code",
      "execution_count": 71,
      "metadata": {
        "colab": {
          "base_uri": "https://localhost:8080/"
        },
        "id": "bXzUPvM1hlDf",
        "outputId": "984ea0c5-34ec-4c6e-bff0-ec6fce78c9b0"
      },
      "outputs": [
        {
          "data": {
            "text/plain": [
              "10"
            ]
          },
          "execution_count": 71,
          "metadata": {},
          "output_type": "execute_result"
        }
      ],
      "source": [
        "np.max(arr_main)"
      ]
    },
    {
      "cell_type": "code",
      "execution_count": 73,
      "metadata": {
        "colab": {
          "base_uri": "https://localhost:8080/"
        },
        "id": "7UOHNuj0hz9Y",
        "outputId": "10f39f8a-cf9a-483b-a548-10f734b3b8e4"
      },
      "outputs": [
        {
          "data": {
            "text/plain": [
              "2.8722813232690143"
            ]
          },
          "execution_count": 73,
          "metadata": {},
          "output_type": "execute_result"
        }
      ],
      "source": [
        "arr_main.std() ##Standard_div"
      ]
    },
    {
      "cell_type": "code",
      "execution_count": 74,
      "metadata": {
        "colab": {
          "base_uri": "https://localhost:8080/"
        },
        "id": "zZzsY7M6h5AU",
        "outputId": "bfab1b74-f587-4845-e9b7-c92599d8c58f"
      },
      "outputs": [
        {
          "data": {
            "text/plain": [
              "2.8722813232690143"
            ]
          },
          "execution_count": 74,
          "metadata": {},
          "output_type": "execute_result"
        }
      ],
      "source": [
        "np.std(arr_main)"
      ]
    },
    {
      "cell_type": "markdown",
      "metadata": {
        "id": "fZ52UjsciCUF"
      },
      "source": [
        "## **Axis Logic**\n",
        "\n",
        "2D Array basic :\n",
        "arr_2d[start_row:stop_row:step_row, start_col:stop_col:step_col]"
      ]
    },
    {
      "cell_type": "code",
      "execution_count": 77,
      "metadata": {
        "colab": {
          "base_uri": "https://localhost:8080/"
        },
        "id": "606m3tQNiGa8",
        "outputId": "add6b16c-9b8e-40cb-9b26-431f438d77e2"
      },
      "outputs": [
        {
          "data": {
            "text/plain": [
              "array([[ 1,  2,  3,  4],\n",
              "       [ 5,  6,  7,  8],\n",
              "       [ 9, 10, 11, 12]])"
            ]
          },
          "execution_count": 77,
          "metadata": {},
          "output_type": "execute_result"
        }
      ],
      "source": [
        "arr_2d=np.array([[1,2,3,4],[5,6,7,8],[9,10,11,12]])\n",
        "arr_2d"
      ]
    },
    {
      "cell_type": "code",
      "execution_count": 79,
      "metadata": {
        "colab": {
          "base_uri": "https://localhost:8080/"
        },
        "id": "vw8dlQRZiynR",
        "outputId": "84aa3f3e-91a1-4509-d15c-44c233551bab"
      },
      "outputs": [
        {
          "data": {
            "text/plain": [
              "array([15, 18, 21, 24])"
            ]
          },
          "execution_count": 79,
          "metadata": {},
          "output_type": "execute_result"
        }
      ],
      "source": [
        "arr_2d.sum(axis=0) ##Collumn wise Addition"
      ]
    },
    {
      "cell_type": "code",
      "execution_count": 80,
      "metadata": {
        "colab": {
          "base_uri": "https://localhost:8080/"
        },
        "id": "hilvXETPi6w6",
        "outputId": "37b29ee9-b355-4b9b-bf1a-ad78038f5b7e"
      },
      "outputs": [
        {
          "data": {
            "text/plain": [
              "array([10, 26, 42])"
            ]
          },
          "execution_count": 80,
          "metadata": {},
          "output_type": "execute_result"
        }
      ],
      "source": [
        "arr_2d.sum(axis=1) ##Row wise addition"
      ]
    },
    {
      "cell_type": "code",
      "execution_count": 82,
      "metadata": {
        "colab": {
          "base_uri": "https://localhost:8080/"
        },
        "id": "RBd8AJbkjAno",
        "outputId": "2206d839-f747-4000-a744-54ba36fc49e9"
      },
      "outputs": [
        {
          "data": {
            "text/plain": [
              "array([10, 26, 42])"
            ]
          },
          "execution_count": 82,
          "metadata": {},
          "output_type": "execute_result"
        }
      ],
      "source": [
        "np.sum(arr_2d,axis=1)"
      ]
    },
    {
      "cell_type": "code",
      "execution_count": 83,
      "metadata": {
        "colab": {
          "base_uri": "https://localhost:8080/"
        },
        "id": "GFJH0DLHjMLw",
        "outputId": "bddc7118-5692-4409-d5ef-3952b1b75b51"
      },
      "outputs": [
        {
          "data": {
            "text/plain": [
              "array([15, 18, 21, 24])"
            ]
          },
          "execution_count": 83,
          "metadata": {},
          "output_type": "execute_result"
        }
      ],
      "source": [
        "np.sum(arr_2d,axis=0)"
      ]
    },
    {
      "cell_type": "code",
      "execution_count": 85,
      "metadata": {
        "colab": {
          "base_uri": "https://localhost:8080/"
        },
        "id": "cRFJiWLXj649",
        "outputId": "f796b70b-ea22-4af1-c2f0-771157d18a2e"
      },
      "outputs": [
        {
          "data": {
            "text/plain": [
              "(3, 4)"
            ]
          },
          "execution_count": 85,
          "metadata": {},
          "output_type": "execute_result"
        }
      ],
      "source": [
        "arr_2d.shape"
      ]
    },
    {
      "cell_type": "code",
      "execution_count": 84,
      "metadata": {
        "colab": {
          "base_uri": "https://localhost:8080/"
        },
        "id": "Z4AcoiOdj3Pg",
        "outputId": "2d0fca10-e7da-47ab-9637-ffce645e5105"
      },
      "outputs": [
        {
          "data": {
            "text/plain": [
              "(3, 4)"
            ]
          },
          "execution_count": 84,
          "metadata": {},
          "output_type": "execute_result"
        }
      ],
      "source": [
        "np.shape(arr_2d)"
      ]
    },
    {
      "cell_type": "code",
      "execution_count": 86,
      "metadata": {
        "colab": {
          "base_uri": "https://localhost:8080/"
        },
        "id": "GUCvpydGktKx",
        "outputId": "b9a35fbb-1d37-431a-e953-aa8c88ade565"
      },
      "outputs": [
        {
          "data": {
            "text/plain": [
              "array([[ 1,  2,  3,  4],\n",
              "       [ 5,  6,  7,  8],\n",
              "       [ 9, 10, 11, 12]])"
            ]
          },
          "execution_count": 86,
          "metadata": {},
          "output_type": "execute_result"
        }
      ],
      "source": [
        "arr_2d"
      ]
    },
    {
      "cell_type": "code",
      "execution_count": 87,
      "metadata": {
        "colab": {
          "base_uri": "https://localhost:8080/"
        },
        "id": "a8opnmDFkuS6",
        "outputId": "2663b2cc-6ca4-4d6d-8148-72b4da059d6c"
      },
      "outputs": [
        {
          "data": {
            "text/plain": [
              "array([[ 5,  6,  7,  8],\n",
              "       [ 9, 10, 11, 12]])"
            ]
          },
          "execution_count": 87,
          "metadata": {},
          "output_type": "execute_result"
        }
      ],
      "source": [
        "arr_2d[1:]"
      ]
    },
    {
      "cell_type": "code",
      "execution_count": 88,
      "metadata": {
        "colab": {
          "base_uri": "https://localhost:8080/"
        },
        "id": "Yc13ZkBhk1Ej",
        "outputId": "cf067462-2baf-4ada-de36-c632c1845626"
      },
      "outputs": [
        {
          "data": {
            "text/plain": [
              "array([[1, 2, 3, 4]])"
            ]
          },
          "execution_count": 88,
          "metadata": {},
          "output_type": "execute_result"
        }
      ],
      "source": [
        "arr_2d[:1]"
      ]
    },
    {
      "cell_type": "code",
      "execution_count": 90,
      "metadata": {
        "colab": {
          "base_uri": "https://localhost:8080/"
        },
        "id": "aHT3AUIpk9Y5",
        "outputId": "b7f8f08b-b28c-4dac-9f21-ea154ace6754"
      },
      "outputs": [
        {
          "data": {
            "text/plain": [
              "array([5, 6, 7, 8])"
            ]
          },
          "execution_count": 90,
          "metadata": {},
          "output_type": "execute_result"
        }
      ],
      "source": [
        "arr_2d[1]  # Second row (index 1)"
      ]
    },
    {
      "cell_type": "code",
      "execution_count": 91,
      "metadata": {
        "colab": {
          "base_uri": "https://localhost:8080/"
        },
        "id": "Y7xBMv51mPKV",
        "outputId": "cb1c97f1-d8ff-4445-f9ab-fc3bc309438d"
      },
      "outputs": [
        {
          "data": {
            "text/plain": [
              "array([[5, 6, 7, 8]])"
            ]
          },
          "execution_count": 91,
          "metadata": {},
          "output_type": "execute_result"
        }
      ],
      "source": [
        "arr_2d[1:2]  # Second row only\n"
      ]
    },
    {
      "cell_type": "code",
      "execution_count": 93,
      "metadata": {
        "colab": {
          "base_uri": "https://localhost:8080/"
        },
        "id": "qnw4SrNlmovE",
        "outputId": "011a897d-7338-4511-8536-0d730c330b0b"
      },
      "outputs": [
        {
          "data": {
            "text/plain": [
              "array([[ 1,  2,  3,  4],\n",
              "       [ 5,  6,  7,  8],\n",
              "       [ 9, 10, 11, 12]])"
            ]
          },
          "execution_count": 93,
          "metadata": {},
          "output_type": "execute_result"
        }
      ],
      "source": [
        "arr_2d"
      ]
    },
    {
      "cell_type": "code",
      "execution_count": 92,
      "metadata": {
        "colab": {
          "base_uri": "https://localhost:8080/"
        },
        "id": "bkv0TY6amjBu",
        "outputId": "d48b96be-b231-4600-dcbc-2476c281ad25"
      },
      "outputs": [
        {
          "data": {
            "text/plain": [
              "array([2, 3, 4])"
            ]
          },
          "execution_count": 92,
          "metadata": {},
          "output_type": "execute_result"
        }
      ],
      "source": [
        "arr_2d[0, 1:]  # First row, from the second column to the end (Row,Col : ....)\n"
      ]
    },
    {
      "cell_type": "code",
      "execution_count": 96,
      "metadata": {
        "colab": {
          "base_uri": "https://localhost:8080/"
        },
        "id": "HxN0hFn_nDcn",
        "outputId": "af418353-07d1-43d3-8588-d0d3ee1fb00a"
      },
      "outputs": [
        {
          "data": {
            "text/plain": [
              "array([1, 2, 3])"
            ]
          },
          "execution_count": 96,
          "metadata": {},
          "output_type": "execute_result"
        }
      ],
      "source": [
        "arr_2d[0,0:3] #first row,first col , 3rd item"
      ]
    },
    {
      "cell_type": "code",
      "execution_count": 97,
      "metadata": {
        "colab": {
          "base_uri": "https://localhost:8080/"
        },
        "id": "qXIqRna6nT9j",
        "outputId": "fc00af24-ca9b-457f-83b5-b9fd7ff45217"
      },
      "outputs": [
        {
          "data": {
            "text/plain": [
              "array([[ 2,  3,  4],\n",
              "       [ 6,  7,  8],\n",
              "       [10, 11, 12]])"
            ]
          },
          "execution_count": 97,
          "metadata": {},
          "output_type": "execute_result"
        }
      ],
      "source": [
        "arr_2d[:, 1:]  # All rows, from the second column to the end\n"
      ]
    },
    {
      "cell_type": "code",
      "execution_count": 99,
      "metadata": {
        "colab": {
          "base_uri": "https://localhost:8080/"
        },
        "id": "DjVmYhNgodzk",
        "outputId": "6fe4684f-04e1-40ec-c1d1-136e1dbeb2dd"
      },
      "outputs": [
        {
          "data": {
            "text/plain": [
              "array([[ 6,  7,  8],\n",
              "       [10, 11, 12]])"
            ]
          },
          "execution_count": 99,
          "metadata": {},
          "output_type": "execute_result"
        }
      ],
      "source": [
        "arr_2d[1:, 1:]  # From the second row and second column to the end\n"
      ]
    },
    {
      "cell_type": "code",
      "execution_count": 100,
      "metadata": {
        "colab": {
          "base_uri": "https://localhost:8080/"
        },
        "id": "_T9HVZvWoteW",
        "outputId": "13a88a08-74d0-4ab9-a5bc-3510e32b91c7"
      },
      "outputs": [
        {
          "data": {
            "text/plain": [
              "array([ 2,  6, 10])"
            ]
          },
          "execution_count": 100,
          "metadata": {},
          "output_type": "execute_result"
        }
      ],
      "source": [
        "arr_2d[:, 1]  # All rows, second column only\n"
      ]
    },
    {
      "cell_type": "code",
      "execution_count": 101,
      "metadata": {
        "colab": {
          "base_uri": "https://localhost:8080/"
        },
        "id": "RTcb4EprpjxJ",
        "outputId": "e186d13a-7717-4a1e-d287-15e224908064"
      },
      "outputs": [
        {
          "data": {
            "text/plain": [
              "array([[ 1,  2,  3,  4],\n",
              "       [ 5,  6,  7,  8],\n",
              "       [ 9, 10, 11, 12]])"
            ]
          },
          "execution_count": 101,
          "metadata": {},
          "output_type": "execute_result"
        }
      ],
      "source": [
        "arr_2d"
      ]
    },
    {
      "cell_type": "code",
      "execution_count": 107,
      "metadata": {
        "colab": {
          "base_uri": "https://localhost:8080/"
        },
        "id": "IHRVlrc7pmTE",
        "outputId": "5161f1c9-caa6-4941-fb42-8ae283d3e6f1"
      },
      "outputs": [
        {
          "data": {
            "text/plain": [
              "array([[ 6,  7],\n",
              "       [10, 11]])"
            ]
          },
          "execution_count": 107,
          "metadata": {},
          "output_type": "execute_result"
        }
      ],
      "source": [
        "arr_2d[1:,1:3]"
      ]
    }
  ],
  "metadata": {
    "colab": {
      "provenance": []
    },
    "kernelspec": {
      "display_name": "Python 3",
      "name": "python3"
    },
    "language_info": {
      "codemirror_mode": {
        "name": "ipython",
        "version": 3
      },
      "file_extension": ".py",
      "mimetype": "text/x-python",
      "name": "python",
      "nbconvert_exporter": "python",
      "pygments_lexer": "ipython3",
      "version": "3.12.0"
    }
  },
  "nbformat": 4,
  "nbformat_minor": 0
}
