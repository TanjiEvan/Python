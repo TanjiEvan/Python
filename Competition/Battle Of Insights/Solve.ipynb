{
 "cells": [
  {
   "cell_type": "markdown",
   "metadata": {},
   "source": [
    "## **Loading Libraries**"
   ]
  },
  {
   "cell_type": "code",
   "execution_count": 1,
   "metadata": {},
   "outputs": [],
   "source": [
    "import pandas as pd\n",
    "import numpy as np\n",
    "import matplotlib.pyplot as plt\n",
    "import seaborn as sns\n",
    "import plotly.express as px\n",
    "import warnings\n",
    "\n",
    "warnings.filterwarnings(\"ignore\")"
   ]
  },
  {
   "cell_type": "markdown",
   "metadata": {},
   "source": [
    "## **Loading Dataset**"
   ]
  },
  {
   "cell_type": "code",
   "execution_count": 4,
   "metadata": {},
   "outputs": [
    {
     "data": {
      "text/html": [
       "<div>\n",
       "<style scoped>\n",
       "    .dataframe tbody tr th:only-of-type {\n",
       "        vertical-align: middle;\n",
       "    }\n",
       "\n",
       "    .dataframe tbody tr th {\n",
       "        vertical-align: top;\n",
       "    }\n",
       "\n",
       "    .dataframe thead th {\n",
       "        text-align: right;\n",
       "    }\n",
       "</style>\n",
       "<table border=\"1\" class=\"dataframe\">\n",
       "  <thead>\n",
       "    <tr style=\"text-align: right;\">\n",
       "      <th></th>\n",
       "      <th>Transaction_ID</th>\n",
       "      <th>Date</th>\n",
       "      <th>Customer_Name</th>\n",
       "      <th>Total_Items</th>\n",
       "      <th>Amount($)</th>\n",
       "      <th>Payment_Method</th>\n",
       "      <th>City</th>\n",
       "      <th>Store_Type</th>\n",
       "      <th>Discount_Applied</th>\n",
       "      <th>Customer_Category</th>\n",
       "      <th>Season</th>\n",
       "      <th>Promotion</th>\n",
       "    </tr>\n",
       "  </thead>\n",
       "  <tbody>\n",
       "    <tr>\n",
       "      <th>0</th>\n",
       "      <td>1000667075</td>\n",
       "      <td>2022-09-12 17:40:23</td>\n",
       "      <td>David King</td>\n",
       "      <td>5</td>\n",
       "      <td>30.98</td>\n",
       "      <td>Debit Card</td>\n",
       "      <td>Chicago</td>\n",
       "      <td>Warehouse Club</td>\n",
       "      <td>True</td>\n",
       "      <td>Teenager</td>\n",
       "      <td>Fall</td>\n",
       "      <td>BOGO (Buy One Get One)</td>\n",
       "    </tr>\n",
       "    <tr>\n",
       "      <th>1</th>\n",
       "      <td>1000156022</td>\n",
       "      <td>2022-01-20 23:03:20</td>\n",
       "      <td>Michael Williamson</td>\n",
       "      <td>3</td>\n",
       "      <td>23.29</td>\n",
       "      <td>Credit Card</td>\n",
       "      <td>Boston</td>\n",
       "      <td>Warehouse Club</td>\n",
       "      <td>True</td>\n",
       "      <td>Homemaker</td>\n",
       "      <td>Winter</td>\n",
       "      <td>Discount on Selected Items</td>\n",
       "    </tr>\n",
       "    <tr>\n",
       "      <th>2</th>\n",
       "      <td>1000681674</td>\n",
       "      <td>2022-10-15 07:49:59</td>\n",
       "      <td>Chelsea Garza</td>\n",
       "      <td>7</td>\n",
       "      <td>25.62</td>\n",
       "      <td>Debit Card</td>\n",
       "      <td>Chicago</td>\n",
       "      <td>Pharmacy</td>\n",
       "      <td>False</td>\n",
       "      <td>Teenager</td>\n",
       "      <td>Fall</td>\n",
       "      <td>Discount on Selected Items</td>\n",
       "    </tr>\n",
       "    <tr>\n",
       "      <th>3</th>\n",
       "      <td>1000692089</td>\n",
       "      <td>2024-04-05 09:39:58</td>\n",
       "      <td>Scott Lopez</td>\n",
       "      <td>5</td>\n",
       "      <td>14.64</td>\n",
       "      <td>Mobile Payment</td>\n",
       "      <td>Atlanta</td>\n",
       "      <td>Pharmacy</td>\n",
       "      <td>False</td>\n",
       "      <td>Homemaker</td>\n",
       "      <td>Summer</td>\n",
       "      <td>Discount on Selected Items</td>\n",
       "    </tr>\n",
       "    <tr>\n",
       "      <th>4</th>\n",
       "      <td>1000328702</td>\n",
       "      <td>2021-05-28 04:16:54</td>\n",
       "      <td>Crystal Adams</td>\n",
       "      <td>4</td>\n",
       "      <td>62.27</td>\n",
       "      <td>Credit Card</td>\n",
       "      <td>Miami</td>\n",
       "      <td>Convenience Store</td>\n",
       "      <td>False</td>\n",
       "      <td>Retiree</td>\n",
       "      <td>Summer</td>\n",
       "      <td>NaN</td>\n",
       "    </tr>\n",
       "  </tbody>\n",
       "</table>\n",
       "</div>"
      ],
      "text/plain": [
       "   Transaction_ID                 Date       Customer_Name  Total_Items  \\\n",
       "0      1000667075  2022-09-12 17:40:23          David King            5   \n",
       "1      1000156022  2022-01-20 23:03:20  Michael Williamson            3   \n",
       "2      1000681674  2022-10-15 07:49:59       Chelsea Garza            7   \n",
       "3      1000692089  2024-04-05 09:39:58         Scott Lopez            5   \n",
       "4      1000328702  2021-05-28 04:16:54       Crystal Adams            4   \n",
       "\n",
       "   Amount($)  Payment_Method     City         Store_Type  Discount_Applied  \\\n",
       "0      30.98      Debit Card  Chicago     Warehouse Club              True   \n",
       "1      23.29     Credit Card   Boston     Warehouse Club              True   \n",
       "2      25.62      Debit Card  Chicago           Pharmacy             False   \n",
       "3      14.64  Mobile Payment  Atlanta           Pharmacy             False   \n",
       "4      62.27     Credit Card    Miami  Convenience Store             False   \n",
       "\n",
       "  Customer_Category  Season                   Promotion  \n",
       "0          Teenager    Fall      BOGO (Buy One Get One)  \n",
       "1         Homemaker  Winter  Discount on Selected Items  \n",
       "2          Teenager    Fall  Discount on Selected Items  \n",
       "3         Homemaker  Summer  Discount on Selected Items  \n",
       "4           Retiree  Summer                         NaN  "
      ]
     },
     "execution_count": 4,
     "metadata": {},
     "output_type": "execute_result"
    }
   ],
   "source": [
    "df=pd.read_excel(\"Data/transactions.xlsx\")\n",
    "df.head()"
   ]
  },
  {
   "cell_type": "markdown",
   "metadata": {},
   "source": [
    "## **Data Pre-Processing**"
   ]
  },
  {
   "cell_type": "markdown",
   "metadata": {},
   "source": [
    "---"
   ]
  },
  {
   "cell_type": "code",
   "execution_count": 7,
   "metadata": {},
   "outputs": [
    {
     "name": "stdout",
     "output_type": "stream",
     "text": [
      "<class 'pandas.core.frame.DataFrame'>\n",
      "RangeIndex: 38500 entries, 0 to 38499\n",
      "Data columns (total 12 columns):\n",
      " #   Column             Non-Null Count  Dtype  \n",
      "---  ------             --------------  -----  \n",
      " 0   Transaction_ID     38500 non-null  int64  \n",
      " 1   Date               38500 non-null  object \n",
      " 2   Customer_Name      38500 non-null  object \n",
      " 3   Total_Items        38500 non-null  int64  \n",
      " 4   Amount($)          38500 non-null  float64\n",
      " 5   Payment_Method     38500 non-null  object \n",
      " 6   City               38500 non-null  object \n",
      " 7   Store_Type         38500 non-null  object \n",
      " 8   Discount_Applied   38500 non-null  bool   \n",
      " 9   Customer_Category  38500 non-null  object \n",
      " 10  Season             38500 non-null  object \n",
      " 11  Promotion          25529 non-null  object \n",
      "dtypes: bool(1), float64(1), int64(2), object(8)\n",
      "memory usage: 3.3+ MB\n"
     ]
    }
   ],
   "source": [
    "df.info()"
   ]
  },
  {
   "cell_type": "markdown",
   "metadata": {},
   "source": [
    "- The dataset contains 38,500 entries across 12 columns, with the `Promotion` column having 25,529 non-null entries, indicating missing values. All other columns are complete. \n",
    "- The `Date` column is currently of type `object`, which should be converted to `datetime` for proper date handling. \n",
    "\n",
    "---"
   ]
  },
  {
   "cell_type": "markdown",
   "metadata": {},
   "source": [
    "### Handling the Date Data Type"
   ]
  },
  {
   "cell_type": "code",
   "execution_count": null,
   "metadata": {},
   "outputs": [],
   "source": [
    "df[\"Date\"]=pd.to_datetime(df.Date) # Converting 'Date' column to datetime dtype"
   ]
  },
  {
   "cell_type": "code",
   "execution_count": null,
   "metadata": {},
   "outputs": [
    {
     "data": {
      "text/plain": [
       "dtype('<M8[ns]')"
      ]
     },
     "execution_count": 16,
     "metadata": {},
     "output_type": "execute_result"
    }
   ],
   "source": [
    "df[\"Date\"].dtype ##Cheking the dtype"
   ]
  },
  {
   "cell_type": "code",
   "execution_count": null,
   "metadata": {},
   "outputs": [
    {
     "data": {
      "text/plain": [
       "'datetime64[ns]'"
      ]
     },
     "execution_count": 17,
     "metadata": {},
     "output_type": "execute_result"
    }
   ],
   "source": [
    "str(df[\"Date\"].dtype)  ##Cheking the dtype"
   ]
  },
  {
   "cell_type": "code",
   "execution_count": 11,
   "metadata": {},
   "outputs": [
    {
     "data": {
      "text/html": [
       "<div>\n",
       "<style scoped>\n",
       "    .dataframe tbody tr th:only-of-type {\n",
       "        vertical-align: middle;\n",
       "    }\n",
       "\n",
       "    .dataframe tbody tr th {\n",
       "        vertical-align: top;\n",
       "    }\n",
       "\n",
       "    .dataframe thead th {\n",
       "        text-align: right;\n",
       "    }\n",
       "</style>\n",
       "<table border=\"1\" class=\"dataframe\">\n",
       "  <thead>\n",
       "    <tr style=\"text-align: right;\">\n",
       "      <th></th>\n",
       "      <th>Transaction_ID</th>\n",
       "      <th>Date</th>\n",
       "      <th>Customer_Name</th>\n",
       "      <th>Total_Items</th>\n",
       "      <th>Amount($)</th>\n",
       "      <th>Payment_Method</th>\n",
       "      <th>City</th>\n",
       "      <th>Store_Type</th>\n",
       "      <th>Discount_Applied</th>\n",
       "      <th>Customer_Category</th>\n",
       "      <th>Season</th>\n",
       "      <th>Promotion</th>\n",
       "    </tr>\n",
       "  </thead>\n",
       "  <tbody>\n",
       "    <tr>\n",
       "      <th>0</th>\n",
       "      <td>1000667075</td>\n",
       "      <td>2022-09-12 17:40:23</td>\n",
       "      <td>David King</td>\n",
       "      <td>5</td>\n",
       "      <td>30.98</td>\n",
       "      <td>Debit Card</td>\n",
       "      <td>Chicago</td>\n",
       "      <td>Warehouse Club</td>\n",
       "      <td>True</td>\n",
       "      <td>Teenager</td>\n",
       "      <td>Fall</td>\n",
       "      <td>BOGO (Buy One Get One)</td>\n",
       "    </tr>\n",
       "    <tr>\n",
       "      <th>1</th>\n",
       "      <td>1000156022</td>\n",
       "      <td>2022-01-20 23:03:20</td>\n",
       "      <td>Michael Williamson</td>\n",
       "      <td>3</td>\n",
       "      <td>23.29</td>\n",
       "      <td>Credit Card</td>\n",
       "      <td>Boston</td>\n",
       "      <td>Warehouse Club</td>\n",
       "      <td>True</td>\n",
       "      <td>Homemaker</td>\n",
       "      <td>Winter</td>\n",
       "      <td>Discount on Selected Items</td>\n",
       "    </tr>\n",
       "    <tr>\n",
       "      <th>2</th>\n",
       "      <td>1000681674</td>\n",
       "      <td>2022-10-15 07:49:59</td>\n",
       "      <td>Chelsea Garza</td>\n",
       "      <td>7</td>\n",
       "      <td>25.62</td>\n",
       "      <td>Debit Card</td>\n",
       "      <td>Chicago</td>\n",
       "      <td>Pharmacy</td>\n",
       "      <td>False</td>\n",
       "      <td>Teenager</td>\n",
       "      <td>Fall</td>\n",
       "      <td>Discount on Selected Items</td>\n",
       "    </tr>\n",
       "  </tbody>\n",
       "</table>\n",
       "</div>"
      ],
      "text/plain": [
       "   Transaction_ID                Date       Customer_Name  Total_Items  \\\n",
       "0      1000667075 2022-09-12 17:40:23          David King            5   \n",
       "1      1000156022 2022-01-20 23:03:20  Michael Williamson            3   \n",
       "2      1000681674 2022-10-15 07:49:59       Chelsea Garza            7   \n",
       "\n",
       "   Amount($) Payment_Method     City      Store_Type  Discount_Applied  \\\n",
       "0      30.98     Debit Card  Chicago  Warehouse Club              True   \n",
       "1      23.29    Credit Card   Boston  Warehouse Club              True   \n",
       "2      25.62     Debit Card  Chicago        Pharmacy             False   \n",
       "\n",
       "  Customer_Category  Season                   Promotion  \n",
       "0          Teenager    Fall      BOGO (Buy One Get One)  \n",
       "1         Homemaker  Winter  Discount on Selected Items  \n",
       "2          Teenager    Fall  Discount on Selected Items  "
      ]
     },
     "execution_count": 11,
     "metadata": {},
     "output_type": "execute_result"
    }
   ],
   "source": [
    "df.head(3)"
   ]
  },
  {
   "cell_type": "markdown",
   "metadata": {},
   "source": [
    "---"
   ]
  },
  {
   "cell_type": "markdown",
   "metadata": {},
   "source": [
    "### Checking Missing Values "
   ]
  },
  {
   "cell_type": "code",
   "execution_count": null,
   "metadata": {},
   "outputs": [
    {
     "data": {
      "text/plain": [
       "Transaction_ID           0\n",
       "Date                     0\n",
       "Customer_Name            0\n",
       "Total_Items              0\n",
       "Amount($)                0\n",
       "Payment_Method           0\n",
       "City                     0\n",
       "Store_Type               0\n",
       "Discount_Applied         0\n",
       "Customer_Category        0\n",
       "Season                   0\n",
       "Promotion            12971\n",
       "dtype: int64"
      ]
     },
     "execution_count": 5,
     "metadata": {},
     "output_type": "execute_result"
    }
   ],
   "source": [
    "df.isnull().sum()"
   ]
  },
  {
   "cell_type": "markdown",
   "metadata": {},
   "source": [
    "The `Promotion` column has 12,971 missing values, which accounts for a significant portion of the dataset. Further analysis is needed to determine how to handle these missing values.\n",
    "\n",
    "---"
   ]
  },
  {
   "cell_type": "markdown",
   "metadata": {},
   "source": [
    "### Checking the \"Promotion\" Column"
   ]
  },
  {
   "cell_type": "code",
   "execution_count": null,
   "metadata": {},
   "outputs": [
    {
     "data": {
      "text/plain": [
       "Promotion\n",
       "Discount on Selected Items    12811\n",
       "BOGO (Buy One Get One)        12718\n",
       "Name: count, dtype: int64"
      ]
     },
     "execution_count": 6,
     "metadata": {},
     "output_type": "execute_result"
    }
   ],
   "source": [
    "df[\"Promotion\"].value_counts()"
   ]
  },
  {
   "cell_type": "markdown",
   "metadata": {},
   "source": [
    "Although the `Promotion` column contains missing values (12,971 in total), it is observed that the non-null entries consist primarily of two distinct promotion types: **\"Discount on Selected Items\"** (12,811 occurrences) and **\"BOGO (Buy One Get One)\"** (12,718 occurrences). Since there is no explicit \"None\" or \"No Promotion\" value in the dataset, it is likely that the missing values represent transactions that did not have a promotional offer applied. Therefore, further treatment of these missing values may involve interpreting them as transactions with no promotion.\n",
    "\n",
    "---"
   ]
  },
  {
   "cell_type": "markdown",
   "metadata": {},
   "source": [
    "### Handling Missing Values"
   ]
  },
  {
   "cell_type": "code",
   "execution_count": null,
   "metadata": {},
   "outputs": [],
   "source": [
    "df[\"Promotion\"].fillna(\"No Promotion\", inplace=True) ## Filling The Missing Values With No Promotion"
   ]
  },
  {
   "cell_type": "code",
   "execution_count": null,
   "metadata": {},
   "outputs": [
    {
     "data": {
      "text/plain": [
       "Transaction_ID       0\n",
       "Date                 0\n",
       "Customer_Name        0\n",
       "Total_Items          0\n",
       "Amount($)            0\n",
       "Payment_Method       0\n",
       "City                 0\n",
       "Store_Type           0\n",
       "Discount_Applied     0\n",
       "Customer_Category    0\n",
       "Season               0\n",
       "Promotion            0\n",
       "dtype: int64"
      ]
     },
     "execution_count": 19,
     "metadata": {},
     "output_type": "execute_result"
    }
   ],
   "source": [
    "df.isnull().sum() ##Checking The Missing Values Again"
   ]
  },
  {
   "cell_type": "code",
   "execution_count": null,
   "metadata": {},
   "outputs": [
    {
     "data": {
      "text/plain": [
       "Promotion\n",
       "No Promotion                  12971\n",
       "Discount on Selected Items    12811\n",
       "BOGO (Buy One Get One)        12718\n",
       "Name: count, dtype: int64"
      ]
     },
     "execution_count": 20,
     "metadata": {},
     "output_type": "execute_result"
    }
   ],
   "source": [
    "df[\"Promotion\"].value_counts() ##Verify"
   ]
  },
  {
   "cell_type": "markdown",
   "metadata": {},
   "source": [
    "The missing values in the `Promotion` column were filled with the label **\"No Promotion\"**. This effectively indicates that transactions without a promotional offer are categorized as \"No Promotion\", ensuring a complete and consistent dataset for further analysis.\n",
    "\n",
    "---"
   ]
  },
  {
   "cell_type": "markdown",
   "metadata": {},
   "source": [
    "## Checking For Duplicate Values"
   ]
  },
  {
   "cell_type": "code",
   "execution_count": 21,
   "metadata": {},
   "outputs": [
    {
     "name": "stdout",
     "output_type": "stream",
     "text": [
      "Total number of duplicate rows in the dataset: 0\n"
     ]
    }
   ],
   "source": [
    "num_duplicates = df.duplicated().sum()\n",
    "print(f\"Total number of duplicate rows in the dataset: {num_duplicates}\")\n"
   ]
  },
  {
   "cell_type": "markdown",
   "metadata": {},
   "source": [
    "---"
   ]
  },
  {
   "cell_type": "markdown",
   "metadata": {},
   "source": [
    "### Summary Statistics of the Dataset"
   ]
  },
  {
   "cell_type": "code",
   "execution_count": 25,
   "metadata": {},
   "outputs": [
    {
     "data": {
      "text/html": [
       "<div>\n",
       "<style scoped>\n",
       "    .dataframe tbody tr th:only-of-type {\n",
       "        vertical-align: middle;\n",
       "    }\n",
       "\n",
       "    .dataframe tbody tr th {\n",
       "        vertical-align: top;\n",
       "    }\n",
       "\n",
       "    .dataframe thead th {\n",
       "        text-align: right;\n",
       "    }\n",
       "</style>\n",
       "<table border=\"1\" class=\"dataframe\">\n",
       "  <thead>\n",
       "    <tr style=\"text-align: right;\">\n",
       "      <th></th>\n",
       "      <th>Transaction_ID</th>\n",
       "      <th>Date</th>\n",
       "      <th>Total_Items</th>\n",
       "      <th>Amount($)</th>\n",
       "    </tr>\n",
       "  </thead>\n",
       "  <tbody>\n",
       "    <tr>\n",
       "      <th>count</th>\n",
       "      <td>3.850000e+04</td>\n",
       "      <td>38500</td>\n",
       "      <td>38500.000000</td>\n",
       "      <td>38500.000000</td>\n",
       "    </tr>\n",
       "    <tr>\n",
       "      <th>mean</th>\n",
       "      <td>1.000500e+09</td>\n",
       "      <td>2022-03-10 05:20:27.853402624</td>\n",
       "      <td>5.490649</td>\n",
       "      <td>52.459843</td>\n",
       "    </tr>\n",
       "    <tr>\n",
       "      <th>min</th>\n",
       "      <td>1.000000e+09</td>\n",
       "      <td>2020-01-01 03:51:50</td>\n",
       "      <td>1.000000</td>\n",
       "      <td>5.000000</td>\n",
       "    </tr>\n",
       "    <tr>\n",
       "      <th>25%</th>\n",
       "      <td>1.000248e+09</td>\n",
       "      <td>2021-02-02 04:45:56.500000</td>\n",
       "      <td>3.000000</td>\n",
       "      <td>28.760000</td>\n",
       "    </tr>\n",
       "    <tr>\n",
       "      <th>50%</th>\n",
       "      <td>1.000501e+09</td>\n",
       "      <td>2022-03-11 09:14:40.500000</td>\n",
       "      <td>5.000000</td>\n",
       "      <td>52.260000</td>\n",
       "    </tr>\n",
       "    <tr>\n",
       "      <th>75%</th>\n",
       "      <td>1.000751e+09</td>\n",
       "      <td>2023-04-13 13:47:41.750000128</td>\n",
       "      <td>8.000000</td>\n",
       "      <td>76.350000</td>\n",
       "    </tr>\n",
       "    <tr>\n",
       "      <th>max</th>\n",
       "      <td>1.001000e+09</td>\n",
       "      <td>2024-05-18 19:06:29</td>\n",
       "      <td>10.000000</td>\n",
       "      <td>100.000000</td>\n",
       "    </tr>\n",
       "    <tr>\n",
       "      <th>std</th>\n",
       "      <td>2.890708e+05</td>\n",
       "      <td>NaN</td>\n",
       "      <td>2.868476</td>\n",
       "      <td>27.442214</td>\n",
       "    </tr>\n",
       "  </tbody>\n",
       "</table>\n",
       "</div>"
      ],
      "text/plain": [
       "       Transaction_ID                           Date   Total_Items  \\\n",
       "count    3.850000e+04                          38500  38500.000000   \n",
       "mean     1.000500e+09  2022-03-10 05:20:27.853402624      5.490649   \n",
       "min      1.000000e+09            2020-01-01 03:51:50      1.000000   \n",
       "25%      1.000248e+09     2021-02-02 04:45:56.500000      3.000000   \n",
       "50%      1.000501e+09     2022-03-11 09:14:40.500000      5.000000   \n",
       "75%      1.000751e+09  2023-04-13 13:47:41.750000128      8.000000   \n",
       "max      1.001000e+09            2024-05-18 19:06:29     10.000000   \n",
       "std      2.890708e+05                            NaN      2.868476   \n",
       "\n",
       "          Amount($)  \n",
       "count  38500.000000  \n",
       "mean      52.459843  \n",
       "min        5.000000  \n",
       "25%       28.760000  \n",
       "50%       52.260000  \n",
       "75%       76.350000  \n",
       "max      100.000000  \n",
       "std       27.442214  "
      ]
     },
     "execution_count": 25,
     "metadata": {},
     "output_type": "execute_result"
    }
   ],
   "source": [
    "df.describe()"
   ]
  },
  {
   "cell_type": "markdown",
   "metadata": {},
   "source": [
    "The statistical summary of the dataset shows that for the numerical columns, the mean and 50th percentile (median) values are closely aligned, indicating a relatively symmetric distribution with minimal skew. The values across different columns, including `Transaction_ID`, `Total_Items`, and `Amount($)`, suggest a consistent range without significant deviations, implying the absence of notable outliers in the dataset.\n",
    "\n",
    "---"
   ]
  },
  {
   "cell_type": "markdown",
   "metadata": {},
   "source": [
    "## **Data Preprocessing Completed** ☑️☑️\n",
    "\n",
    "The data preprocessing phase has been successfully completed, with missing values handled and data types appropriately assigned. After reviewing the dataset, no significant outliers or data duplicates were found. With the dataset now cleaned and ready, we will proceed to the next phase of the analysis, where we will dive deeper into exploring and interpreting the data to derive actionable insights.\n",
    "\n",
    "--- "
   ]
  },
  {
   "cell_type": "markdown",
   "metadata": {},
   "source": [
    "## **Data Analysis** \n",
    "### ~ Finding meaningful insights. "
   ]
  },
  {
   "cell_type": "code",
   "execution_count": null,
   "metadata": {},
   "outputs": [],
   "source": []
  }
 ],
 "metadata": {
  "kernelspec": {
   "display_name": "Python 3",
   "language": "python",
   "name": "python3"
  },
  "language_info": {
   "codemirror_mode": {
    "name": "ipython",
    "version": 3
   },
   "file_extension": ".py",
   "mimetype": "text/x-python",
   "name": "python",
   "nbconvert_exporter": "python",
   "pygments_lexer": "ipython3",
   "version": "3.12.3"
  }
 },
 "nbformat": 4,
 "nbformat_minor": 2
}
