{
 "cells": [
  {
   "cell_type": "markdown",
   "id": "593a4459",
   "metadata": {},
   "source": [
    "### **TF-IDF (Term Frequency – Inverse Document Frequency)**\n",
    "\n",
    "---\n",
    "\n",
    "### **What is TF-IDF?**\n",
    "\n",
    "**TF-IDF** is a text representation method that tells us:\n",
    "\n",
    "> **How important a word is in a document**, compared to all other documents in the dataset.\n",
    "\n",
    "It gives **higher weight** to important (rare but meaningful) words and **lower weight** to common words.\n",
    "\n",
    "---\n",
    "\n",
    "### **Why Use TF-IDF?**\n",
    "\n",
    "* BoW only counts word frequency — it treats all words equally.\n",
    "* But some words (like \"the\", \"is\", \"and\") appear in every document and are not useful.\n",
    "* TF-IDF **reduces the weight of common words** and **increases the weight of unique/important words**.\n",
    "\n",
    "---\n",
    "\n",
    "###  **How Does It Work?**\n",
    "\n",
    "TF-IDF = **TF × IDF**\n",
    "\n",
    "* **TF (Term Frequency)** = How often a word appears in a document\n",
    "* **IDF (Inverse Document Frequency)** = How rare the word is across all documents\n",
    "\n",
    "If a word appears in many documents → IDF becomes low → TF-IDF becomes low\n",
    "\n",
    "---\n",
    "\n",
    "### **Summary**\n",
    "\n",
    "| Aspect    | Details                                          |\n",
    "| --------- | ------------------------------------------------ |\n",
    "| Purpose   | Weight words by importance                       |\n",
    "| Pros      | Reduces noise from common words                  |\n",
    "| Cons      | Still doesn’t capture word order or meaning      |\n",
    "| Use Cases | Text classification, document similarity, search |\n",
    "\n",
    "---\n"
   ]
  },
  {
   "cell_type": "code",
   "execution_count": 1,
   "id": "313e9522",
   "metadata": {},
   "outputs": [],
   "source": [
    "import pandas as pd"
   ]
  },
  {
   "cell_type": "code",
   "execution_count": 2,
   "id": "fd89a01f",
   "metadata": {},
   "outputs": [
    {
     "data": {
      "text/html": [
       "<div>\n",
       "<style scoped>\n",
       "    .dataframe tbody tr th:only-of-type {\n",
       "        vertical-align: middle;\n",
       "    }\n",
       "\n",
       "    .dataframe tbody tr th {\n",
       "        vertical-align: top;\n",
       "    }\n",
       "\n",
       "    .dataframe thead th {\n",
       "        text-align: right;\n",
       "    }\n",
       "</style>\n",
       "<table border=\"1\" class=\"dataframe\">\n",
       "  <thead>\n",
       "    <tr style=\"text-align: right;\">\n",
       "      <th></th>\n",
       "      <th>text</th>\n",
       "      <th>output</th>\n",
       "    </tr>\n",
       "  </thead>\n",
       "  <tbody>\n",
       "    <tr>\n",
       "      <th>0</th>\n",
       "      <td>people watch campusx</td>\n",
       "      <td>1</td>\n",
       "    </tr>\n",
       "    <tr>\n",
       "      <th>1</th>\n",
       "      <td>campusx watch campusx</td>\n",
       "      <td>1</td>\n",
       "    </tr>\n",
       "    <tr>\n",
       "      <th>2</th>\n",
       "      <td>people write comment</td>\n",
       "      <td>0</td>\n",
       "    </tr>\n",
       "    <tr>\n",
       "      <th>3</th>\n",
       "      <td>campusx write comment</td>\n",
       "      <td>0</td>\n",
       "    </tr>\n",
       "  </tbody>\n",
       "</table>\n",
       "</div>"
      ],
      "text/plain": [
       "                    text  output\n",
       "0   people watch campusx       1\n",
       "1  campusx watch campusx       1\n",
       "2   people write comment       0\n",
       "3  campusx write comment       0"
      ]
     },
     "execution_count": 2,
     "metadata": {},
     "output_type": "execute_result"
    }
   ],
   "source": [
    "df = pd.DataFrame({'text': ['people watch campusx', 'campusx watch campusx', 'people write comment', 'campusx write comment'], 'output': [1, 1, 0, 0]})\n",
    "df"
   ]
  },
  {
   "cell_type": "code",
   "execution_count": 4,
   "id": "64b2b1a0",
   "metadata": {},
   "outputs": [],
   "source": [
    "from sklearn.feature_extraction.text import TfidfVectorizer\n"
   ]
  },
  {
   "cell_type": "code",
   "execution_count": null,
   "id": "d533821d",
   "metadata": {},
   "outputs": [],
   "source": [
    "tfidf =TfidfVectorizer()\n"
   ]
  },
  {
   "cell_type": "code",
   "execution_count": 6,
   "id": "dbadd8bf",
   "metadata": {},
   "outputs": [
    {
     "data": {
      "text/plain": [
       "array([[0.49681612, 0.        , 0.61366674, 0.61366674, 0.        ],\n",
       "       [0.8508161 , 0.        , 0.        , 0.52546357, 0.        ],\n",
       "       [0.        , 0.57735027, 0.57735027, 0.        , 0.57735027],\n",
       "       [0.49681612, 0.61366674, 0.        , 0.        , 0.61366674]])"
      ]
     },
     "execution_count": 6,
     "metadata": {},
     "output_type": "execute_result"
    }
   ],
   "source": [
    "tfidf.fit_transform(df['text']).toarray()"
   ]
  },
  {
   "cell_type": "code",
   "execution_count": 11,
   "id": "c841a18e",
   "metadata": {},
   "outputs": [
    {
     "name": "stdout",
     "output_type": "stream",
     "text": [
      "[1.22314355 1.51082562 1.51082562 1.51082562 1.51082562]\n",
      "['campusx' 'comment' 'people' 'watch' 'write']\n"
     ]
    }
   ],
   "source": [
    "print(tfidf.idf_)\n",
    "print(tfidf.get_feature_names_out())"
   ]
  },
  {
   "cell_type": "markdown",
   "id": "0925e0f4",
   "metadata": {},
   "source": [
    "### **You Can Do this with N-Grams also**"
   ]
  },
  {
   "cell_type": "code",
   "execution_count": 12,
   "id": "e63ebe74",
   "metadata": {},
   "outputs": [],
   "source": [
    "tfidf =TfidfVectorizer(ngram_range=(2,2))\n"
   ]
  },
  {
   "cell_type": "code",
   "execution_count": 13,
   "id": "17bfad0e",
   "metadata": {},
   "outputs": [
    {
     "data": {
      "text/plain": [
       "array([[0.        , 0.        , 0.78528828, 0.        , 0.6191303 ,\n",
       "        0.        ],\n",
       "       [0.78528828, 0.        , 0.        , 0.        , 0.6191303 ,\n",
       "        0.        ],\n",
       "       [0.        , 0.        , 0.        , 0.78528828, 0.        ,\n",
       "        0.6191303 ],\n",
       "       [0.        , 0.78528828, 0.        , 0.        , 0.        ,\n",
       "        0.6191303 ]])"
      ]
     },
     "execution_count": 13,
     "metadata": {},
     "output_type": "execute_result"
    }
   ],
   "source": [
    "tfidf.fit_transform(df['text']).toarray()"
   ]
  },
  {
   "cell_type": "code",
   "execution_count": 14,
   "id": "da8a2c70",
   "metadata": {},
   "outputs": [
    {
     "name": "stdout",
     "output_type": "stream",
     "text": [
      "[1.91629073 1.91629073 1.91629073 1.91629073 1.51082562 1.51082562]\n",
      "['campusx watch' 'campusx write' 'people watch' 'people write'\n",
      " 'watch campusx' 'write comment']\n"
     ]
    }
   ],
   "source": [
    "print(tfidf.idf_)\n",
    "print(tfidf.get_feature_names_out())"
   ]
  }
 ],
 "metadata": {
  "kernelspec": {
   "display_name": "Python 3",
   "language": "python",
   "name": "python3"
  },
  "language_info": {
   "codemirror_mode": {
    "name": "ipython",
    "version": 3
   },
   "file_extension": ".py",
   "mimetype": "text/x-python",
   "name": "python",
   "nbconvert_exporter": "python",
   "pygments_lexer": "ipython3",
   "version": "3.10.16"
  }
 },
 "nbformat": 4,
 "nbformat_minor": 5
}
