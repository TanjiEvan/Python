{
 "cells": [
  {
   "cell_type": "code",
   "execution_count": 1,
   "id": "023275da",
   "metadata": {},
   "outputs": [],
   "source": [
    "import re"
   ]
  },
  {
   "cell_type": "code",
   "execution_count": 2,
   "id": "506ae443",
   "metadata": {},
   "outputs": [
    {
     "data": {
      "text/plain": [
       "[('2021 Q1', '4.85'), ('2020 Q4', '3')]"
      ]
     },
     "execution_count": 2,
     "metadata": {},
     "output_type": "execute_result"
    }
   ],
   "source": [
    "text = '''\n",
    "Tesla's gross cost of operating lease vehicles in FY2021 Q1 was $4.85 billion. \n",
    "In previous quarter i.e. FY2020 Q4 it was $3 billion.\n",
    "'''\n",
    "\n",
    "pattern = \"FY(\\d{4} Q[1-4])[^\\$]+\\$([\\d\\.]+)\"\n",
    "\n",
    "matches = re.findall(pattern, text)\n",
    "matches"
   ]
  },
  {
   "cell_type": "code",
   "execution_count": 7,
   "id": "5bc4dd00",
   "metadata": {},
   "outputs": [
    {
     "data": {
      "text/plain": [
       "<re.Match object; span=(51, 70), match='FY2021 Q1 was $4.85'>"
      ]
     },
     "execution_count": 7,
     "metadata": {},
     "output_type": "execute_result"
    }
   ],
   "source": [
    "matches = re.search(pattern, text)\n",
    "matches"
   ]
  },
  {
   "cell_type": "code",
   "execution_count": 8,
   "id": "d86fece6",
   "metadata": {},
   "outputs": [
    {
     "data": {
      "text/plain": [
       "('2021 Q1', '4.85')"
      ]
     },
     "execution_count": 8,
     "metadata": {},
     "output_type": "execute_result"
    }
   ],
   "source": [
    "matches.groups()"
   ]
  },
  {
   "cell_type": "markdown",
   "id": "d4205422",
   "metadata": {},
   "source": [
    "1. Extract all twitter handles from following text. Twitter handle is the text that appears after https://twitter.com/ and is a single word. Also it contains only alpha numeric characters i.e. A-Z a-z , o to 9 and underscore _"
   ]
  },
  {
   "cell_type": "code",
   "execution_count": 14,
   "id": "c90d70b8",
   "metadata": {},
   "outputs": [
    {
     "data": {
      "text/plain": [
       "['https://twitter.com/elonmusk',\n",
       " 'https://twitter.com/teslarati',\n",
       " 'https://twitter.com/dummy_tesla',\n",
       " 'https://twitter.com/dummy_2_tesla']"
      ]
     },
     "execution_count": 14,
     "metadata": {},
     "output_type": "execute_result"
    }
   ],
   "source": [
    "text = '''\n",
    "Follow our leader Elon musk on twitter here: https://twitter.com/elonmusk, more information \n",
    "on Tesla's products can be found at https://www.tesla.com/. Also here are leading influencers \n",
    "for tesla related news,\n",
    "https://twitter.com/teslarati\n",
    "https://twitter.com/dummy_tesla\n",
    "https://twitter.com/dummy_2_tesla\n",
    "'''\n",
    "pattern = \"https://twitter.com/[a-z]+_[a-z]+|https://twitter.com/[a-z]+_[0-9]_[a-z]+|https://twitter.com/[a-z]+\"\n",
    "\n",
    "re.findall(pattern, text)"
   ]
  },
  {
   "cell_type": "code",
   "execution_count": 10,
   "id": "5cd504d4",
   "metadata": {},
   "outputs": [
    {
     "data": {
      "text/plain": [
       "['elonmusk', 'teslarati', 'dummy_tesla', 'dummy_2_tesla']"
      ]
     },
     "execution_count": 10,
     "metadata": {},
     "output_type": "execute_result"
    }
   ],
   "source": [
    "text = '''\n",
    "Follow our leader Elon musk on twitter here: https://twitter.com/elonmusk, more information \n",
    "on Tesla's products can be found at https://www.tesla.com/. Also here are leading influencers \n",
    "for tesla related news,\n",
    "https://twitter.com/teslarati\n",
    "https://twitter.com/dummy_tesla\n",
    "https://twitter.com/dummy_2_tesla\n",
    "'''\n",
    "pattern = 'https://twitter\\.com/([a-zA-Z0-9_]+)'\n",
    "\n",
    "re.findall(pattern, text)"
   ]
  },
  {
   "cell_type": "markdown",
   "id": "299527ec",
   "metadata": {},
   "source": [
    "2. Extract Concentration Risk Types. It will be a text that appears after \"Concentration Risk:\", In below example, your regex should extract these two strings\n",
    "\n",
    "(1) Credit Risk\n",
    "\n",
    "(2) Supply Risk"
   ]
  },
  {
   "cell_type": "code",
   "execution_count": 16,
   "id": "3810c6de",
   "metadata": {},
   "outputs": [
    {
     "data": {
      "text/plain": [
       "['Credit Risk', 'Supply Risk']"
      ]
     },
     "execution_count": 16,
     "metadata": {},
     "output_type": "execute_result"
    }
   ],
   "source": [
    "text = '''\n",
    "Concentration of Risk: Credit Risk\n",
    "Financial instruments that potentially subject us to a concentration of credit risk consist of cash, cash equivalents, marketable securities,\n",
    "restricted cash, accounts receivable, convertible note hedges, and interest rate swaps. Our cash balances are primarily invested in money market funds\n",
    "or on deposit at high credit quality financial institutions in the U.S. These deposits are typically in excess of insured limits. As of September 30, 2021\n",
    "and December 31, 2020, no entity represented 10% or more of our total accounts receivable balance. The risk of concentration for our convertible note\n",
    "hedges and interest rate swaps is mitigated by transacting with several highly-rated multinational banks.\n",
    "Concentration of Risk: Supply Risk\n",
    "We are dependent on our suppliers, including single source suppliers, and the inability of these suppliers to deliver necessary components of our\n",
    "products in a timely manner at prices, quality levels and volumes acceptable to us, or our inability to efficiently manage these components from these\n",
    "suppliers, could have a material adverse effect on our business, prospects, financial condition and operating results.\n",
    "'''\n",
    "pattern = \"Concentration of Risk: ([^\\n]+)\"\n",
    "\n",
    "re.findall(pattern, text)"
   ]
  },
  {
   "cell_type": "markdown",
   "id": "7ced8a22",
   "metadata": {},
   "source": [
    "3. Companies in europe reports their financial numbers of semi annual basis and you can have a document like this. To exatract quarterly and semin annual period you can use a regex as shown below"
   ]
  },
  {
   "cell_type": "code",
   "execution_count": 23,
   "id": "bac2a651",
   "metadata": {},
   "outputs": [
    {
     "data": {
      "text/plain": [
       "['2021 Q1', '2021 S1']"
      ]
     },
     "execution_count": 23,
     "metadata": {},
     "output_type": "execute_result"
    }
   ],
   "source": [
    "text = '''\n",
    "Tesla's gross cost of operating lease vehicles in FY2021 Q1 was $4.85 billion.\n",
    "BMW's gross cost of operating vehicles in FY2021 S1 was $8 billion.\n",
    "'''\n",
    "\n",
    "pattern = 'FY(\\d{4} (?:Q[1-4]|S[1-2]))' # todo: type your regex here\n",
    "matches = re.findall(pattern, text)\n",
    "matches"
   ]
  },
  {
   "cell_type": "markdown",
   "id": "45391932",
   "metadata": {},
   "source": [
    "## **Regular Expression in Python**"
   ]
  },
  {
   "cell_type": "markdown",
   "id": "bbfecf25",
   "metadata": {},
   "source": [
    "\n",
    "---\n",
    "\n",
    "###  **What is Regex?**\n",
    "\n",
    "**Regex (Regular Expression)** is a special sequence of characters that helps you **search, match, or manipulate text** easily.\n",
    "\n",
    "Think of it like a **smart filter** that can find patterns in text — such as email addresses, phone numbers, specific words, or even dates.\n",
    "\n",
    "---\n",
    "\n",
    "### **Why is Regex Needed?**\n",
    "\n",
    "Imagine these tasks:\n",
    "\n",
    "* You want to find **all email addresses** in a file.\n",
    "* You want to check if a **password is strong** (has numbers, capital letters, symbols, etc.).\n",
    "* You want to **replace** all dates written like `01-01-2023` with `2023/01/01`.\n",
    "\n",
    "Doing these with normal string methods (`split()`, `find()`, etc.) is hard. **Regex makes it super easy.**\n",
    "\n",
    "---\n",
    "\n",
    "### **How to Use Regex in Python**\n",
    "\n",
    "Python has a built-in library called `re` for Regex.\n",
    "\n",
    "```python\n",
    "import re\n",
    "```\n",
    "\n",
    "---\n",
    "\n",
    "### **Common Regex Functions in Python**\n",
    "\n",
    "| Function       | Description                              |\n",
    "| -------------- | ---------------------------------------- |\n",
    "| `re.search()`  | Finds the first match                    |\n",
    "| `re.findall()` | Finds all matches in a string            |\n",
    "| `re.sub()`     | Replaces matched text                    |\n",
    "| `re.match()`   | Checks if the string starts with a match |\n",
    "| `re.split()`   | Splits string by the matched pattern     |\n",
    "\n",
    "---\n",
    "\n",
    "### **Examples**\n",
    "\n",
    "### Example 1: Check if a string contains a number\n",
    "\n",
    "```python\n",
    "import re\n",
    "\n",
    "text = \"I have 2 apples\"\n",
    "if re.search(r\"\\d\", text):\n",
    "    print(\"Contains a number\")\n",
    "```\n",
    "\n",
    "###  Example 2: Find all email addresses\n",
    "\n",
    "```python\n",
    "text = \"Contact us at hello@example.com or info@site.org\"\n",
    "emails = re.findall(r\"\\S+@\\S+\\.\\S+\", text)\n",
    "print(emails)\n",
    "```\n",
    "\n",
    "### Example 3: Replace all digits with `*`\n",
    "\n",
    "```python\n",
    "text = \"Phone: 123-456-7890\"\n",
    "new_text = re.sub(r\"\\d\", \"*\", text)\n",
    "print(new_text)\n",
    "```\n",
    "\n",
    "### Example 4: Check if the string starts with \"Hello\"\n",
    "\n",
    "```python\n",
    "text = \"Hello World!\"\n",
    "if re.match(r\"Hello\", text):\n",
    "    print(\"Starts with Hello\")\n",
    "```\n",
    "\n",
    "---\n",
    "\n",
    "### **Real-Life Use Cases**\n",
    "\n",
    "| Task              | Regex Use                                           |\n",
    "| ----------------- | --------------------------------------------------- |\n",
    "| Form validation   | Check if email/phone is valid                       |\n",
    "| Data cleaning     | Remove unwanted symbols or whitespace               |\n",
    "| Web scraping      | Extract emails, URLs, or prices                     |\n",
    "| Log file analysis | Find error messages, timestamps                     |\n",
    "| Password rules    | Ensure strong passwords with numbers, symbols, etc. |\n",
    "\n",
    "---\n",
    "\n",
    "### **Tips for Beginners**\n",
    "\n",
    "* Always start small and test your pattern.\n",
    "* Use **raw strings** in Python like `r\"\\d+\"` (to avoid `\\\\` confusion).\n",
    "* Use online tools like [regex101.com](https://regex101.com/) to test your pattern.\n",
    "* Break your pattern into parts if it gets too complex.\n",
    "\n",
    "---\n",
    "\n",
    "### **Summary**\n",
    "\n",
    "* Regex is like a powerful search tool for patterns in text.\n",
    "* Python has a built-in `re` module for Regex.\n",
    "* It's useful for validation, cleaning, searching, and replacing text.\n",
    "\n",
    "---"
   ]
  },
  {
   "cell_type": "markdown",
   "id": "f7f5685d",
   "metadata": {},
   "source": [
    "### **Regex Coding Exercises**"
   ]
  },
  {
   "cell_type": "code",
   "execution_count": 24,
   "id": "9837e632",
   "metadata": {},
   "outputs": [],
   "source": [
    "## re library \n",
    "\n",
    "import re"
   ]
  },
  {
   "cell_type": "markdown",
   "id": "7f7c525c",
   "metadata": {},
   "source": [
    "**1. Extract Phone Numbers**"
   ]
  },
  {
   "cell_type": "code",
   "execution_count": 25,
   "id": "7507147c",
   "metadata": {},
   "outputs": [
    {
     "data": {
      "text/plain": [
       "['01794303336', '+8801892432631']"
      ]
     },
     "execution_count": 25,
     "metadata": {},
     "output_type": "execute_result"
    }
   ],
   "source": [
    "import re\n",
    "\n",
    "text = \"Please contact 01794303336 or +8801892432631 for any info.\"\n",
    "\n",
    "pattern = \"\\d{11}|\\+88\\d{11}\"\n",
    "\n",
    "re.findall(pattern,text)\n",
    "\n"
   ]
  },
  {
   "cell_type": "markdown",
   "id": "635ee54c",
   "metadata": {},
   "source": [
    "**2. Extract Note Titles**"
   ]
  },
  {
   "cell_type": "code",
   "execution_count": 26,
   "id": "b6839cc4",
   "metadata": {},
   "outputs": [
    {
     "data": {
      "text/plain": [
       "['Note 1 - Overview',\n",
       " 'Note 2 - COVID-19 Impact',\n",
       " 'Note 3 - Basis of Preparation']"
      ]
     },
     "execution_count": 26,
     "metadata": {},
     "output_type": "execute_result"
    }
   ],
   "source": [
    "text = \"\"\"\n",
    "Note 1 - Overview\n",
    "Grameenphone Ltd. (“Grameenphone”, the “Company”, “we”, “us” or “our”) was incorporated in Bangladesh under the \n",
    "Companies Act (1994). We are the leading telecommunications service provider in Bangladesh, offering voice, data, \n",
    "and digital services nationwide. The company operates under a single reportable segment: telecommunications services.\n",
    "\n",
    "Note 2 - COVID-19 Impact\n",
    "During 2021 and 2022, the COVID-19 pandemic affected our retail operations, network expansions, \n",
    "and field support services. Movement restrictions and lockdowns impacted customer acquisition and recharge volumes. \n",
    "However, digital engagement and mobile internet usage increased significantly during this period.\n",
    "\n",
    "Note 3 - Basis of Preparation\n",
    "These unaudited interim financial statements have been prepared in accordance with International Accounting Standard (IAS) \n",
    "34 “Interim Financial Reporting”. These statements should be read in conjunction with the annual financial statements for \n",
    "the year ended December 31, 2021.\n",
    "\n",
    "\"\"\"\n",
    "\n",
    "pattern = \"Note \\d - [^\\n]+\"\n",
    "\n",
    "re.findall(pattern,text)\n"
   ]
  },
  {
   "cell_type": "code",
   "execution_count": 27,
   "id": "ea7e8dbb",
   "metadata": {},
   "outputs": [
    {
     "data": {
      "text/plain": [
       "['Overview', 'COVID-19 Impact', 'Basis of Preparation']"
      ]
     },
     "execution_count": 27,
     "metadata": {},
     "output_type": "execute_result"
    }
   ],
   "source": [
    "text = \"\"\"\n",
    "Note 1 - Overview\n",
    "Grameenphone Ltd. (“Grameenphone”, the “Company”, “we”, “us” or “our”) was incorporated in Bangladesh under the \n",
    "Companies Act (1994). We are the leading telecommunications service provider in Bangladesh, offering voice, data, \n",
    "and digital services nationwide. The company operates under a single reportable segment: telecommunications services.\n",
    "\n",
    "Note 2 - COVID-19 Impact\n",
    "During 2021 and 2022, the COVID-19 pandemic affected our retail operations, network expansions, \n",
    "and field support services. Movement restrictions and lockdowns impacted customer acquisition and recharge volumes. \n",
    "However, digital engagement and mobile internet usage increased significantly during this period.\n",
    "\n",
    "Note 3 - Basis of Preparation\n",
    "These unaudited interim financial statements have been prepared in accordance with International Accounting Standard (IAS) \n",
    "34 “Interim Financial Reporting”. These statements should be read in conjunction with the annual financial statements for \n",
    "the year ended December 31, 2021.\n",
    "\n",
    "\"\"\"\n",
    "\n",
    "pattern = \"Note \\d - ([^\\n]+)\"\n",
    "\n",
    "re.findall(pattern,text)\n"
   ]
  },
  {
   "cell_type": "markdown",
   "id": "bea2845c",
   "metadata": {},
   "source": [
    "**3. Extract Financial Periods (e.g., \"Jan 2024\", \"Q1 2023\")**\n"
   ]
  },
  {
   "cell_type": "code",
   "execution_count": 28,
   "id": "6f3edb63",
   "metadata": {},
   "outputs": [
    {
     "data": {
      "text/plain": [
       "['FY2022 Q3', 'FY2022 Q2']"
      ]
     },
     "execution_count": 28,
     "metadata": {},
     "output_type": "execute_result"
    }
   ],
   "source": [
    "text = \"\"\"\n",
    "The total revenue from mobile financial services in FY2022 Q3 was BDT 2,450 crore.\n",
    "In the previous quarter i.e. FY2022 Q2, it was BDT 2,120 crore.\n",
    "\"\"\"\n",
    "pattern = \"FY\\d{4} Q[1-4]\"\n",
    "\n",
    "re.findall(pattern,text)\n",
    "\n"
   ]
  },
  {
   "cell_type": "code",
   "execution_count": 29,
   "id": "a70f0c73",
   "metadata": {},
   "outputs": [
    {
     "data": {
      "text/plain": [
       "['2022 Q3', '2022 Q2']"
      ]
     },
     "execution_count": 29,
     "metadata": {},
     "output_type": "execute_result"
    }
   ],
   "source": [
    "text = \"\"\"\n",
    "The total revenue from mobile financial services in FY2022 Q3 was BDT 2,450 crore.\n",
    "In the previous quarter i.e. FY2022 Q2, it was BDT 2,120 crore.\n",
    "\"\"\"\n",
    "pattern = \"FY(\\d{4} Q[1-4])\"\n",
    "\n",
    "re.findall(pattern,text)"
   ]
  },
  {
   "cell_type": "markdown",
   "id": "bb4db1d0",
   "metadata": {},
   "source": [
    "**4. Extract Only Financial Numbers**"
   ]
  },
  {
   "cell_type": "code",
   "execution_count": 30,
   "id": "869306fa",
   "metadata": {},
   "outputs": [
    {
     "data": {
      "text/plain": [
       "['BDT 2,450', 'BDT 2,120']"
      ]
     },
     "execution_count": 30,
     "metadata": {},
     "output_type": "execute_result"
    }
   ],
   "source": [
    "text = \"\"\"\n",
    "The total revenue from mobile financial services in FY2022 Q3 was BDT 2,450 crore.\n",
    "In the previous quarter i.e. FY2022 Q2, it was BDT 2,120 crore.\n",
    "\"\"\"\n",
    "pattern = \"BDT [0-9,]+\"\n",
    "\n",
    "re.findall(pattern,text)"
   ]
  },
  {
   "cell_type": "code",
   "execution_count": 31,
   "id": "80093596",
   "metadata": {},
   "outputs": [
    {
     "data": {
      "text/plain": [
       "['2,450', '2,120']"
      ]
     },
     "execution_count": 31,
     "metadata": {},
     "output_type": "execute_result"
    }
   ],
   "source": [
    "text = \"\"\"\n",
    "The total revenue from mobile financial services in FY2022 Q3 was BDT 2,450 crore.\n",
    "In the previous quarter i.e. FY2022 Q2, it was BDT 2,120 crore.\n",
    "\"\"\"\n",
    "pattern = \"BDT ([0-9,]+)\"\n",
    "\n",
    "re.findall(pattern,text)"
   ]
  },
  {
   "cell_type": "markdown",
   "id": "fb7fc356",
   "metadata": {},
   "source": [
    "**5. Extract Periods and Financial Numbers Together**"
   ]
  },
  {
   "cell_type": "code",
   "execution_count": 33,
   "id": "f313a960",
   "metadata": {},
   "outputs": [
    {
     "data": {
      "text/plain": [
       "[('2022 Q3', '2,450 crore'), ('2022 Q2', '2,120 crore')]"
      ]
     },
     "execution_count": 33,
     "metadata": {},
     "output_type": "execute_result"
    }
   ],
   "source": [
    "text = \"\"\"\n",
    "The total revenue from mobile financial services in FY2022 Q3 was BDT 2,450 crore.\n",
    "In the previous quarter i.e. FY2022 Q2, it was BDT 2,120 crore.\n",
    "\"\"\"\n",
    "pattern = \"FY(\\d{4} Q[1-4])[^(BDT)]+BDT ([0-9,]+ [a-zA-Z]+)\"\n",
    "\n",
    "re.findall(pattern,text)"
   ]
  },
  {
   "cell_type": "markdown",
   "id": "95cda092",
   "metadata": {},
   "source": [
    "**6. Extract Any Link (e.g., Facebook, LinkedIn, Website)**"
   ]
  },
  {
   "cell_type": "code",
   "execution_count": 35,
   "id": "57ce49a3",
   "metadata": {},
   "outputs": [
    {
     "data": {
      "text/plain": [
       "['https://www.datasolution360.com/',\n",
       " 'https://www.facebook.com/Datasolution360',\n",
       " 'https://www.linkedin.com/company/data-solution-360/']"
      ]
     },
     "execution_count": 35,
     "metadata": {},
     "output_type": "execute_result"
    }
   ],
   "source": [
    "text = \"\"\"\n",
    "For more information, visit our  website at https://www.datasolution360.com/ or follow us on Facebook:\n",
    "https://www.facebook.com/Datasolution360 and You can also check out us at linkedin https://www.linkedin.com/company/data-solution-360/\n",
    "\"\"\"\n",
    "\n",
    "pattern = \"https?://\\S+\"\n",
    "re.findall(pattern,text)\n"
   ]
  },
  {
   "cell_type": "markdown",
   "id": "04928035",
   "metadata": {},
   "source": [
    " **7. Extract Emails**"
   ]
  },
  {
   "cell_type": "code",
   "execution_count": 36,
   "id": "6a212afb",
   "metadata": {},
   "outputs": [
    {
     "name": "stdout",
     "output_type": "stream",
     "text": [
      "['tanji.evan23@gmail.com', 'datasolution360.business@gmail.com']\n"
     ]
    }
   ],
   "source": [
    "text = \"Contact us at tanji.evan23@gmail.com or datasolution360.business@gmail.com\"\n",
    "\n",
    "emails = re.findall(r\"\\S+@\\S+\", text)\n",
    "print(emails)\n"
   ]
  }
 ],
 "metadata": {
  "kernelspec": {
   "display_name": "base",
   "language": "python",
   "name": "python3"
  },
  "language_info": {
   "codemirror_mode": {
    "name": "ipython",
    "version": 3
   },
   "file_extension": ".py",
   "mimetype": "text/x-python",
   "name": "python",
   "nbconvert_exporter": "python",
   "pygments_lexer": "ipython3",
   "version": "3.11.7"
  }
 },
 "nbformat": 4,
 "nbformat_minor": 5
}
