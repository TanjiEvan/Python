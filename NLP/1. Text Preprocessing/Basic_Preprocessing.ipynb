{
 "cells": [
  {
   "cell_type": "markdown",
   "id": "d587c6a0",
   "metadata": {},
   "source": [
    "### **1. Lowercasing**"
   ]
  },
  {
   "cell_type": "code",
   "execution_count": 17,
   "id": "f88780a3",
   "metadata": {},
   "outputs": [],
   "source": [
    "import pandas as pd"
   ]
  },
  {
   "cell_type": "code",
   "execution_count": 3,
   "id": "85b0018a",
   "metadata": {},
   "outputs": [
    {
     "data": {
      "application/vnd.microsoft.datawrangler.viewer.v0+json": {
       "columns": [
        {
         "name": "index",
         "rawType": "int64",
         "type": "integer"
        },
        {
         "name": "review",
         "rawType": "object",
         "type": "string"
        },
        {
         "name": "sentiment",
         "rawType": "object",
         "type": "string"
        }
       ],
       "conversionMethod": "pd.DataFrame",
       "ref": "52d06f88-f951-48c0-bdd5-9f1b4cfcd7fe",
       "rows": [
        [
         "0",
         "One of the other reviewers has mentioned that after watching just 1 Oz episode you'll be hooked. They are right, as this is exactly what happened with me.<br /><br />The first thing that struck me about Oz was its brutality and unflinching scenes of violence, which set in right from the word GO. Trust me, this is not a show for the faint hearted or timid. This show pulls no punches with regards to drugs, sex or violence. Its is hardcore, in the classic use of the word.<br /><br />It is called OZ as that is the nickname given to the Oswald Maximum Security State Penitentary. It focuses mainly on Emerald City, an experimental section of the prison where all the cells have glass fronts and face inwards, so privacy is not high on the agenda. Em City is home to many..Aryans, Muslims, gangstas, Latinos, Christians, Italians, Irish and more....so scuffles, death stares, dodgy dealings and shady agreements are never far away.<br /><br />I would say the main appeal of the show is due to the fact that it goes where other shows wouldn't dare. Forget pretty pictures painted for mainstream audiences, forget charm, forget romance...OZ doesn't mess around. The first episode I ever saw struck me as so nasty it was surreal, I couldn't say I was ready for it, but as I watched more, I developed a taste for Oz, and got accustomed to the high levels of graphic violence. Not just violence, but injustice (crooked guards who'll be sold out for a nickel, inmates who'll kill on order and get away with it, well mannered, middle class inmates being turned into prison bitches due to their lack of street skills or prison experience) Watching Oz, you may become comfortable with what is uncomfortable viewing....thats if you can get in touch with your darker side.",
         "positive"
        ],
        [
         "1",
         "A wonderful little production. <br /><br />The filming technique is very unassuming- very old-time-BBC fashion and gives a comforting, and sometimes discomforting, sense of realism to the entire piece. <br /><br />The actors are extremely well chosen- Michael Sheen not only \"has got all the polari\" but he has all the voices down pat too! You can truly see the seamless editing guided by the references to Williams' diary entries, not only is it well worth the watching but it is a terrificly written and performed piece. A masterful production about one of the great master's of comedy and his life. <br /><br />The realism really comes home with the little things: the fantasy of the guard which, rather than use the traditional 'dream' techniques remains solid then disappears. It plays on our knowledge and our senses, particularly with the scenes concerning Orton and Halliwell and the sets (particularly of their flat with Halliwell's murals decorating every surface) are terribly well done.",
         "positive"
        ],
        [
         "2",
         "I thought this was a wonderful way to spend time on a too hot summer weekend, sitting in the air conditioned theater and watching a light-hearted comedy. The plot is simplistic, but the dialogue is witty and the characters are likable (even the well bread suspected serial killer). While some may be disappointed when they realize this is not Match Point 2: Risk Addiction, I thought it was proof that Woody Allen is still fully in control of the style many of us have grown to love.<br /><br />This was the most I'd laughed at one of Woody's comedies in years (dare I say a decade?). While I've never been impressed with Scarlet Johanson, in this she managed to tone down her \"sexy\" image and jumped right into a average, but spirited young woman.<br /><br />This may not be the crown jewel of his career, but it was wittier than \"Devil Wears Prada\" and more interesting than \"Superman\" a great comedy to go see with friends.",
         "positive"
        ],
        [
         "3",
         "Basically there's a family where a little boy (Jake) thinks there's a zombie in his closet & his parents are fighting all the time.<br /><br />This movie is slower than a soap opera... and suddenly, Jake decides to become Rambo and kill the zombie.<br /><br />OK, first of all when you're going to make a film you must Decide if its a thriller or a drama! As a drama the movie is watchable. Parents are divorcing & arguing like in real life. And then we have Jake with his closet which totally ruins all the film! I expected to see a BOOGEYMAN similar movie, and instead i watched a drama with some meaningless thriller spots.<br /><br />3 out of 10 just for the well playing parents & descent dialogs. As for the shots with Jake: just ignore them.",
         "negative"
        ],
        [
         "4",
         "Petter Mattei's \"Love in the Time of Money\" is a visually stunning film to watch. Mr. Mattei offers us a vivid portrait about human relations. This is a movie that seems to be telling us what money, power and success do to people in the different situations we encounter. <br /><br />This being a variation on the Arthur Schnitzler's play about the same theme, the director transfers the action to the present time New York where all these different characters meet and connect. Each one is connected in one way, or another to the next person, but no one seems to know the previous point of contact. Stylishly, the film has a sophisticated luxurious look. We are taken to see how these people live and the world they live in their own habitat.<br /><br />The only thing one gets out of all these souls in the picture is the different stages of loneliness each one inhabits. A big city is not exactly the best place in which human relations find sincere fulfillment, as one discerns is the case with most of the people we encounter.<br /><br />The acting is good under Mr. Mattei's direction. Steve Buscemi, Rosario Dawson, Carol Kane, Michael Imperioli, Adrian Grenier, and the rest of the talented cast, make these characters come alive.<br /><br />We wish Mr. Mattei good luck and await anxiously for his next work.",
         "positive"
        ]
       ],
       "shape": {
        "columns": 2,
        "rows": 5
       }
      },
      "text/html": [
       "<div>\n",
       "<style scoped>\n",
       "    .dataframe tbody tr th:only-of-type {\n",
       "        vertical-align: middle;\n",
       "    }\n",
       "\n",
       "    .dataframe tbody tr th {\n",
       "        vertical-align: top;\n",
       "    }\n",
       "\n",
       "    .dataframe thead th {\n",
       "        text-align: right;\n",
       "    }\n",
       "</style>\n",
       "<table border=\"1\" class=\"dataframe\">\n",
       "  <thead>\n",
       "    <tr style=\"text-align: right;\">\n",
       "      <th></th>\n",
       "      <th>review</th>\n",
       "      <th>sentiment</th>\n",
       "    </tr>\n",
       "  </thead>\n",
       "  <tbody>\n",
       "    <tr>\n",
       "      <th>0</th>\n",
       "      <td>One of the other reviewers has mentioned that ...</td>\n",
       "      <td>positive</td>\n",
       "    </tr>\n",
       "    <tr>\n",
       "      <th>1</th>\n",
       "      <td>A wonderful little production. &lt;br /&gt;&lt;br /&gt;The...</td>\n",
       "      <td>positive</td>\n",
       "    </tr>\n",
       "    <tr>\n",
       "      <th>2</th>\n",
       "      <td>I thought this was a wonderful way to spend ti...</td>\n",
       "      <td>positive</td>\n",
       "    </tr>\n",
       "    <tr>\n",
       "      <th>3</th>\n",
       "      <td>Basically there's a family where a little boy ...</td>\n",
       "      <td>negative</td>\n",
       "    </tr>\n",
       "    <tr>\n",
       "      <th>4</th>\n",
       "      <td>Petter Mattei's \"Love in the Time of Money\" is...</td>\n",
       "      <td>positive</td>\n",
       "    </tr>\n",
       "  </tbody>\n",
       "</table>\n",
       "</div>"
      ],
      "text/plain": [
       "                                              review sentiment\n",
       "0  One of the other reviewers has mentioned that ...  positive\n",
       "1  A wonderful little production. <br /><br />The...  positive\n",
       "2  I thought this was a wonderful way to spend ti...  positive\n",
       "3  Basically there's a family where a little boy ...  negative\n",
       "4  Petter Mattei's \"Love in the Time of Money\" is...  positive"
      ]
     },
     "execution_count": 3,
     "metadata": {},
     "output_type": "execute_result"
    }
   ],
   "source": [
    "df=pd.read_csv('IMDB Dataset.csv')\n",
    "df.head()"
   ]
  },
  {
   "cell_type": "code",
   "execution_count": 12,
   "id": "3caf1957",
   "metadata": {},
   "outputs": [
    {
     "data": {
      "text/plain": [
       "\"Basically there's a family where a little boy (Jake) thinks there's a zombie in his closet & his parents are fighting all the time.<br /><br />This movie is slower than a soap opera... and suddenly, Jake decides to become Rambo and kill the zombie.<br /><br />OK, first of all when you're going to make a film you must Decide if its a thriller or a drama! As a drama the movie is watchable. Parents are divorcing & arguing like in real life. And then we have Jake with his closet which totally ruins all the film! I expected to see a BOOGEYMAN similar movie, and instead i watched a drama with some meaningless thriller spots.<br /><br />3 out of 10 just for the well playing parents & descent dialogs. As for the shots with Jake: just ignore them.\""
      ]
     },
     "execution_count": 12,
     "metadata": {},
     "output_type": "execute_result"
    }
   ],
   "source": [
    "df[\"review\"][3]"
   ]
  },
  {
   "cell_type": "code",
   "execution_count": 13,
   "id": "f14bae54",
   "metadata": {},
   "outputs": [
    {
     "data": {
      "text/plain": [
       "\"basically there's a family where a little boy (jake) thinks there's a zombie in his closet & his parents are fighting all the time.<br /><br />this movie is slower than a soap opera... and suddenly, jake decides to become rambo and kill the zombie.<br /><br />ok, first of all when you're going to make a film you must decide if its a thriller or a drama! as a drama the movie is watchable. parents are divorcing & arguing like in real life. and then we have jake with his closet which totally ruins all the film! i expected to see a boogeyman similar movie, and instead i watched a drama with some meaningless thriller spots.<br /><br />3 out of 10 just for the well playing parents & descent dialogs. as for the shots with jake: just ignore them.\""
      ]
     },
     "execution_count": 13,
     "metadata": {},
     "output_type": "execute_result"
    }
   ],
   "source": [
    "df[\"review\"][3].lower()"
   ]
  },
  {
   "cell_type": "code",
   "execution_count": 14,
   "id": "3a3ce3c8",
   "metadata": {},
   "outputs": [
    {
     "data": {
      "text/plain": [
       "\"BASICALLY THERE'S A FAMILY WHERE A LITTLE BOY (JAKE) THINKS THERE'S A ZOMBIE IN HIS CLOSET & HIS PARENTS ARE FIGHTING ALL THE TIME.<BR /><BR />THIS MOVIE IS SLOWER THAN A SOAP OPERA... AND SUDDENLY, JAKE DECIDES TO BECOME RAMBO AND KILL THE ZOMBIE.<BR /><BR />OK, FIRST OF ALL WHEN YOU'RE GOING TO MAKE A FILM YOU MUST DECIDE IF ITS A THRILLER OR A DRAMA! AS A DRAMA THE MOVIE IS WATCHABLE. PARENTS ARE DIVORCING & ARGUING LIKE IN REAL LIFE. AND THEN WE HAVE JAKE WITH HIS CLOSET WHICH TOTALLY RUINS ALL THE FILM! I EXPECTED TO SEE A BOOGEYMAN SIMILAR MOVIE, AND INSTEAD I WATCHED A DRAMA WITH SOME MEANINGLESS THRILLER SPOTS.<BR /><BR />3 OUT OF 10 JUST FOR THE WELL PLAYING PARENTS & DESCENT DIALOGS. AS FOR THE SHOTS WITH JAKE: JUST IGNORE THEM.\""
      ]
     },
     "execution_count": 14,
     "metadata": {},
     "output_type": "execute_result"
    }
   ],
   "source": [
    "df[\"review\"][3].upper()"
   ]
  },
  {
   "cell_type": "code",
   "execution_count": 19,
   "id": "df7ab882",
   "metadata": {},
   "outputs": [],
   "source": [
    "df[\"review\"]=df[\"review\"].str.lower()"
   ]
  },
  {
   "cell_type": "code",
   "execution_count": 20,
   "id": "135965fa",
   "metadata": {},
   "outputs": [
    {
     "data": {
      "application/vnd.microsoft.datawrangler.viewer.v0+json": {
       "columns": [
        {
         "name": "index",
         "rawType": "int64",
         "type": "integer"
        },
        {
         "name": "review",
         "rawType": "object",
         "type": "string"
        },
        {
         "name": "sentiment",
         "rawType": "object",
         "type": "string"
        }
       ],
       "conversionMethod": "pd.DataFrame",
       "ref": "26a9ec78-5868-41c6-9220-602296750d42",
       "rows": [
        [
         "0",
         "one of the other reviewers has mentioned that after watching just 1 oz episode you'll be hooked. they are right, as this is exactly what happened with me.<br /><br />the first thing that struck me about oz was its brutality and unflinching scenes of violence, which set in right from the word go. trust me, this is not a show for the faint hearted or timid. this show pulls no punches with regards to drugs, sex or violence. its is hardcore, in the classic use of the word.<br /><br />it is called oz as that is the nickname given to the oswald maximum security state penitentary. it focuses mainly on emerald city, an experimental section of the prison where all the cells have glass fronts and face inwards, so privacy is not high on the agenda. em city is home to many..aryans, muslims, gangstas, latinos, christians, italians, irish and more....so scuffles, death stares, dodgy dealings and shady agreements are never far away.<br /><br />i would say the main appeal of the show is due to the fact that it goes where other shows wouldn't dare. forget pretty pictures painted for mainstream audiences, forget charm, forget romance...oz doesn't mess around. the first episode i ever saw struck me as so nasty it was surreal, i couldn't say i was ready for it, but as i watched more, i developed a taste for oz, and got accustomed to the high levels of graphic violence. not just violence, but injustice (crooked guards who'll be sold out for a nickel, inmates who'll kill on order and get away with it, well mannered, middle class inmates being turned into prison bitches due to their lack of street skills or prison experience) watching oz, you may become comfortable with what is uncomfortable viewing....thats if you can get in touch with your darker side.",
         "positive"
        ],
        [
         "1",
         "a wonderful little production. <br /><br />the filming technique is very unassuming- very old-time-bbc fashion and gives a comforting, and sometimes discomforting, sense of realism to the entire piece. <br /><br />the actors are extremely well chosen- michael sheen not only \"has got all the polari\" but he has all the voices down pat too! you can truly see the seamless editing guided by the references to williams' diary entries, not only is it well worth the watching but it is a terrificly written and performed piece. a masterful production about one of the great master's of comedy and his life. <br /><br />the realism really comes home with the little things: the fantasy of the guard which, rather than use the traditional 'dream' techniques remains solid then disappears. it plays on our knowledge and our senses, particularly with the scenes concerning orton and halliwell and the sets (particularly of their flat with halliwell's murals decorating every surface) are terribly well done.",
         "positive"
        ],
        [
         "2",
         "i thought this was a wonderful way to spend time on a too hot summer weekend, sitting in the air conditioned theater and watching a light-hearted comedy. the plot is simplistic, but the dialogue is witty and the characters are likable (even the well bread suspected serial killer). while some may be disappointed when they realize this is not match point 2: risk addiction, i thought it was proof that woody allen is still fully in control of the style many of us have grown to love.<br /><br />this was the most i'd laughed at one of woody's comedies in years (dare i say a decade?). while i've never been impressed with scarlet johanson, in this she managed to tone down her \"sexy\" image and jumped right into a average, but spirited young woman.<br /><br />this may not be the crown jewel of his career, but it was wittier than \"devil wears prada\" and more interesting than \"superman\" a great comedy to go see with friends.",
         "positive"
        ],
        [
         "3",
         "basically there's a family where a little boy (jake) thinks there's a zombie in his closet & his parents are fighting all the time.<br /><br />this movie is slower than a soap opera... and suddenly, jake decides to become rambo and kill the zombie.<br /><br />ok, first of all when you're going to make a film you must decide if its a thriller or a drama! as a drama the movie is watchable. parents are divorcing & arguing like in real life. and then we have jake with his closet which totally ruins all the film! i expected to see a boogeyman similar movie, and instead i watched a drama with some meaningless thriller spots.<br /><br />3 out of 10 just for the well playing parents & descent dialogs. as for the shots with jake: just ignore them.",
         "negative"
        ],
        [
         "4",
         "petter mattei's \"love in the time of money\" is a visually stunning film to watch. mr. mattei offers us a vivid portrait about human relations. this is a movie that seems to be telling us what money, power and success do to people in the different situations we encounter. <br /><br />this being a variation on the arthur schnitzler's play about the same theme, the director transfers the action to the present time new york where all these different characters meet and connect. each one is connected in one way, or another to the next person, but no one seems to know the previous point of contact. stylishly, the film has a sophisticated luxurious look. we are taken to see how these people live and the world they live in their own habitat.<br /><br />the only thing one gets out of all these souls in the picture is the different stages of loneliness each one inhabits. a big city is not exactly the best place in which human relations find sincere fulfillment, as one discerns is the case with most of the people we encounter.<br /><br />the acting is good under mr. mattei's direction. steve buscemi, rosario dawson, carol kane, michael imperioli, adrian grenier, and the rest of the talented cast, make these characters come alive.<br /><br />we wish mr. mattei good luck and await anxiously for his next work.",
         "positive"
        ]
       ],
       "shape": {
        "columns": 2,
        "rows": 5
       }
      },
      "text/html": [
       "<div>\n",
       "<style scoped>\n",
       "    .dataframe tbody tr th:only-of-type {\n",
       "        vertical-align: middle;\n",
       "    }\n",
       "\n",
       "    .dataframe tbody tr th {\n",
       "        vertical-align: top;\n",
       "    }\n",
       "\n",
       "    .dataframe thead th {\n",
       "        text-align: right;\n",
       "    }\n",
       "</style>\n",
       "<table border=\"1\" class=\"dataframe\">\n",
       "  <thead>\n",
       "    <tr style=\"text-align: right;\">\n",
       "      <th></th>\n",
       "      <th>review</th>\n",
       "      <th>sentiment</th>\n",
       "    </tr>\n",
       "  </thead>\n",
       "  <tbody>\n",
       "    <tr>\n",
       "      <th>0</th>\n",
       "      <td>one of the other reviewers has mentioned that ...</td>\n",
       "      <td>positive</td>\n",
       "    </tr>\n",
       "    <tr>\n",
       "      <th>1</th>\n",
       "      <td>a wonderful little production. &lt;br /&gt;&lt;br /&gt;the...</td>\n",
       "      <td>positive</td>\n",
       "    </tr>\n",
       "    <tr>\n",
       "      <th>2</th>\n",
       "      <td>i thought this was a wonderful way to spend ti...</td>\n",
       "      <td>positive</td>\n",
       "    </tr>\n",
       "    <tr>\n",
       "      <th>3</th>\n",
       "      <td>basically there's a family where a little boy ...</td>\n",
       "      <td>negative</td>\n",
       "    </tr>\n",
       "    <tr>\n",
       "      <th>4</th>\n",
       "      <td>petter mattei's \"love in the time of money\" is...</td>\n",
       "      <td>positive</td>\n",
       "    </tr>\n",
       "  </tbody>\n",
       "</table>\n",
       "</div>"
      ],
      "text/plain": [
       "                                              review sentiment\n",
       "0  one of the other reviewers has mentioned that ...  positive\n",
       "1  a wonderful little production. <br /><br />the...  positive\n",
       "2  i thought this was a wonderful way to spend ti...  positive\n",
       "3  basically there's a family where a little boy ...  negative\n",
       "4  petter mattei's \"love in the time of money\" is...  positive"
      ]
     },
     "execution_count": 20,
     "metadata": {},
     "output_type": "execute_result"
    }
   ],
   "source": [
    "df.head()"
   ]
  },
  {
   "cell_type": "markdown",
   "id": "6009fc2a",
   "metadata": {},
   "source": [
    "### **2. Removing HTML Tags**"
   ]
  },
  {
   "cell_type": "code",
   "execution_count": 21,
   "id": "be9e22d9",
   "metadata": {},
   "outputs": [
    {
     "name": "stdout",
     "output_type": "stream",
     "text": [
      "basically there's a family where a little boy (jake) thinks there's a zombie in his closet & his parents are fighting all the time.<br /><br />this movie is slower than a soap opera... and suddenly, jake decides to become rambo and kill the zombie.<br /><br />ok, first of all when you're going to make a film you must decide if its a thriller or a drama! as a drama the movie is watchable. parents are divorcing & arguing like in real life. and then we have jake with his closet which totally ruins all the film! i expected to see a boogeyman similar movie, and instead i watched a drama with some meaningless thriller spots.<br /><br />3 out of 10 just for the well playing parents & descent dialogs. as for the shots with jake: just ignore them.\n"
     ]
    }
   ],
   "source": [
    "print(df[\"review\"][3])"
   ]
  },
  {
   "cell_type": "code",
   "execution_count": 22,
   "id": "1028ba7f",
   "metadata": {},
   "outputs": [
    {
     "data": {
      "text/plain": [
       "'a wonderful little production. <br /><br />the filming technique is very unassuming- very old-time-bbc fashion and gives a comforting, and sometimes discomforting, sense of realism to the entire piece. <br /><br />the actors are extremely well chosen- michael sheen not only \"has got all the polari\" but he has all the voices down pat too! you can truly see the seamless editing guided by the references to williams\\' diary entries, not only is it well worth the watching but it is a terrificly written and performed piece. a masterful production about one of the great master\\'s of comedy and his life. <br /><br />the realism really comes home with the little things: the fantasy of the guard which, rather than use the traditional \\'dream\\' techniques remains solid then disappears. it plays on our knowledge and our senses, particularly with the scenes concerning orton and halliwell and the sets (particularly of their flat with halliwell\\'s murals decorating every surface) are terribly well done.'"
      ]
     },
     "execution_count": 22,
     "metadata": {},
     "output_type": "execute_result"
    }
   ],
   "source": [
    "df[\"review\"][1]"
   ]
  },
  {
   "cell_type": "code",
   "execution_count": 24,
   "id": "458f717a",
   "metadata": {},
   "outputs": [],
   "source": [
    "import re"
   ]
  },
  {
   "cell_type": "code",
   "execution_count": 32,
   "id": "c01cfdcd",
   "metadata": {},
   "outputs": [],
   "source": [
    "html_text = \"\"\"\n",
    "<html>\n",
    "<head><title>ShopEasy - Product Details</title></head>\n",
    "<body>\n",
    "<h1>Samsung Smart TV</h1>\n",
    "<p>This <strong>55-inch</strong> 4K UHD Smart TV offers <em>amazing picture quality</em> and smart features like <a href=\"https://example.com\">Netflix</a> and YouTube.</p>\n",
    "<ul>\n",
    "  <li>Price: <span>৳55,000</span></li>\n",
    "  <li>Warranty: <span>2 years</span></li>\n",
    "</ul>\n",
    "<p>Order now from <a href=\"https://shopeasy.com.bd\">ShopEasy Bangladesh</a> and enjoy free delivery across Dhaka, Chattogram, and Sylhet.</p>\n",
    "</body>\n",
    "</html>\n",
    "\"\"\"\n",
    "\n",
    "pattern = \"<.*?>\"\n",
    "\n",
    "#re.findall(pattern,html_text)\n",
    "# re.sub(pattern, replacement, text)\n",
    "\n",
    "cleaned_text=re.sub(pattern,'',html_text)"
   ]
  },
  {
   "cell_type": "code",
   "execution_count": 33,
   "id": "519ab290",
   "metadata": {},
   "outputs": [
    {
     "data": {
      "text/plain": [
       "'\\n\\nShopEasy - Product Details\\n\\nSamsung Smart TV\\nThis 55-inch 4K UHD Smart TV offers amazing picture quality and smart features like Netflix and YouTube.\\n\\n  Price: ৳55,000\\n  Warranty: 2 years\\n\\nOrder now from ShopEasy Bangladesh and enjoy free delivery across Dhaka, Chattogram, and Sylhet.\\n\\n\\n'"
      ]
     },
     "execution_count": 33,
     "metadata": {},
     "output_type": "execute_result"
    }
   ],
   "source": [
    "cleaned_text"
   ]
  },
  {
   "cell_type": "code",
   "execution_count": 37,
   "id": "b5b91eab",
   "metadata": {},
   "outputs": [],
   "source": [
    "def rmv_html(text):\n",
    "    pattern = \"<.*?>\"\n",
    "    return re.sub(pattern,'',text)\n",
    "    "
   ]
  },
  {
   "cell_type": "code",
   "execution_count": 40,
   "id": "be1d3099",
   "metadata": {},
   "outputs": [],
   "source": [
    "df['review']=df['review'].apply(rmv_html)"
   ]
  },
  {
   "cell_type": "code",
   "execution_count": 41,
   "id": "5294f70a",
   "metadata": {},
   "outputs": [
    {
     "data": {
      "text/plain": [
       "'a wonderful little production. the filming technique is very unassuming- very old-time-bbc fashion and gives a comforting, and sometimes discomforting, sense of realism to the entire piece. the actors are extremely well chosen- michael sheen not only \"has got all the polari\" but he has all the voices down pat too! you can truly see the seamless editing guided by the references to williams\\' diary entries, not only is it well worth the watching but it is a terrificly written and performed piece. a masterful production about one of the great master\\'s of comedy and his life. the realism really comes home with the little things: the fantasy of the guard which, rather than use the traditional \\'dream\\' techniques remains solid then disappears. it plays on our knowledge and our senses, particularly with the scenes concerning orton and halliwell and the sets (particularly of their flat with halliwell\\'s murals decorating every surface) are terribly well done.'"
      ]
     },
     "execution_count": 41,
     "metadata": {},
     "output_type": "execute_result"
    }
   ],
   "source": [
    "df['review'][1]"
   ]
  },
  {
   "cell_type": "markdown",
   "id": "7f691ba5",
   "metadata": {},
   "source": [
    "### **3. Removing The URLS**"
   ]
  },
  {
   "cell_type": "code",
   "execution_count": 49,
   "id": "fe522eff",
   "metadata": {},
   "outputs": [
    {
     "data": {
      "text/plain": [
       "['https://www.datasolution360.com/',\n",
       " 'https://www.facebook.com/Datasolution360',\n",
       " 'www.linkedin.com/company/data-solution-360/']"
      ]
     },
     "execution_count": 49,
     "metadata": {},
     "output_type": "execute_result"
    }
   ],
   "source": [
    "text = \"\"\"\n",
    "For more information, visit our  website at https://www.datasolution360.com/ or follow us on Facebook:\n",
    "https://www.facebook.com/Datasolution360 and You can also check out us at linkedin www.linkedin.com/company/data-solution-360/\n",
    "\"\"\"\n",
    "\n",
    "pattern = \"https?://\\S+|www.\\S+\"\n",
    "re.findall(pattern,text)\n",
    "#re.sub(pattern,'',text)"
   ]
  },
  {
   "cell_type": "code",
   "execution_count": 47,
   "id": "ade1a308",
   "metadata": {},
   "outputs": [],
   "source": [
    "def rmv_url(text):\n",
    "    pattern = \"https?://\\S+|www.\\S+\"\n",
    "    return re.sub(pattern,'',text)\n",
    "    "
   ]
  },
  {
   "cell_type": "code",
   "execution_count": 48,
   "id": "fe8fc670",
   "metadata": {},
   "outputs": [
    {
     "data": {
      "text/plain": [
       "'\\nFor more information, visit our  website at  or follow us on Facebook:\\n and You can also check out us at linkedin \\n'"
      ]
     },
     "execution_count": 48,
     "metadata": {},
     "output_type": "execute_result"
    }
   ],
   "source": [
    "rmv_url(text)"
   ]
  },
  {
   "cell_type": "markdown",
   "id": "3861b225",
   "metadata": {},
   "source": [
    "### **4. Removing Punctuation**"
   ]
  },
  {
   "cell_type": "code",
   "execution_count": 1,
   "id": "6cf9a4c9",
   "metadata": {},
   "outputs": [],
   "source": [
    "import string"
   ]
  },
  {
   "cell_type": "code",
   "execution_count": 3,
   "id": "905c0083",
   "metadata": {},
   "outputs": [
    {
     "data": {
      "text/plain": [
       "'!\"#$%&\\'()*+,-./:;<=>?@[\\\\]^_`{|}~'"
      ]
     },
     "execution_count": 3,
     "metadata": {},
     "output_type": "execute_result"
    }
   ],
   "source": [
    "string.punctuation"
   ]
  },
  {
   "cell_type": "code",
   "execution_count": 4,
   "id": "d542146e",
   "metadata": {},
   "outputs": [],
   "source": [
    "exclude_Punctuation=string.punctuation"
   ]
  },
  {
   "cell_type": "code",
   "execution_count": 5,
   "id": "67bacb98",
   "metadata": {},
   "outputs": [],
   "source": [
    "def rmv_Punctuation(text):\n",
    "    for i in exclude_Punctuation:\n",
    "        text= text.replace(i,\"\")\n",
    "    return text"
   ]
  },
  {
   "cell_type": "code",
   "execution_count": 6,
   "id": "6103b000",
   "metadata": {},
   "outputs": [],
   "source": [
    "text = \"Hello, world!\""
   ]
  },
  {
   "cell_type": "code",
   "execution_count": 7,
   "id": "5b50d459",
   "metadata": {},
   "outputs": [
    {
     "data": {
      "text/plain": [
       "'Hello world'"
      ]
     },
     "execution_count": 7,
     "metadata": {},
     "output_type": "execute_result"
    }
   ],
   "source": [
    "rmv_Punctuation(text)"
   ]
  },
  {
   "cell_type": "markdown",
   "id": "62a3c279",
   "metadata": {},
   "source": [
    "Problem is this way is way tooo slower !"
   ]
  },
  {
   "cell_type": "markdown",
   "id": "44cc4898",
   "metadata": {},
   "source": [
    "**Let's Try a better Faster Version :**"
   ]
  },
  {
   "cell_type": "code",
   "execution_count": 8,
   "id": "03435d75",
   "metadata": {},
   "outputs": [
    {
     "data": {
      "text/plain": [
       "'!\"#$%&\\'()*+,-./:;<=>?@[\\\\]^_`{|}~'"
      ]
     },
     "execution_count": 8,
     "metadata": {},
     "output_type": "execute_result"
    }
   ],
   "source": [
    "exclude_Punctuation=string.punctuation\n",
    "exclude_Punctuation"
   ]
  },
  {
   "cell_type": "code",
   "execution_count": 13,
   "id": "d3e675bb",
   "metadata": {},
   "outputs": [
    {
     "name": "stdout",
     "output_type": "stream",
     "text": [
      "Hello world\n"
     ]
    }
   ],
   "source": [
    "text = \"Hello, world!\"\n",
    "clean_text = text.translate(str.maketrans('', '', exclude_Punctuation))\n",
    "print(clean_text)"
   ]
  },
  {
   "cell_type": "markdown",
   "id": "1e6239dc",
   "metadata": {},
   "source": [
    "**Explanation :**"
   ]
  },
  {
   "cell_type": "markdown",
   "id": "f0eaf9b0",
   "metadata": {},
   "source": [
    "- str.maketrans(from, to, delete) is used to map characters.\n",
    "- text.translate(...) It goes through each character in text.\n",
    "\n",
    "| Part                  | Role                             |\n",
    "| --------------------- | -------------------------------- |\n",
    "| `str.maketrans(...)`  | Builds the rule (what to remove) |\n",
    "| `text.translate(...)` | Applies that rule to your string |\n"
   ]
  },
  {
   "cell_type": "code",
   "execution_count": 19,
   "id": "0af16d62",
   "metadata": {},
   "outputs": [
    {
     "data": {
      "application/vnd.microsoft.datawrangler.viewer.v0+json": {
       "columns": [
        {
         "name": "index",
         "rawType": "int64",
         "type": "integer"
        },
        {
         "name": "id",
         "rawType": "int64",
         "type": "integer"
        },
        {
         "name": "label",
         "rawType": "int64",
         "type": "integer"
        },
        {
         "name": "tweet",
         "rawType": "object",
         "type": "string"
        }
       ],
       "ref": "44b14e9d-22b2-4e6b-9537-f4c6f0435d14",
       "rows": [
        [
         "0",
         "1",
         "0",
         " @user when a father is dysfunctional and is so selfish he drags his kids into his dysfunction.   #run"
        ],
        [
         "1",
         "2",
         "0",
         "@user @user thanks for #lyft credit i can't use cause they don't offer wheelchair vans in pdx.    #disapointed #getthanked"
        ],
        [
         "2",
         "3",
         "0",
         "  bihday your majesty"
        ],
        [
         "3",
         "4",
         "0",
         "#model   i love u take with u all the time in urð±!!! ððððð¦ð¦ð¦  "
        ],
        [
         "4",
         "5",
         "0",
         " factsguide: society now    #motivation"
        ],
        [
         "5",
         "6",
         "0",
         "[2/2] huge fan fare and big talking before they leave. chaos and pay disputes when they get there. #allshowandnogo  "
        ],
        [
         "6",
         "7",
         "0",
         " @user camping tomorrow @user @user @user @user @user @user @user dannyâ¦"
        ],
        [
         "7",
         "8",
         "0",
         "the next school year is the year for exams.ð¯ can't think about that ð­ #school #exams   #hate #imagine #actorslife #revolutionschool #girl"
        ],
        [
         "8",
         "9",
         "0",
         "we won!!! love the land!!! #allin #cavs #champions #cleveland #clevelandcavaliers  â¦ "
        ],
        [
         "9",
         "10",
         "0",
         " @user @user welcome here !  i'm   it's so #gr8 ! "
        ],
        [
         "10",
         "11",
         "0",
         " â #ireland consumer price index (mom) climbed from previous 0.2% to 0.5% in may   #blog #silver #gold #forex"
        ],
        [
         "11",
         "12",
         "0",
         "we are so selfish. #orlando #standwithorlando #pulseshooting #orlandoshooting #biggerproblems #selfish #heabreaking   #values #love #"
        ],
        [
         "12",
         "13",
         "0",
         "i get to see my daddy today!!   #80days #gettingfed"
        ],
        [
         "13",
         "14",
         "1",
         "@user #cnn calls #michigan middle school 'build the wall' chant '' #tcot  "
        ],
        [
         "14",
         "15",
         "1",
         "no comment!  in #australia   #opkillingbay #seashepherd #helpcovedolphins #thecove  #helpcovedolphins"
        ],
        [
         "15",
         "16",
         "0",
         "ouch...junior is angryð#got7 #junior #yugyoem   #omg "
        ],
        [
         "16",
         "17",
         "0",
         "i am thankful for having a paner. #thankful #positive     "
        ],
        [
         "17",
         "18",
         "1",
         "retweet if you agree! "
        ],
        [
         "18",
         "19",
         "0",
         "its #friday! ð smiles all around via ig user: @user #cookies make people   "
        ],
        [
         "19",
         "20",
         "0",
         "as we all know, essential oils are not made of chemicals. "
        ],
        [
         "20",
         "21",
         "0",
         "#euro2016 people blaming ha for conceded goal was it fat rooney who gave away free kick knowing bale can hit them from there.  "
        ],
        [
         "21",
         "22",
         "0",
         "sad little dude..   #badday #coneofshame #cats #pissed #funny #laughs "
        ],
        [
         "22",
         "23",
         "0",
         "product of the day: happy man #wine tool  who's   it's the #weekend? time to open up &amp; drink up!"
        ],
        [
         "23",
         "24",
         "1",
         "@user @user lumpy says i am a . prove it lumpy."
        ],
        [
         "24",
         "25",
         "0",
         " @user #tgif   #ff to my #gamedev #indiedev #indiegamedev #squad! @user @user @user @user @user"
        ],
        [
         "25",
         "26",
         "0",
         "beautiful sign by vendor 80 for $45.00!! #upsideofflorida #shopalyssas   #love "
        ],
        [
         "26",
         "27",
         "0",
         " @user all #smiles when #media is   !! ðð #pressconference in #antalya #turkey ! sunday #throwback  love! ððâ¤ï¸ "
        ],
        [
         "27",
         "28",
         "0",
         "we had a great panel on the mediatization of the public service   #ica16"
        ],
        [
         "28",
         "29",
         "0",
         "happy father's day @user ðððð  "
        ],
        [
         "29",
         "30",
         "0",
         "50 people went to nightclub to have a good night and 1 man's actions means those people are lost to their families forever #rip#orlando"
        ],
        [
         "30",
         "31",
         "0",
         "i have never had a chance to vote for a presidential candidate i was excited about and this cycle looks to be no different.  "
        ],
        [
         "31",
         "32",
         "0",
         "  #alohafriday #time does #not #exist #positivevibes #hawaiian @user @user @user @user "
        ],
        [
         "32",
         "33",
         "0",
         " @user rip to the fellow nohern ireland fan who sadley passed away tonight!.. gawa, forever singing and cheering on fire  "
        ],
        [
         "33",
         "34",
         "0",
         "it was a hard monday due to cloudy weather. disabling oxygen production for today. #goodnight #badmonday  "
        ],
        [
         "34",
         "35",
         "1",
         "it's unbelievable that in the 21st century we'd need something like this. again. #neverump  #xenophobia "
        ],
        [
         "35",
         "36",
         "0",
         "#taylorswift1989   bull up: you will dominate your bull and you will direct it whatever you want it to do. w "
        ],
        [
         "36",
         "37",
         "0",
         "morning~~ #travelingram #dalat   #ripinkylife "
        ],
        [
         "37",
         "38",
         "0",
         "@user once more only one word tells it all: #photoshop.  #enoughisenough #dontphotoshopeverything #wheresallthenaturalphotos  "
        ],
        [
         "38",
         "39",
         "0",
         "oh, #cedarpoint. waited 2 hours in the valravn line and it stopped working. we were so close.  "
        ],
        [
         "39",
         "40",
         "0",
         "i am thankful for sunshine. #thankful #positive     "
        ],
        [
         "40",
         "41",
         "0",
         "when you finally finish a book you've been working on for awhile...  #bookworm #ontothenextnovel "
        ],
        [
         "41",
         "42",
         "0",
         "yup, being a knicks fan is hard, so its easier to just be an nba fan when the playoffs roll around ð "
        ],
        [
         "42",
         "43",
         "0",
         "there is life after social networking. embrace each day. be   "
        ],
        [
         "43",
         "44",
         "0",
         "my mom shares the same bihday as @user   bihday snake! see you this weekend ðð¼"
        ],
        [
         "44",
         "45",
         "0",
         "lovely echeveria blooms#flowers #grow #gardening #iphonesia #bliss #blooms #basilicabotanica   "
        ],
        [
         "45",
         "46",
         "0",
         "i am amazing. #i_am #positive #affirmation     "
        ],
        [
         "46",
         "47",
         "0",
         "#model   i love u take with u all the time in urð±!!! ððððð¦ð¦ð¦  "
        ],
        [
         "47",
         "48",
         "0",
         "#whenever im   and #something goes #wrong  |  "
        ],
        [
         "48",
         "49",
         "0",
         "feeling blue #illustration   "
        ],
        [
         "49",
         "50",
         "0",
         "the best pa about life is knowing who you are! ðâï¸ð¼ð»  â¦ "
        ]
       ],
       "shape": {
        "columns": 3,
        "rows": 31962
       }
      },
      "text/html": [
       "<div>\n",
       "<style scoped>\n",
       "    .dataframe tbody tr th:only-of-type {\n",
       "        vertical-align: middle;\n",
       "    }\n",
       "\n",
       "    .dataframe tbody tr th {\n",
       "        vertical-align: top;\n",
       "    }\n",
       "\n",
       "    .dataframe thead th {\n",
       "        text-align: right;\n",
       "    }\n",
       "</style>\n",
       "<table border=\"1\" class=\"dataframe\">\n",
       "  <thead>\n",
       "    <tr style=\"text-align: right;\">\n",
       "      <th></th>\n",
       "      <th>id</th>\n",
       "      <th>label</th>\n",
       "      <th>tweet</th>\n",
       "    </tr>\n",
       "  </thead>\n",
       "  <tbody>\n",
       "    <tr>\n",
       "      <th>0</th>\n",
       "      <td>1</td>\n",
       "      <td>0</td>\n",
       "      <td>@user when a father is dysfunctional and is s...</td>\n",
       "    </tr>\n",
       "    <tr>\n",
       "      <th>1</th>\n",
       "      <td>2</td>\n",
       "      <td>0</td>\n",
       "      <td>@user @user thanks for #lyft credit i can't us...</td>\n",
       "    </tr>\n",
       "    <tr>\n",
       "      <th>2</th>\n",
       "      <td>3</td>\n",
       "      <td>0</td>\n",
       "      <td>bihday your majesty</td>\n",
       "    </tr>\n",
       "    <tr>\n",
       "      <th>3</th>\n",
       "      <td>4</td>\n",
       "      <td>0</td>\n",
       "      <td>#model   i love u take with u all the time in ...</td>\n",
       "    </tr>\n",
       "    <tr>\n",
       "      <th>4</th>\n",
       "      <td>5</td>\n",
       "      <td>0</td>\n",
       "      <td>factsguide: society now    #motivation</td>\n",
       "    </tr>\n",
       "    <tr>\n",
       "      <th>...</th>\n",
       "      <td>...</td>\n",
       "      <td>...</td>\n",
       "      <td>...</td>\n",
       "    </tr>\n",
       "    <tr>\n",
       "      <th>31957</th>\n",
       "      <td>31958</td>\n",
       "      <td>0</td>\n",
       "      <td>ate @user isz that youuu?ðððððð...</td>\n",
       "    </tr>\n",
       "    <tr>\n",
       "      <th>31958</th>\n",
       "      <td>31959</td>\n",
       "      <td>0</td>\n",
       "      <td>to see nina turner on the airwaves trying to...</td>\n",
       "    </tr>\n",
       "    <tr>\n",
       "      <th>31959</th>\n",
       "      <td>31960</td>\n",
       "      <td>0</td>\n",
       "      <td>listening to sad songs on a monday morning otw...</td>\n",
       "    </tr>\n",
       "    <tr>\n",
       "      <th>31960</th>\n",
       "      <td>31961</td>\n",
       "      <td>1</td>\n",
       "      <td>@user #sikh #temple vandalised in in #calgary,...</td>\n",
       "    </tr>\n",
       "    <tr>\n",
       "      <th>31961</th>\n",
       "      <td>31962</td>\n",
       "      <td>0</td>\n",
       "      <td>thank you @user for you follow</td>\n",
       "    </tr>\n",
       "  </tbody>\n",
       "</table>\n",
       "<p>31962 rows × 3 columns</p>\n",
       "</div>"
      ],
      "text/plain": [
       "          id  label                                              tweet\n",
       "0          1      0   @user when a father is dysfunctional and is s...\n",
       "1          2      0  @user @user thanks for #lyft credit i can't us...\n",
       "2          3      0                                bihday your majesty\n",
       "3          4      0  #model   i love u take with u all the time in ...\n",
       "4          5      0             factsguide: society now    #motivation\n",
       "...      ...    ...                                                ...\n",
       "31957  31958      0  ate @user isz that youuu?ðððððð...\n",
       "31958  31959      0    to see nina turner on the airwaves trying to...\n",
       "31959  31960      0  listening to sad songs on a monday morning otw...\n",
       "31960  31961      1  @user #sikh #temple vandalised in in #calgary,...\n",
       "31961  31962      0                   thank you @user for you follow  \n",
       "\n",
       "[31962 rows x 3 columns]"
      ]
     },
     "execution_count": 19,
     "metadata": {},
     "output_type": "execute_result"
    }
   ],
   "source": [
    "twitter= pd.read_csv(\"twitter_data.csv\")\n",
    "twitter"
   ]
  },
  {
   "cell_type": "code",
   "execution_count": 20,
   "id": "6eb32a7c",
   "metadata": {},
   "outputs": [],
   "source": [
    "def rmv_Punctuation(text):\n",
    "    return text.translate(str.maketrans('', '', exclude_Punctuation))"
   ]
  },
  {
   "cell_type": "code",
   "execution_count": 21,
   "id": "3831ac16",
   "metadata": {},
   "outputs": [
    {
     "data": {
      "application/vnd.microsoft.datawrangler.viewer.v0+json": {
       "columns": [
        {
         "name": "index",
         "rawType": "int64",
         "type": "integer"
        },
        {
         "name": "tweet",
         "rawType": "object",
         "type": "string"
        }
       ],
       "ref": "30b9398b-a32b-4182-9e77-9d482e63aecd",
       "rows": [
        [
         "0",
         " user when a father is dysfunctional and is so selfish he drags his kids into his dysfunction   run"
        ],
        [
         "1",
         "user user thanks for lyft credit i cant use cause they dont offer wheelchair vans in pdx    disapointed getthanked"
        ],
        [
         "2",
         "  bihday your majesty"
        ],
        [
         "3",
         "model   i love u take with u all the time in urð± ððððð¦ð¦ð¦  "
        ],
        [
         "4",
         " factsguide society now    motivation"
        ],
        [
         "5",
         "22 huge fan fare and big talking before they leave chaos and pay disputes when they get there allshowandnogo  "
        ],
        [
         "6",
         " user camping tomorrow user user user user user user user dannyâ¦"
        ],
        [
         "7",
         "the next school year is the year for examsð¯ cant think about that ð­ school exams   hate imagine actorslife revolutionschool girl"
        ],
        [
         "8",
         "we won love the land allin cavs champions cleveland clevelandcavaliers  â¦ "
        ],
        [
         "9",
         " user user welcome here   im   its so gr8  "
        ],
        [
         "10",
         " â ireland consumer price index mom climbed from previous 02 to 05 in may   blog silver gold forex"
        ],
        [
         "11",
         "we are so selfish orlando standwithorlando pulseshooting orlandoshooting biggerproblems selfish heabreaking   values love "
        ],
        [
         "12",
         "i get to see my daddy today   80days gettingfed"
        ],
        [
         "13",
         "user cnn calls michigan middle school build the wall chant  tcot  "
        ],
        [
         "14",
         "no comment  in australia   opkillingbay seashepherd helpcovedolphins thecove  helpcovedolphins"
        ],
        [
         "15",
         "ouchjunior is angryðgot7 junior yugyoem   omg "
        ],
        [
         "16",
         "i am thankful for having a paner thankful positive     "
        ],
        [
         "17",
         "retweet if you agree "
        ],
        [
         "18",
         "its friday ð smiles all around via ig user user cookies make people   "
        ],
        [
         "19",
         "as we all know essential oils are not made of chemicals "
        ],
        [
         "20",
         "euro2016 people blaming ha for conceded goal was it fat rooney who gave away free kick knowing bale can hit them from there  "
        ],
        [
         "21",
         "sad little dude   badday coneofshame cats pissed funny laughs "
        ],
        [
         "22",
         "product of the day happy man wine tool  whos   its the weekend time to open up amp drink up"
        ],
        [
         "23",
         "user user lumpy says i am a  prove it lumpy"
        ],
        [
         "24",
         " user tgif   ff to my gamedev indiedev indiegamedev squad user user user user user"
        ],
        [
         "25",
         "beautiful sign by vendor 80 for 4500 upsideofflorida shopalyssas   love "
        ],
        [
         "26",
         " user all smiles when media is    ðð pressconference in antalya turkey  sunday throwback  love ððâ¤ï¸ "
        ],
        [
         "27",
         "we had a great panel on the mediatization of the public service   ica16"
        ],
        [
         "28",
         "happy fathers day user ðððð  "
        ],
        [
         "29",
         "50 people went to nightclub to have a good night and 1 mans actions means those people are lost to their families forever riporlando"
        ],
        [
         "30",
         "i have never had a chance to vote for a presidential candidate i was excited about and this cycle looks to be no different  "
        ],
        [
         "31",
         "  alohafriday time does not exist positivevibes hawaiian user user user user "
        ],
        [
         "32",
         " user rip to the fellow nohern ireland fan who sadley passed away tonight gawa forever singing and cheering on fire  "
        ],
        [
         "33",
         "it was a hard monday due to cloudy weather disabling oxygen production for today goodnight badmonday  "
        ],
        [
         "34",
         "its unbelievable that in the 21st century wed need something like this again neverump  xenophobia "
        ],
        [
         "35",
         "taylorswift1989   bull up you will dominate your bull and you will direct it whatever you want it to do w "
        ],
        [
         "36",
         "morning travelingram dalat   ripinkylife "
        ],
        [
         "37",
         "user once more only one word tells it all photoshop  enoughisenough dontphotoshopeverything wheresallthenaturalphotos  "
        ],
        [
         "38",
         "oh cedarpoint waited 2 hours in the valravn line and it stopped working we were so close  "
        ],
        [
         "39",
         "i am thankful for sunshine thankful positive     "
        ],
        [
         "40",
         "when you finally finish a book youve been working on for awhile  bookworm ontothenextnovel "
        ],
        [
         "41",
         "yup being a knicks fan is hard so its easier to just be an nba fan when the playoffs roll around ð "
        ],
        [
         "42",
         "there is life after social networking embrace each day be   "
        ],
        [
         "43",
         "my mom shares the same bihday as user   bihday snake see you this weekend ðð¼"
        ],
        [
         "44",
         "lovely echeveria bloomsflowers grow gardening iphonesia bliss blooms basilicabotanica   "
        ],
        [
         "45",
         "i am amazing iam positive affirmation     "
        ],
        [
         "46",
         "model   i love u take with u all the time in urð± ððððð¦ð¦ð¦  "
        ],
        [
         "47",
         "whenever im   and something goes wrong    "
        ],
        [
         "48",
         "feeling blue illustration   "
        ],
        [
         "49",
         "the best pa about life is knowing who you are ðâï¸ð¼ð»  â¦ "
        ]
       ],
       "shape": {
        "columns": 1,
        "rows": 31962
       }
      },
      "text/plain": [
       "0         user when a father is dysfunctional and is so...\n",
       "1        user user thanks for lyft credit i cant use ca...\n",
       "2                                      bihday your majesty\n",
       "3        model   i love u take with u all the time in u...\n",
       "4                     factsguide society now    motivation\n",
       "                               ...                        \n",
       "31957    ate user isz that youuuðððððð...\n",
       "31958      to see nina turner on the airwaves trying to...\n",
       "31959    listening to sad songs on a monday morning otw...\n",
       "31960    user sikh temple vandalised in in calgary wso ...\n",
       "31961                      thank you user for you follow  \n",
       "Name: tweet, Length: 31962, dtype: object"
      ]
     },
     "execution_count": 21,
     "metadata": {},
     "output_type": "execute_result"
    }
   ],
   "source": [
    "twitter[\"tweet\"].apply(rmv_Punctuation)"
   ]
  },
  {
   "cell_type": "markdown",
   "id": "20bf70b2",
   "metadata": {},
   "source": [
    "### **5. Chat Word Treatment**"
   ]
  },
  {
   "cell_type": "code",
   "execution_count": 34,
   "id": "87f4eadf",
   "metadata": {},
   "outputs": [
    {
     "name": "stdout",
     "output_type": "stream",
     "text": [
      "be right back see you soon laughing out loud\n"
     ]
    }
   ],
   "source": [
    "chat_words = {\n",
    "    \"U\": \"you\",\n",
    "    \"BRB\": \"be right back\",\n",
    "    \"LOL\": \"laughing out loud\"\n",
    "}\n",
    "\n",
    "def chat_conversion(text):\n",
    "    new_text = []\n",
    "    for w in text.split():\n",
    "        word_clean = w.strip(\",.?!\")  # Remove punctuation temporarily\n",
    "        if word_clean.upper() in chat_words:\n",
    "            new_text.append(chat_words[word_clean.upper()])\n",
    "        else:\n",
    "            new_text.append(w)\n",
    "    return ' '.join(new_text)\n",
    "\n",
    "# Example usage\n",
    "text = \"brb, see u soon lol!\"\n",
    "result = chat_conversion(text)\n",
    "print(result)\n"
   ]
  },
  {
   "cell_type": "code",
   "execution_count": 41,
   "id": "a9c1ae8a",
   "metadata": {},
   "outputs": [],
   "source": [
    "with open(\"slang.txt\") as chatword:\n",
    "    data = {}\n",
    "    for line in chatword:\n",
    "        if \"=\" in line:\n",
    "            k, v = line.strip().split(\"=\")\n",
    "            data[k] = v\n"
   ]
  },
  {
   "cell_type": "code",
   "execution_count": 42,
   "id": "886ad55e",
   "metadata": {},
   "outputs": [
    {
     "data": {
      "text/plain": [
       "{'AFAIK': 'As Far As I Know',\n",
       " 'AFK': 'Away From Keyboard',\n",
       " 'ASAP': 'As Soon As Possible',\n",
       " 'ATK': 'At The Keyboard',\n",
       " 'ATM': 'At The Moment',\n",
       " 'A3': 'Anytime, Anywhere, Anyplace',\n",
       " 'BAK': 'Back At Keyboard',\n",
       " 'BBL': 'Be Back Later',\n",
       " 'BBS': 'Be Back Soon',\n",
       " 'BFN': 'Bye For Now',\n",
       " 'B4N': 'Bye For Now',\n",
       " 'BRB': 'Be Right Back',\n",
       " 'BRT': 'Be Right There',\n",
       " 'BTW': 'By The Way',\n",
       " 'B4': 'Before',\n",
       " 'CU': 'See You',\n",
       " 'CUL8R': 'See You Later',\n",
       " 'CYA': 'See You',\n",
       " 'FAQ': 'Frequently Asked Questions',\n",
       " 'FC': 'Fingers Crossed',\n",
       " 'FWIW': \"For What It's Worth\",\n",
       " 'FYI': 'For Your Information',\n",
       " 'GAL': 'Get A Life',\n",
       " 'GG': 'Good Game',\n",
       " 'GN': 'Good Night',\n",
       " 'GMTA': 'Great Minds Think Alike',\n",
       " 'GR8': 'Great!',\n",
       " 'G9': 'Genius',\n",
       " 'IC': 'I See',\n",
       " 'ICQ': 'I Seek you (also a chat program)',\n",
       " 'ILU': 'ILU: I Love You',\n",
       " 'IMHO': 'In My Honest/Humble Opinion',\n",
       " 'IMO': 'In My Opinion',\n",
       " 'IOW': 'In Other Words',\n",
       " 'IRL': 'In Real Life',\n",
       " 'KISS': 'Keep It Simple, Stupid',\n",
       " 'LDR': 'Long Distance Relationship',\n",
       " 'LMAO': 'Laugh My A.. Off',\n",
       " 'LOL': 'Laughing Out Loud',\n",
       " 'LTNS': 'Long Time No See',\n",
       " 'L8R': 'Later',\n",
       " 'MTE': 'My Thoughts Exactly',\n",
       " 'M8': 'Mate',\n",
       " 'NRN': 'No Reply Necessary',\n",
       " 'OIC': 'Oh I See',\n",
       " 'PITA': 'Pain In The A..',\n",
       " 'PRT': 'Party',\n",
       " 'PRW': 'Parents Are Watching',\n",
       " 'ROFL': 'Rolling On The Floor Laughing',\n",
       " 'ROFLOL': 'Rolling On The Floor Laughing Out Loud',\n",
       " 'ROTFLMAO': 'Rolling On The Floor Laughing My A.. Off',\n",
       " 'SK8': 'Skate',\n",
       " 'STATS': 'Your sex and age',\n",
       " 'ASL': 'Age, Sex, Location',\n",
       " 'THX': 'Thank You',\n",
       " 'TTFN': 'Ta-Ta For Now!',\n",
       " 'TTYL': 'Talk To You Later',\n",
       " 'U': 'You',\n",
       " 'U2': 'You Too',\n",
       " 'U4E': 'Yours For Ever',\n",
       " 'WB': 'Welcome Back',\n",
       " 'WTF': 'What The F...',\n",
       " 'WTG': 'Way To Go!',\n",
       " 'WUF': 'Where Are You From?',\n",
       " 'W8': 'Wait...',\n",
       " '7K': 'Sick:-D Laugher'}"
      ]
     },
     "execution_count": 42,
     "metadata": {},
     "output_type": "execute_result"
    }
   ],
   "source": [
    "data"
   ]
  },
  {
   "cell_type": "code",
   "execution_count": null,
   "id": "74d3afce",
   "metadata": {},
   "outputs": [
    {
     "name": "stdout",
     "output_type": "stream",
     "text": [
      "be right back see you soon laughing out loud did you see this !coming?\n"
     ]
    }
   ],
   "source": [
    "def chat_conversion(text):\n",
    "    new_text = []\n",
    "    for w in text.split():\n",
    "        word_clean = w.strip(\",.?!\")  # Remove punctuation temporarily\n",
    "        if word_clean.upper() in chat_words:\n",
    "            new_text.append(chat_words[word_clean.upper()])\n",
    "        else:\n",
    "            new_text.append(w)\n",
    "    return ' '.join(new_text)\n",
    "\n",
    "# Example usage\n",
    "text = \"brb, see u soon lol! did u see this !coming?\"\n",
    "result = chat_conversion(text)\n",
    "print(result)"
   ]
  }
 ],
 "metadata": {
  "kernelspec": {
   "display_name": "base",
   "language": "python",
   "name": "python3"
  },
  "language_info": {
   "codemirror_mode": {
    "name": "ipython",
    "version": 3
   },
   "file_extension": ".py",
   "mimetype": "text/x-python",
   "name": "python",
   "nbconvert_exporter": "python",
   "pygments_lexer": "ipython3",
   "version": "3.11.7"
  }
 },
 "nbformat": 4,
 "nbformat_minor": 5
}
