{
 "cells": [
  {
   "cell_type": "markdown",
   "id": "1605d5ef",
   "metadata": {},
   "source": [
    "## **NER (Named Entity Recognition)**\n",
    "\n",
    "---\n",
    "\n",
    "###  **What is NER?**\n",
    "\n",
    "**NER (Named Entity Recognition)** means **finding and labeling important names** in a sentence, such as:\n",
    "\n",
    "* People\n",
    "* Organizations\n",
    "* Places\n",
    "* Dates\n",
    "* Money\n",
    "* Events\n",
    "\n",
    "🔸 **Example:**\n",
    "\n",
    "```text\n",
    "Apple was founded by Steve Jobs in California in 1976.\n",
    "```\n",
    "\n",
    "**Entities found:**\n",
    "\n",
    "* **Apple** → Organization\n",
    "* **Steve Jobs** → Person\n",
    "* **California** → Location\n",
    "* **1976** → Date\n",
    "\n",
    "---\n",
    "\n",
    "### **Why is it Needed?**\n",
    "\n",
    "* Helps extract **important information**\n",
    "* Useful in **search engines, chatbots, news filtering, etc.**\n",
    "* Helps identify **who**, **what**, **where**, and **when** in text\n",
    "\n",
    "---\n",
    "### **Common Entity Labels:**\n",
    "\n",
    "| Label   | Meaning              |\n",
    "| ------- | -------------------- |\n",
    "| PERSON  | Person names         |\n",
    "| ORG     | Organization names   |\n",
    "| GPE     | Country/City/State   |\n",
    "| DATE    | Dates                |\n",
    "| TIME    | Time                 |\n",
    "| MONEY   | Monetary values      |\n",
    "| LOC     | Non-political places |\n",
    "| PRODUCT | Product names        |\n",
    "| EVENT   | Named events         |\n",
    "\n",
    "---\n",
    "\n",
    "### **Summary:**\n",
    "\n",
    "* **NER identifies real-world named things in text**\n",
    "* spaCy makes it easy using `.ents`\n",
    "* It’s useful for extracting key data from unstructured text\n"
   ]
  },
  {
   "cell_type": "markdown",
   "id": "09550bca",
   "metadata": {},
   "source": [
    "## **Real-World Examples of NER Usage**\n",
    "\n",
    "---\n",
    "\n",
    "### 1. **News Article Tagging**\n",
    "\n",
    "🔹 **Example Text**:\n",
    "\n",
    "> \"Elon Musk announced that Tesla will build a new Gigafactory in Berlin by 2025.\"\n",
    "\n",
    "🔹 **NER Extracts**:\n",
    "\n",
    "* **Elon Musk** → PERSON\n",
    "* **Tesla** → ORG\n",
    "* **Berlin** → GPE (GPE refers to countries, cities, states, or other politically defined locations.)\n",
    "* **2025** → DATE\n",
    "\n",
    "🔸 **Usefulness**:\n",
    "Helps news platforms **auto-tag** articles with people, places, and companies for easy search and recommendation.\n",
    "\n",
    "---\n",
    "\n",
    "### 2. **Customer Support Chatbots**\n",
    "\n",
    "🔹 **Customer says**:\n",
    "\n",
    "> \"I ordered an iPhone 14 from New York last Friday but haven’t received it.\"\n",
    "\n",
    "🔹 **NER Extracts**:\n",
    "\n",
    "* **iPhone 14** → PRODUCT\n",
    "* **New York** → GPE\n",
    "* **last Friday** → DATE\n",
    "\n",
    "🔸 **Usefulness**:\n",
    "The chatbot uses entities to **understand the issue context** and route it faster.\n",
    "\n",
    "---\n",
    "\n",
    "### 3. **Resumé Screening**\n",
    "\n",
    "🔹 **Example Text**:\n",
    "\n",
    "> \"Worked at Google and Microsoft, completed BSc from MIT, currently living in Dhaka.\"\n",
    "\n",
    "🔹 **NER Extracts**:\n",
    "\n",
    "* **Google**, **Microsoft** → ORG\n",
    "* **MIT** → ORG\n",
    "* **Dhaka** → GPE\n",
    "\n",
    "🔸 **Usefulness**:\n",
    "Helps companies **auto-extract education, companies, and locations** from hundreds of resumés.\n",
    "\n",
    "---\n",
    "\n",
    "### 4. **Medical Report Analysis**\n",
    "\n",
    "🔹 **Doctor’s Notes**:\n",
    "\n",
    "> \"Patient diagnosed with diabetes and prescribed Metformin by Dr. Smith at Green Valley Hospital.\"\n",
    "\n",
    "🔹 **NER Extracts**:\n",
    "\n",
    "* **diabetes** → DISEASE (with custom model)\n",
    "* **Metformin** → DRUG\n",
    "* **Dr. Smith** → PERSON\n",
    "* **Green Valley Hospital** → ORG\n",
    "\n",
    "🔸 **Usefulness**:\n",
    "Used in **healthcare analytics** to track diseases, medicines, and doctors from thousands of reports.\n",
    "\n",
    "---\n",
    "\n",
    "### 5. **Financial Document Analysis**\n",
    "\n",
    "🔹 **Financial News**:\n",
    "\n",
    "> \"Amazon’s shares rose 3% after its Q2 earnings beat expectations in July 2024.\"\n",
    "\n",
    "🔹 **NER Extracts**:\n",
    "\n",
    "* **Amazon** → ORG\n",
    "* **3%** → PERCENT\n",
    "* **Q2** → DATE\n",
    "* **July 2024** → DATE\n",
    "\n",
    "🔸 **Usefulness**:\n",
    "Used by **investors** to extract data from **news, reports, and earnings statements** automatically.\n",
    "\n",
    "---\n",
    "\n",
    "## **Summary:**\n",
    "\n",
    "| Industry         | Use of NER                              |\n",
    "| ---------------- | --------------------------------------- |\n",
    "| News & Media     | Auto-tag articles and summaries         |\n",
    "| Customer Support | Understand issues and context           |\n",
    "| HR & Recruitment | Extract skills, education, companies    |\n",
    "| Healthcare       | Analyze patient data                    |\n",
    "| Finance          | Track companies, money, and performance |\n",
    "\n",
    "---\n",
    "\n"
   ]
  },
  {
   "cell_type": "markdown",
   "id": "f2d235a4",
   "metadata": {},
   "source": [
    "### **How to Do It with spaCy:**"
   ]
  },
  {
   "cell_type": "code",
   "execution_count": 1,
   "id": "360a9235",
   "metadata": {},
   "outputs": [],
   "source": [
    "import spacy\n",
    "\n",
    "# Load the model\n",
    "nlp = spacy.load(\"en_core_web_sm\")"
   ]
  },
  {
   "cell_type": "code",
   "execution_count": 2,
   "id": "914f0b03",
   "metadata": {},
   "outputs": [
    {
     "data": {
      "text/plain": [
       "['tok2vec', 'tagger', 'parser', 'attribute_ruler', 'lemmatizer', 'ner']"
      ]
     },
     "execution_count": 2,
     "metadata": {},
     "output_type": "execute_result"
    }
   ],
   "source": [
    "nlp.pipe_names"
   ]
  },
  {
   "cell_type": "code",
   "execution_count": 2,
   "id": "8dcb1f72",
   "metadata": {},
   "outputs": [],
   "source": [
    "# Input text\n",
    "text = \"Barack Obama was born in Hawaii and became the president of the United States.\"\n",
    "\n",
    "# Process the text\n",
    "doc = nlp(text)"
   ]
  },
  {
   "cell_type": "code",
   "execution_count": 3,
   "id": "fe52dc35",
   "metadata": {},
   "outputs": [
    {
     "data": {
      "text/plain": [
       "(Barack Obama, Hawaii, the United States)"
      ]
     },
     "execution_count": 3,
     "metadata": {},
     "output_type": "execute_result"
    }
   ],
   "source": [
    "doc.ents"
   ]
  },
  {
   "cell_type": "code",
   "execution_count": 11,
   "id": "1a038a59",
   "metadata": {},
   "outputs": [
    {
     "name": "stdout",
     "output_type": "stream",
     "text": [
      "Barack Obama --> PERSON\n",
      "Hawaii --> GPE\n",
      "the United States --> GPE\n"
     ]
    }
   ],
   "source": [
    "# Print named entities\n",
    "for ent in doc.ents:\n",
    "    print(ent.text,\"-->\" ,ent.label_)\n"
   ]
  },
  {
   "cell_type": "markdown",
   "id": "5efd0ee5",
   "metadata": {},
   "source": [
    "### **`for ent in doc.ents:`**\n",
    "\n",
    "* This **loops through all named entities** that spaCy has detected in the `doc` (your processed text).\n",
    "* `doc.ents` is a list-like container of named entities (like names of people, places, organizations, dates, etc.).\n",
    "\n",
    "---\n",
    "\n",
    "### **`ent`**\n",
    "\n",
    "* Each `ent` is a **Span object** representing one named entity in the text.\n",
    "* It contains the actual text of the entity and its label (type/category).\n",
    "\n",
    "---\n",
    "\n",
    "### **`ent.text`**\n",
    "\n",
    "* This extracts the **actual text** of the named entity.\n",
    "* Example: `\"Barack Obama\"`, `\"Hawaii\"`, etc.\n",
    "\n",
    "---\n",
    "\n",
    "### **`ent.label_`**\n",
    "\n",
    "* This gives the **label/category** of the entity.\n",
    "* Example labels:\n",
    "\n",
    "  * `PERSON` → a person's name\n",
    "  * `GPE` → a country, city, or state\n",
    "  * `ORG` → organization\n",
    "  * `DATE` → date expression\n",
    "\n",
    "---\n",
    "\n",
    "### **`print(ent.text, \"-->\", ent.label_)`**\n",
    "\n",
    "* This prints the entity text, followed by an arrow, then its label.\n",
    "* Example output:\n",
    "\n",
    "  ```\n",
    "  Barack Obama --> PERSON\n",
    "  Hawaii --> GPE\n",
    "  ```\n",
    "\n",
    "---\n"
   ]
  },
  {
   "cell_type": "code",
   "execution_count": 14,
   "id": "69af0a0b",
   "metadata": {},
   "outputs": [
    {
     "data": {
      "text/html": [
       "<span class=\"tex2jax_ignore\"><div class=\"entities\" style=\"line-height: 2.5; direction: ltr\">\n",
       "<mark class=\"entity\" style=\"background: #aa9cfc; padding: 0.45em 0.6em; margin: 0 0.25em; line-height: 1; border-radius: 0.35em;\">\n",
       "    Barack Obama\n",
       "    <span style=\"font-size: 0.8em; font-weight: bold; line-height: 1; border-radius: 0.35em; vertical-align: middle; margin-left: 0.5rem\">PERSON</span>\n",
       "</mark>\n",
       " was born in \n",
       "<mark class=\"entity\" style=\"background: #feca74; padding: 0.45em 0.6em; margin: 0 0.25em; line-height: 1; border-radius: 0.35em;\">\n",
       "    Hawaii\n",
       "    <span style=\"font-size: 0.8em; font-weight: bold; line-height: 1; border-radius: 0.35em; vertical-align: middle; margin-left: 0.5rem\">GPE</span>\n",
       "</mark>\n",
       " and became the president of \n",
       "<mark class=\"entity\" style=\"background: #feca74; padding: 0.45em 0.6em; margin: 0 0.25em; line-height: 1; border-radius: 0.35em;\">\n",
       "    the United States\n",
       "    <span style=\"font-size: 0.8em; font-weight: bold; line-height: 1; border-radius: 0.35em; vertical-align: middle; margin-left: 0.5rem\">GPE</span>\n",
       "</mark>\n",
       ".</div></span>"
      ],
      "text/plain": [
       "<IPython.core.display.HTML object>"
      ]
     },
     "metadata": {},
     "output_type": "display_data"
    }
   ],
   "source": [
    "from spacy import displacy\n",
    "displacy.render(doc, style=\"ent\")"
   ]
  },
  {
   "cell_type": "markdown",
   "id": "48809740",
   "metadata": {},
   "source": [
    "### **More Examples**"
   ]
  },
  {
   "cell_type": "code",
   "execution_count": 15,
   "id": "2c45bbfa",
   "metadata": {},
   "outputs": [],
   "source": [
    "text=\"\"\"Elon Musk acquired Twitter (now X) for $44 billion. This deal, which took place in October 2022, \n",
    "                  saw Musk take ownership of the social media platform for $54.20 per share. \"\"\""
   ]
  },
  {
   "cell_type": "code",
   "execution_count": 16,
   "id": "534b84d8",
   "metadata": {},
   "outputs": [],
   "source": [
    "doc=nlp(text)"
   ]
  },
  {
   "cell_type": "code",
   "execution_count": null,
   "id": "94d88cf4",
   "metadata": {},
   "outputs": [
    {
     "name": "stdout",
     "output_type": "stream",
     "text": [
      "Elon Musk --> PERSON\n",
      "Twitter --> PERSON\n",
      "$44 billion --> MONEY\n",
      "October 2022 --> DATE\n",
      "54.20 --> MONEY\n"
     ]
    }
   ],
   "source": [
    "for ent in doc.ents:\n",
    "    print(ent.text, \"-->\" , ent.label_)"
   ]
  },
  {
   "cell_type": "code",
   "execution_count": 25,
   "id": "c8d900d3",
   "metadata": {},
   "outputs": [
    {
     "data": {
      "text/plain": [
       "Elon Musk acquired Twitter"
      ]
     },
     "execution_count": 25,
     "metadata": {},
     "output_type": "execute_result"
    }
   ],
   "source": [
    "span= doc[0:4]\n",
    "span"
   ]
  },
  {
   "cell_type": "code",
   "execution_count": 26,
   "id": "d592c150",
   "metadata": {},
   "outputs": [
    {
     "data": {
      "text/plain": [
       "spacy.tokens.span.Span"
      ]
     },
     "execution_count": 26,
     "metadata": {},
     "output_type": "execute_result"
    }
   ],
   "source": [
    "type(span)"
   ]
  },
  {
   "cell_type": "code",
   "execution_count": 30,
   "id": "7d0e5d25",
   "metadata": {},
   "outputs": [],
   "source": [
    "from spacy.tokens import Span"
   ]
  },
  {
   "cell_type": "code",
   "execution_count": 36,
   "id": "2cae0ec8",
   "metadata": {},
   "outputs": [
    {
     "name": "stdout",
     "output_type": "stream",
     "text": [
      "Twitter\n"
     ]
    }
   ],
   "source": [
    "s1 = Span(doc, 3,4)  # Create a span from token 0 to token 1 (not inclusive)\n",
    "print(s1.text)\n"
   ]
  },
  {
   "cell_type": "code",
   "execution_count": 39,
   "id": "e46c1809",
   "metadata": {},
   "outputs": [
    {
     "name": "stdout",
     "output_type": "stream",
     "text": [
      "Twitter\n"
     ]
    }
   ],
   "source": [
    "s1 = Span(doc, 3,4 , label=\"ORG\")  # Create a span from token 0 to token 1 (not inclusive)\n",
    "print(s1)"
   ]
  },
  {
   "cell_type": "code",
   "execution_count": 42,
   "id": "f965b11f",
   "metadata": {},
   "outputs": [],
   "source": [
    "doc.set_ents([s1], default=\"unmodified\")"
   ]
  },
  {
   "cell_type": "code",
   "execution_count": 43,
   "id": "fd246b36",
   "metadata": {},
   "outputs": [
    {
     "name": "stdout",
     "output_type": "stream",
     "text": [
      "Elon Musk --> PERSON\n",
      "Twitter --> ORG\n",
      "$44 billion --> MONEY\n",
      "October 2022 --> DATE\n",
      "54.20 --> MONEY\n"
     ]
    }
   ],
   "source": [
    "for ent in doc.ents:\n",
    "    print(ent.text, \"-->\" , ent.label_)"
   ]
  }
 ],
 "metadata": {
  "kernelspec": {
   "display_name": "Python 3",
   "language": "python",
   "name": "python3"
  },
  "language_info": {
   "codemirror_mode": {
    "name": "ipython",
    "version": 3
   },
   "file_extension": ".py",
   "mimetype": "text/x-python",
   "name": "python",
   "nbconvert_exporter": "python",
   "pygments_lexer": "ipython3",
   "version": "3.10.16"
  }
 },
 "nbformat": 4,
 "nbformat_minor": 5
}
