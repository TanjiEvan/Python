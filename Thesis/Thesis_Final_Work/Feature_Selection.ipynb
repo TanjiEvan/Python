{
 "cells": [
  {
   "cell_type": "markdown",
   "metadata": {},
   "source": [
    "# **Phase:2 Feature Selection**"
   ]
  },
  {
   "cell_type": "code",
   "execution_count": 1,
   "metadata": {},
   "outputs": [],
   "source": [
    "import pandas as pd\n",
    "\n",
    "df_encoded = pd.read_csv(\"cleaned_dataset.csv\")\n"
   ]
  },
  {
   "cell_type": "markdown",
   "metadata": {},
   "source": [
    "**Information Gain Calculation**"
   ]
  },
  {
   "cell_type": "code",
   "execution_count": 2,
   "metadata": {},
   "outputs": [],
   "source": [
    "X = df_encoded.drop(columns=[\"Target\"])  # All features except Target\n",
    "y = df_encoded[\"Target\"]  # Target variable"
   ]
  },
  {
   "cell_type": "code",
   "execution_count": 3,
   "metadata": {},
   "outputs": [
    {
     "name": "stdout",
     "output_type": "stream",
     "text": [
      "✅ IG Calculation Completed!\n",
      "                   Feature  Information Gain\n",
      "0                       pH          0.090183\n",
      "1     Color_Near Colorless          0.080836\n",
      "2                Manganese          0.070980\n",
      "3                Turbidity          0.056685\n",
      "4                 Chloride          0.054655\n",
      "5                   Copper          0.052396\n",
      "6                     Odor          0.051209\n",
      "7       Color_Faint Yellow          0.046724\n",
      "8             Color_Yellow          0.043236\n",
      "9                  Nitrate          0.042416\n",
      "10                Chlorine          0.041500\n",
      "11                Fluoride          0.041020\n",
      "12                    Iron          0.040132\n",
      "13  Total Dissolved Solids          0.035176\n",
      "14      Color_Light Yellow          0.033709\n",
      "15                 Sulfate          0.032870\n",
      "16             Source_Well          0.030178\n",
      "17             Time of Day          0.025906\n",
      "18           Source_Stream          0.025121\n",
      "19             Source_Lake          0.025049\n",
      "20            Source_River          0.024871\n",
      "21        Source_Reservoir          0.024866\n",
      "22           Source_Ground          0.024676\n",
      "23           Source_Spring          0.024674\n",
      "24                    Zinc          0.022436\n",
      "25                     Day          0.019439\n",
      "26               Month_May          0.017137\n",
      "27       Water Temperature          0.012420\n",
      "28         Air Temperature          0.012419\n",
      "29            Month_August          0.012413\n",
      "30            Conductivity          0.012357\n",
      "31          Month_December          0.012285\n",
      "32             Month_March          0.012260\n",
      "33           Month_October          0.012234\n",
      "34              Month_July          0.012015\n",
      "35           Month_January          0.011943\n",
      "36          Month_November          0.011574\n",
      "37              Month_June          0.011232\n",
      "38         Month_September          0.011189\n",
      "39          Month_February          0.010067\n",
      "40                    Lead          0.004520\n"
     ]
    }
   ],
   "source": [
    "from sklearn.feature_selection import mutual_info_classif\n",
    "\n",
    "# Compute Information Gain (IG)\n",
    "ig_scores = mutual_info_classif(X, y, random_state=42, n_jobs=-1)  # Parallel Processing\n",
    "\n",
    "# Create a DataFrame to Store IG Values\n",
    "ig_df = pd.DataFrame({\"Feature\": X.columns, \"Information Gain\": ig_scores})\n",
    "\n",
    "#  Sort Features by IG Score (Descending Order)\n",
    "ig_df = ig_df.sort_values(by=\"Information Gain\", ascending=False).reset_index(drop=True)\n",
    "\n",
    "#  Display Results\n",
    "print(\"✅ IG Calculation Completed!\")\n",
    "print(ig_df)\n"
   ]
  },
  {
   "cell_type": "code",
   "execution_count": 4,
   "metadata": {},
   "outputs": [
    {
     "name": "stdout",
     "output_type": "stream",
     "text": [
      "✅ IG Calculation Results Saved Successfully as thesis_main_ig_calculation.csv!\n"
     ]
    }
   ],
   "source": [
    "# Save IG results to CSV\n",
    "ig_df.to_csv(\"thesis_main_ig_calculation.csv\", index=False)\n",
    "\n",
    "print(\"✅ IG Calculation Results Saved Successfully as thesis_main_ig_calculation.csv!\")\n"
   ]
  },
  {
   "cell_type": "markdown",
   "metadata": {},
   "source": [
    "## **Paper Implementation (For Selecting IG Method)**"
   ]
  },
  {
   "cell_type": "markdown",
   "metadata": {},
   "source": [
    "**Fixed Threshold Method**"
   ]
  },
  {
   "cell_type": "code",
   "execution_count": 3,
   "metadata": {},
   "outputs": [],
   "source": [
    "import numpy as np"
   ]
  },
  {
   "cell_type": "code",
   "execution_count": 7,
   "metadata": {},
   "outputs": [
    {
     "name": "stdout",
     "output_type": "stream",
     "text": [
      "\n",
      "✅ Features Selected by Fixed Threshold Method (Median-Based):\n",
      "['pH' 'Color_Near Colorless' 'Manganese' 'Turbidity' 'Chloride' 'Copper'\n",
      " 'Odor' 'Color_Faint Yellow' 'Color_Yellow' 'Nitrate' 'Chlorine'\n",
      " 'Fluoride' 'Iron' 'Total Dissolved Solids' 'Color_Light Yellow' 'Sulfate'\n",
      " 'Source_Well' 'Time of Day' 'Source_Stream' 'Source_Lake' 'Source_River']\n",
      "📌 Number of Features Selected: 21\n"
     ]
    }
   ],
   "source": [
    "# Use the 50th percentile (median) as the fixed threshold\n",
    "fixed_threshold = np.percentile(ig_df[\"Information Gain\"], 50)  \n",
    "\n",
    "# Select features with IG >= fixed threshold\n",
    "selected_features_fixed = ig_df.loc[ig_df[\"Information Gain\"] >= fixed_threshold, \"Feature\"].values\n",
    "\n",
    "# Display Results\n",
    "print(\"\\n✅ Features Selected by Fixed Threshold Method (Median-Based):\")\n",
    "print(selected_features_fixed)\n",
    "print(f\"📌 Number of Features Selected: {len(selected_features_fixed)}\")\n"
   ]
  },
  {
   "cell_type": "markdown",
   "metadata": {},
   "source": [
    "**Standard Deviation-Based Threshold Approach**"
   ]
  },
  {
   "cell_type": "code",
   "execution_count": 8,
   "metadata": {},
   "outputs": [
    {
     "name": "stdout",
     "output_type": "stream",
     "text": [
      "\n",
      "✅ Features Selected by Standard Deviation Threshold Method:\n",
      "['pH' 'Color_Near Colorless' 'Manganese' 'Turbidity' 'Chloride' 'Copper'\n",
      " 'Odor' 'Color_Faint Yellow' 'Color_Yellow' 'Nitrate' 'Chlorine'\n",
      " 'Fluoride' 'Iron' 'Total Dissolved Solids' 'Color_Light Yellow' 'Sulfate'\n",
      " 'Source_Well' 'Time of Day' 'Source_Stream' 'Source_Lake' 'Source_River'\n",
      " 'Source_Reservoir' 'Source_Ground' 'Source_Spring' 'Zinc']\n",
      "📌 Number of Features Selected: 25\n"
     ]
    }
   ],
   "source": [
    "# Calculate the threshold as the standard deviation of IG values\n",
    "std_threshold = ig_df[\"Information Gain\"].std()\n",
    "\n",
    "# Select features with IG >= standard deviation threshold\n",
    "selected_features_std = ig_df.loc[ig_df[\"Information Gain\"] >= std_threshold, \"Feature\"].values\n",
    "\n",
    "# Display Results\n",
    "print(\"\\n✅ Features Selected by Standard Deviation Threshold Method:\")\n",
    "print(selected_features_std)\n",
    "print(f\"📌 Number of Features Selected: {len(selected_features_std)}\")\n"
   ]
  },
  {
   "cell_type": "markdown",
   "metadata": {},
   "source": [
    "**CBFS Method**"
   ]
  },
  {
   "cell_type": "code",
   "execution_count": 9,
   "metadata": {},
   "outputs": [
    {
     "name": "stdout",
     "output_type": "stream",
     "text": [
      "\n",
      "✅ Features Selected by CBFS Method:\n",
      "Index(['pH', 'Iron', 'Nitrate', 'Chloride', 'Zinc', 'Turbidity', 'Fluoride',\n",
      "       'Copper', 'Odor', 'Sulfate', 'Chlorine', 'Manganese',\n",
      "       'Total Dissolved Solids'],\n",
      "      dtype='object')\n",
      "📌 Number of Features Selected: 13\n"
     ]
    }
   ],
   "source": [
    "from sklearn.ensemble import RandomForestClassifier\n",
    "from sklearn.feature_selection import SelectFromModel\n",
    "\n",
    "# Train Random Forest on the dataset\n",
    "rf = RandomForestClassifier(n_estimators=100, max_features=\"sqrt\", random_state=42, n_jobs=-1)\n",
    "rf.fit(X, y)\n",
    "\n",
    "# Apply CBFS: Select features with importance >= mean importance\n",
    "cbfs = SelectFromModel(rf, threshold=\"mean\", prefit=False)\n",
    "cbfs.fit(X, y)  # Fit before selecting features\n",
    "selected_features_cbfs = X.columns[cbfs.get_support()]\n",
    "\n",
    "# Display Results\n",
    "print(\"\\n✅ Features Selected by CBFS Method:\")\n",
    "print(selected_features_cbfs)\n",
    "print(f\"📌 Number of Features Selected: {len(selected_features_cbfs)}\")\n"
   ]
  },
  {
   "cell_type": "markdown",
   "metadata": {},
   "source": [
    "**FFT Method**"
   ]
  },
  {
   "cell_type": "code",
   "execution_count": 4,
   "metadata": {},
   "outputs": [
    {
     "name": "stdout",
     "output_type": "stream",
     "text": [
      "\n",
      "Features Selected by FFT with Proposed Threshold:\n",
      "Index(['Color_Faint Yellow', 'Color_Light Yellow', 'Color_Near Colorless',\n",
      "       'Color_Yellow', 'Source_Ground', 'Source_Lake', 'Source_Reservoir',\n",
      "       'Source_River', 'Source_Spring', 'Source_Stream', 'Source_Well',\n",
      "       'Month_August', 'Month_December', 'Month_February', 'Month_January',\n",
      "       'Month_July', 'Month_June', 'Month_March', 'Month_May',\n",
      "       'Month_November', 'Month_October', 'Month_September'],\n",
      "      dtype='object')\n",
      "Number of Features: 22\n"
     ]
    }
   ],
   "source": [
    "from scipy.fft import fft, ifft\n",
    "from sklearn.feature_selection import mutual_info_classif\n",
    "import numpy as np\n",
    "\n",
    "# Step 1: Apply FFT transformation to the dataset (keeping real part)\n",
    "X_fft = fft(X, axis=0).real  \n",
    "\n",
    "# Step 2: Apply IFFT to bring the data back to original form\n",
    "X_ifft = ifft(X_fft, axis=0).real  \n",
    "\n",
    "# Step 3: Compute Information Gain (IG) on transformed data\n",
    "information_gain_fft = mutual_info_classif(X_ifft, y, random_state=42, n_jobs=-1)\n",
    "\n",
    "# Step 4: Compute standard deviation threshold\n",
    "fft_threshold = np.std(information_gain_fft)  \n",
    "\n",
    "# Step 5: Select features with IG >= threshold\n",
    "selected_features_fft = X.columns[information_gain_fft >= fft_threshold]\n",
    "\n",
    "print(\"\\nFeatures Selected by FFT with Proposed Threshold:\")\n",
    "print(selected_features_fft)\n",
    "print(f\"Number of Features: {len(selected_features_fft)}\")\n"
   ]
  },
  {
   "cell_type": "markdown",
   "metadata": {},
   "source": [
    "\n",
    "---\n",
    "\n",
    "# **Feature Selection Analysis Summary**  \n",
    "\n",
    "We applied four different **Information Gain (IG)-based** feature selection methods, each emphasizing different types of features. Below is a structured analysis of their outcomes and the next steps.  \n",
    "\n",
    "---\n",
    "\n",
    "## **🔍 Overview of Selected Features**  \n",
    "\n",
    "| **Method**                         | **Selected Features** | **Key Characteristics** |\n",
    "|------------------------------------|----------------------|-------------------------|\n",
    "| **Fixed Threshold (Median-Based)** | 21 features         | Focuses on **chemical properties** (`pH`, `Iron`, `Nitrate`, etc.), with some categorical (`Color_*`, `Source_*`). |\n",
    "| **Standard Deviation-Based Threshold** | 25 features     | Similar to Fixed Threshold but includes additional **source-based** features (`Source_*`). |\n",
    "| **CBFS (Random Forest-Based)**      | 13 features         | Strictly **chemical-based**, ignoring categorical/time-related variables. |\n",
    "| **FFT-Based Selection**            | 22 features         | Prioritizes **categorical (`Color`, `Source`) & temporal (`Month_*`) features**, ignoring key chemical indicators. |\n",
    "\n",
    "---\n",
    "\n",
    "## **📌 Key Observations & Trends**  \n",
    "\n",
    "### ✅ **What’s Being Prioritized?**  \n",
    "\n",
    "✔ **Fixed & Std-Dev Threshold-Based Selection:**  \n",
    "   - Prioritize **core water quality indicators** (`pH`, `Iron`, `Nitrate`, `Turbidity`).  \n",
    "   - Include some categorical variables (`Color_*`, `Source_*`).  \n",
    "\n",
    "✔ **CBFS (Random Forest-Based):**  \n",
    "   - Selects **only chemical properties**, emphasizing direct pollutant measurements.  \n",
    "\n",
    "✔ **FFT-Based Selection:**  \n",
    "   - Detects **seasonal patterns & categorical dependencies**, prioritizing `Month_*` and `Source_*` over chemical values.  \n",
    "\n",
    "---\n",
    "\n",
    "### ⚠️ **What’s Being Ignored?**  \n",
    "\n",
    "❌ **CBFS & Threshold-Based Methods:**  \n",
    "   - **Completely ignore** time-based (`Month_*`) and source-based (`Source_*`) variables, potentially **missing seasonal variations**.  \n",
    "\n",
    "❌ **FFT-Based Selection:**  \n",
    "   - **Fails to capture key chemical indicators** (e.g., `pH`, `Iron`, `Nitrate`), likely because **chemical values don’t follow strong periodic patterns**.  \n",
    "\n",
    "---\n",
    "\n",
    "## **🚀 Next Steps & Implementation Plan**  \n",
    "\n",
    "🔹 **Step 1:** Utilize all four Feature Selection (FS) methods.  \n",
    "🔹 **Step 2:** Convert selected features following the approach outlined in the reference paper.  \n",
    "🔹 **Step 3:** Apply machine learning models to all feature sets and compare their initial performance.  \n",
    "🔹 **Step 4:** Analyze performance trends and refine the best FS method for further improvements.  \n",
    "\n",
    "---\n"
   ]
  }
 ],
 "metadata": {
  "kernelspec": {
   "display_name": "Python 3",
   "language": "python",
   "name": "python3"
  },
  "language_info": {
   "codemirror_mode": {
    "name": "ipython",
    "version": 3
   },
   "file_extension": ".py",
   "mimetype": "text/x-python",
   "name": "python",
   "nbconvert_exporter": "python",
   "pygments_lexer": "ipython3",
   "version": "3.10.16"
  }
 },
 "nbformat": 4,
 "nbformat_minor": 2
}
