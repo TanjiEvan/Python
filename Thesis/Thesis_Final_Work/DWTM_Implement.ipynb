{
 "cells": [
  {
   "cell_type": "code",
   "execution_count": 1,
   "metadata": {},
   "outputs": [
    {
     "name": "stdout",
     "output_type": "stream",
     "text": [
      "\n",
      "✅ Cleaned Dataset Loaded Successfully!\n",
      "📌 Dataset Shape: (4524526, 42)\n",
      "📝 First 5 Rows:\n",
      "         pH      Iron   Nitrate    Chloride           Lead      Zinc  \\\n",
      "0  8.332988  0.000083  8.605777  122.799772   3.713298e-52  3.434827   \n",
      "1  6.917863  0.000081  3.734167  227.029851   7.849262e-94  1.245317   \n",
      "2  5.443762  0.020106  3.816994  230.995630   5.286616e-76  0.528280   \n",
      "3  7.955339  0.143988  8.224944  178.129940  3.997118e-176  4.027879   \n",
      "4  8.091909  0.002167  9.925788  186.540872  4.171069e-132  3.807511   \n",
      "\n",
      "   Turbidity  Fluoride    Copper      Odor  ...  Month_December  \\\n",
      "0   0.022683  0.607283  0.144599  1.626212  ...           False   \n",
      "1   0.019007  0.622874  0.437835  1.686049  ...           False   \n",
      "2   0.319956  0.423423  0.431588  3.414619  ...           False   \n",
      "3   0.166319  0.208454  0.239451  1.769302  ...           False   \n",
      "4   0.004867  0.222912  0.616574  0.795310  ...           False   \n",
      "\n",
      "   Month_February  Month_January  Month_July  Month_June  Month_March  \\\n",
      "0           False           True       False       False        False   \n",
      "1           False          False       False       False        False   \n",
      "2           False           True       False       False        False   \n",
      "3           False          False       False       False        False   \n",
      "4           False          False       False        True        False   \n",
      "\n",
      "   Month_May  Month_November  Month_October  Month_September  \n",
      "0      False           False          False            False  \n",
      "1      False            True          False            False  \n",
      "2      False           False          False            False  \n",
      "3      False           False          False            False  \n",
      "4      False           False          False            False  \n",
      "\n",
      "[5 rows x 42 columns]\n"
     ]
    }
   ],
   "source": [
    "import pandas as pd\n",
    "import os\n",
    "\n",
    "# Load the cleaned dataset\n",
    "df_cleaned = pd.read_csv(\"cleaned_dataset.csv\")\n",
    "\n",
    "# Display basic info for verification\n",
    "print(\"\\n✅ Cleaned Dataset Loaded Successfully!\")\n",
    "print(\"📌 Dataset Shape:\", df_cleaned.shape)\n",
    "print(\"📝 First 5 Rows:\")\n",
    "print(df_cleaned.head())\n"
   ]
  },
  {
   "cell_type": "code",
   "execution_count": 2,
   "metadata": {},
   "outputs": [
    {
     "name": "stdout",
     "output_type": "stream",
     "text": [
      "\n",
      "📊 **Verification - Normalized Dataset Summary:**\n",
      "      pH  Iron  Nitrate  Chloride  Lead  Zinc  Turbidity  Fluoride  Copper  \\\n",
      "min  0.0   0.0      0.0       0.0   0.0   0.0        0.0       0.0     0.0   \n",
      "max  1.0   1.0      1.0       1.0   1.0   1.0        1.0       1.0     1.0   \n",
      "\n",
      "     Odor  Sulfate  Conductivity  Chlorine  Manganese  Total Dissolved Solids  \\\n",
      "min   0.0      0.0           0.0       0.0        0.0                     0.0   \n",
      "max   1.0      1.0           1.0       1.0        1.0                     1.0   \n",
      "\n",
      "     Water Temperature  Air Temperature  Day  Time of Day  \n",
      "min                0.0              0.0  0.0          0.0  \n",
      "max                1.0              1.0  1.0          1.0  \n",
      "\n",
      "✅ Entire Dataset Normalized & Saved as 'normalized_dataset.csv'\n"
     ]
    }
   ],
   "source": [
    "from sklearn.preprocessing import MinMaxScaler\n",
    "\n",
    "# Identify numerical columns (excluding 'Target')\n",
    "num_cols = df_cleaned.select_dtypes(include=['float64', 'int64']).columns.tolist()\n",
    "num_cols.remove(\"Target\")  # Exclude target variable\n",
    "\n",
    "# Apply Min-Max Scaling\n",
    "scaler = MinMaxScaler()\n",
    "df_cleaned[num_cols] = scaler.fit_transform(df_cleaned[num_cols])\n",
    "\n",
    "# ✅ Verification: Print Min & Max values to confirm scaling\n",
    "print(\"\\n📊 **Verification - Normalized Dataset Summary:**\")\n",
    "print(df_cleaned[num_cols].describe().loc[['min', 'max']])  # Should be between 0 and 1\n",
    "\n",
    "# Save the normalized dataset\n",
    "df_cleaned.to_csv(\"normalized_dataset.csv\", index=False)\n",
    "print(\"\\n✅ Entire Dataset Normalized & Saved as 'normalized_dataset.csv'\")\n"
   ]
  },
  {
   "cell_type": "code",
   "execution_count": 3,
   "metadata": {},
   "outputs": [
    {
     "name": "stderr",
     "output_type": "stream",
     "text": [
      "Creating Folders: 100%|██████████| 42/42 [00:00<00:00, 7001.34it/s]\n",
      "Generating Images: 100%|██████████| 4524526/4524526 [13:57:19<00:00, 90.06it/s]    "
     ]
    },
    {
     "name": "stdout",
     "output_type": "stream",
     "text": [
      "\n",
      "✅ All Rows Converted to Images & Saved in 'K:\\DWTM_Images'\n"
     ]
    },
    {
     "name": "stderr",
     "output_type": "stream",
     "text": [
      "\n"
     ]
    }
   ],
   "source": [
    "import pandas as pd\n",
    "import numpy as np\n",
    "import os\n",
    "import cv2\n",
    "from tqdm import tqdm\n",
    "\n",
    "# Load the normalized dataset\n",
    "df_normalized = pd.read_csv(\"normalized_dataset.csv\")\n",
    "\n",
    "# Define the main folder for storing images on K drive\n",
    "main_folder = r\"K:\\DWTM_Images\"\n",
    "os.makedirs(main_folder, exist_ok=True)\n",
    "\n",
    "# Image Settings\n",
    "img_size = (28, 28)  # Standard size for images\n",
    "pixel_intensity_scale = 255  # Scale normalized values to pixel intensities\n",
    "\n",
    "# Iterate through each feature (column) to create subfolders\n",
    "for feature in tqdm(df_normalized.columns, desc=\"Creating Folders\"):\n",
    "    feature_folder = os.path.join(main_folder, feature)\n",
    "    os.makedirs(feature_folder, exist_ok=True)\n",
    "\n",
    "# Convert each row into an image representation\n",
    "for idx, row in tqdm(df_normalized.iterrows(), total=df_normalized.shape[0], desc=\"Generating Images\"):\n",
    "    for feature in df_normalized.columns:\n",
    "        # Create an empty image\n",
    "        img = np.ones(img_size, dtype=np.uint8) * 255  # Start with a white background\n",
    "\n",
    "        # Map feature value to pixel intensity\n",
    "        intensity = int(row[feature] * pixel_intensity_scale)  # Scale to 0-255\n",
    "\n",
    "        # Fill the image with the intensity value\n",
    "        img[:, :] = intensity\n",
    "\n",
    "        # Save the image in the corresponding feature folder on K drive\n",
    "        img_path = os.path.join(main_folder, feature, f\"{idx}.png\")\n",
    "        cv2.imwrite(img_path, img)\n",
    "\n",
    "# ✅ Image Conversion Completed!\n",
    "print(\"\\n✅ All Rows Converted to Images & Saved in 'K:\\DWTM_Images\\'\")\n"
   ]
  }
 ],
 "metadata": {
  "kernelspec": {
   "display_name": "Python 3",
   "language": "python",
   "name": "python3"
  },
  "language_info": {
   "codemirror_mode": {
    "name": "ipython",
    "version": 3
   },
   "file_extension": ".py",
   "mimetype": "text/x-python",
   "name": "python",
   "nbconvert_exporter": "python",
   "pygments_lexer": "ipython3",
   "version": "3.10.16"
  }
 },
 "nbformat": 4,
 "nbformat_minor": 2
}
